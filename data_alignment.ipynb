{
 "cells": [
  {
   "cell_type": "code",
   "execution_count": 1,
   "id": "5e8a6854",
   "metadata": {},
   "outputs": [],
   "source": [
    "import pandas as pd"
   ]
  },
  {
   "cell_type": "code",
   "execution_count": 2,
   "id": "58cdfdf9",
   "metadata": {},
   "outputs": [],
   "source": [
    "df = pd.read_excel(\"20250521_Trials for dev.xlsx\", sheet_name=\"250529_NSCLC\", skiprows=2)"
   ]
  },
  {
   "cell_type": "code",
   "execution_count": 3,
   "id": "d78d9505",
   "metadata": {},
   "outputs": [
    {
     "data": {
      "text/html": [
       "<div>\n",
       "<style scoped>\n",
       "    .dataframe tbody tr th:only-of-type {\n",
       "        vertical-align: middle;\n",
       "    }\n",
       "\n",
       "    .dataframe tbody tr th {\n",
       "        vertical-align: top;\n",
       "    }\n",
       "\n",
       "    .dataframe thead th {\n",
       "        text-align: right;\n",
       "    }\n",
       "</style>\n",
       "<table border=\"1\" class=\"dataframe\">\n",
       "  <thead>\n",
       "    <tr style=\"text-align: right;\">\n",
       "      <th></th>\n",
       "      <th>NCT_ID</th>\n",
       "      <th>Arm</th>\n",
       "      <th>to keep</th>\n",
       "      <th>Iteration</th>\n",
       "      <th>Pubmed Link</th>\n",
       "      <th>Downloaded Paper Link</th>\n",
       "      <th>Total Population</th>\n",
       "      <th>arm_n</th>\n",
       "      <th>intervention</th>\n",
       "      <th>existing?</th>\n",
       "      <th>...</th>\n",
       "      <th>need_to_be_dropped</th>\n",
       "      <th>NOTES</th>\n",
       "      <th>Unnamed: 44</th>\n",
       "      <th>Unnamed: 45</th>\n",
       "      <th>Unnamed: 46</th>\n",
       "      <th>Unnamed: 47</th>\n",
       "      <th>Unnamed: 48</th>\n",
       "      <th>Unnamed: 49</th>\n",
       "      <th>Unnamed: 50</th>\n",
       "      <th>100</th>\n",
       "    </tr>\n",
       "  </thead>\n",
       "  <tbody>\n",
       "    <tr>\n",
       "      <th>0</th>\n",
       "      <td>NCT02142738</td>\n",
       "      <td>Intervention</td>\n",
       "      <td>1.0</td>\n",
       "      <td>2025-05-29</td>\n",
       "      <td>https://pmc.ncbi.nlm.nih.gov/articles/PMC82800...</td>\n",
       "      <td>NaN</td>\n",
       "      <td>305.0</td>\n",
       "      <td>154</td>\n",
       "      <td>Pembrolizumab</td>\n",
       "      <td>0.0</td>\n",
       "      <td>...</td>\n",
       "      <td>0.0</td>\n",
       "      <td>(PD-L1) tumor proportion score of at least 50%...</td>\n",
       "      <td>NaN</td>\n",
       "      <td>NaN</td>\n",
       "      <td>NaN</td>\n",
       "      <td>NaN</td>\n",
       "      <td>NaN</td>\n",
       "      <td>NaN</td>\n",
       "      <td>NaN</td>\n",
       "      <td>NaN</td>\n",
       "    </tr>\n",
       "    <tr>\n",
       "      <th>1</th>\n",
       "      <td>NaN</td>\n",
       "      <td>Control</td>\n",
       "      <td>1.0</td>\n",
       "      <td>2025-05-29</td>\n",
       "      <td>NaN</td>\n",
       "      <td>NaN</td>\n",
       "      <td>NaN</td>\n",
       "      <td>151</td>\n",
       "      <td>platinum + pemetrexed or gemcitabine or paclit...</td>\n",
       "      <td>0.0</td>\n",
       "      <td>...</td>\n",
       "      <td>0.0</td>\n",
       "      <td>NaN</td>\n",
       "      <td>NaN</td>\n",
       "      <td>NaN</td>\n",
       "      <td>NaN</td>\n",
       "      <td>NaN</td>\n",
       "      <td>NaN</td>\n",
       "      <td>NaN</td>\n",
       "      <td>NaN</td>\n",
       "      <td>NaN</td>\n",
       "    </tr>\n",
       "    <tr>\n",
       "      <th>2</th>\n",
       "      <td>NCT02041533</td>\n",
       "      <td>Intervention</td>\n",
       "      <td>1.0</td>\n",
       "      <td>2025-05-29</td>\n",
       "      <td>https://www.nejm.org/doi/full/10.1056/NEJMoa16...</td>\n",
       "      <td>NaN</td>\n",
       "      <td>541.0</td>\n",
       "      <td>211</td>\n",
       "      <td>Nivolumab</td>\n",
       "      <td>0.0</td>\n",
       "      <td>...</td>\n",
       "      <td>0.0</td>\n",
       "      <td>8% recurrent not necessarily stage IV NSCLC</td>\n",
       "      <td>NaN</td>\n",
       "      <td>NaN</td>\n",
       "      <td>NaN</td>\n",
       "      <td>NaN</td>\n",
       "      <td>NaN</td>\n",
       "      <td>NaN</td>\n",
       "      <td>NaN</td>\n",
       "      <td>NaN</td>\n",
       "    </tr>\n",
       "    <tr>\n",
       "      <th>3</th>\n",
       "      <td>NaN</td>\n",
       "      <td>Control</td>\n",
       "      <td>1.0</td>\n",
       "      <td>2025-05-29</td>\n",
       "      <td>NaN</td>\n",
       "      <td>NaN</td>\n",
       "      <td>NaN</td>\n",
       "      <td>212</td>\n",
       "      <td>platinum-based doublet chemotherapy</td>\n",
       "      <td>0.0</td>\n",
       "      <td>...</td>\n",
       "      <td>0.0</td>\n",
       "      <td>NaN</td>\n",
       "      <td>NaN</td>\n",
       "      <td>NaN</td>\n",
       "      <td>NaN</td>\n",
       "      <td>NaN</td>\n",
       "      <td>NaN</td>\n",
       "      <td>NaN</td>\n",
       "      <td>NaN</td>\n",
       "      <td>NaN</td>\n",
       "    </tr>\n",
       "    <tr>\n",
       "      <th>4</th>\n",
       "      <td>NaN</td>\n",
       "      <td>Intervention</td>\n",
       "      <td>1.0</td>\n",
       "      <td>NaT</td>\n",
       "      <td>NaN</td>\n",
       "      <td>NaN</td>\n",
       "      <td>NaN</td>\n",
       "      <td>47</td>\n",
       "      <td>Nivolumab</td>\n",
       "      <td>NaN</td>\n",
       "      <td>...</td>\n",
       "      <td>1.0</td>\n",
       "      <td>NaN</td>\n",
       "      <td>NaN</td>\n",
       "      <td>NaN</td>\n",
       "      <td>NaN</td>\n",
       "      <td>NaN</td>\n",
       "      <td>NaN</td>\n",
       "      <td>NaN</td>\n",
       "      <td>NaN</td>\n",
       "      <td>NaN</td>\n",
       "    </tr>\n",
       "  </tbody>\n",
       "</table>\n",
       "<p>5 rows × 52 columns</p>\n",
       "</div>"
      ],
      "text/plain": [
       "        NCT_ID           Arm  to keep  Iteration  \\\n",
       "0  NCT02142738  Intervention      1.0 2025-05-29   \n",
       "1          NaN       Control      1.0 2025-05-29   \n",
       "2  NCT02041533  Intervention      1.0 2025-05-29   \n",
       "3          NaN       Control      1.0 2025-05-29   \n",
       "4          NaN  Intervention      1.0        NaT   \n",
       "\n",
       "                                         Pubmed Link Downloaded Paper Link  \\\n",
       "0  https://pmc.ncbi.nlm.nih.gov/articles/PMC82800...                   NaN   \n",
       "1                                                NaN                   NaN   \n",
       "2  https://www.nejm.org/doi/full/10.1056/NEJMoa16...                   NaN   \n",
       "3                                                NaN                   NaN   \n",
       "4                                                NaN                   NaN   \n",
       "\n",
       "   Total Population arm_n                                       intervention  \\\n",
       "0             305.0   154                                     Pembrolizumab    \n",
       "1               NaN   151  platinum + pemetrexed or gemcitabine or paclit...   \n",
       "2             541.0   211                                          Nivolumab   \n",
       "3               NaN   212                platinum-based doublet chemotherapy   \n",
       "4               NaN    47                                          Nivolumab   \n",
       "\n",
       "   existing?  ...  need_to_be_dropped  \\\n",
       "0        0.0  ...                 0.0   \n",
       "1        0.0  ...                 0.0   \n",
       "2        0.0  ...                 0.0   \n",
       "3        0.0  ...                 0.0   \n",
       "4        NaN  ...                 1.0   \n",
       "\n",
       "                                               NOTES  Unnamed: 44  \\\n",
       "0  (PD-L1) tumor proportion score of at least 50%...          NaN   \n",
       "1                                                NaN          NaN   \n",
       "2        8% recurrent not necessarily stage IV NSCLC          NaN   \n",
       "3                                                NaN          NaN   \n",
       "4                                                NaN          NaN   \n",
       "\n",
       "   Unnamed: 45  Unnamed: 46  Unnamed: 47  Unnamed: 48  Unnamed: 49  \\\n",
       "0          NaN          NaN          NaN          NaN          NaN   \n",
       "1          NaN          NaN          NaN          NaN          NaN   \n",
       "2          NaN          NaN          NaN          NaN          NaN   \n",
       "3          NaN          NaN          NaN          NaN          NaN   \n",
       "4          NaN          NaN          NaN          NaN          NaN   \n",
       "\n",
       "   Unnamed: 50  100  \n",
       "0          NaN  NaN  \n",
       "1          NaN  NaN  \n",
       "2          NaN  NaN  \n",
       "3          NaN  NaN  \n",
       "4          NaN  NaN  \n",
       "\n",
       "[5 rows x 52 columns]"
      ]
     },
     "execution_count": 3,
     "metadata": {},
     "output_type": "execute_result"
    }
   ],
   "source": [
    "df.head()"
   ]
  },
  {
   "cell_type": "code",
   "execution_count": 4,
   "id": "f8addc35",
   "metadata": {},
   "outputs": [
    {
     "data": {
      "text/plain": [
       "(96, 52)"
      ]
     },
     "execution_count": 4,
     "metadata": {},
     "output_type": "execute_result"
    }
   ],
   "source": [
    "df.shape"
   ]
  },
  {
   "cell_type": "code",
   "execution_count": 6,
   "id": "f0ca171b",
   "metadata": {},
   "outputs": [
    {
     "name": "stdout",
     "output_type": "stream",
     "text": [
      "Data saved to data/trial_data.csv with shape: (96, 53)\n",
      "Columns: ['rct_id', 'Arm', 'to keep', 'Iteration', 'Pubmed Link', 'Downloaded Paper Link', 'Total Population', 'arm_n', 'intervention', 'existing?', 'subgroup (Y/N)', 'Subgroup characteristics', 'First-in-Class', 'Next-Generation', 'EGFR_TKI', 'Platinum_Chemotherapy', 'Anti_VEGF', 'PD1_PDL1_Inhibitor', 'Antimetabolite', 'Taxane', 'Antibody', 'Placebo_Supportive-Care', 'Chemotherapy', 'Targeted_Therapy', 'Immunotherapy', 'Anti-angiogenic_Other', 'RCT_with_control_inter', 'gender_male_percent', 'age_median', 'age_mean', 'age_clean', 'no_smoker_percent', 'ecog_1', 'brain_metastase_yes', 'disease_stage_recurrent', 'disease_stage_III', 'disease_stage_IV', 'EGFR_wild', 'EGFR_positive_mutation', 'PFS_median_months', 'PFS_median_CI', 'CI', 'need_to_be_dropped', 'NOTES', 'Unnamed: 44', 'Unnamed: 45', 'Unnamed: 46', 'Unnamed: 47', 'Unnamed: 48', 'Unnamed: 49', 'Unnamed: 50', 100, 'is_target_trial']\n"
     ]
    }
   ],
   "source": [
    "# Save the processed data\n",
    "df.to_csv(\"data/trial_data.csv\", index=False)\n",
    "print(f\"Data saved to data/trial_data.csv with shape: {df.shape}\")\n",
    "print(f\"Columns: {list(df.columns)}\")"
   ]
  },
  {
   "cell_type": "code",
   "execution_count": 6,
   "id": "47bd0b47",
   "metadata": {},
   "outputs": [
    {
     "data": {
      "text/html": [
       "<div>\n",
       "<style scoped>\n",
       "    .dataframe tbody tr th:only-of-type {\n",
       "        vertical-align: middle;\n",
       "    }\n",
       "\n",
       "    .dataframe tbody tr th {\n",
       "        vertical-align: top;\n",
       "    }\n",
       "\n",
       "    .dataframe thead th {\n",
       "        text-align: right;\n",
       "    }\n",
       "</style>\n",
       "<table border=\"1\" class=\"dataframe\">\n",
       "  <thead>\n",
       "    <tr style=\"text-align: right;\">\n",
       "      <th></th>\n",
       "      <th>rct_id</th>\n",
       "      <th>Arm</th>\n",
       "      <th>to keep</th>\n",
       "      <th>Iteration</th>\n",
       "      <th>Pubmed Link</th>\n",
       "      <th>Downloaded Paper Link</th>\n",
       "      <th>Total Population</th>\n",
       "      <th>arm_n</th>\n",
       "      <th>intervention</th>\n",
       "      <th>existing?</th>\n",
       "      <th>...</th>\n",
       "      <th>need_to_be_dropped</th>\n",
       "      <th>NOTES</th>\n",
       "      <th>Unnamed: 44</th>\n",
       "      <th>Unnamed: 45</th>\n",
       "      <th>Unnamed: 46</th>\n",
       "      <th>Unnamed: 47</th>\n",
       "      <th>Unnamed: 48</th>\n",
       "      <th>Unnamed: 49</th>\n",
       "      <th>Unnamed: 50</th>\n",
       "      <th>100</th>\n",
       "    </tr>\n",
       "  </thead>\n",
       "  <tbody>\n",
       "    <tr>\n",
       "      <th>0</th>\n",
       "      <td>NCT02142738</td>\n",
       "      <td>Intervention</td>\n",
       "      <td>1.0</td>\n",
       "      <td>2025-05-29</td>\n",
       "      <td>https://pmc.ncbi.nlm.nih.gov/articles/PMC82800...</td>\n",
       "      <td>NaN</td>\n",
       "      <td>305.0</td>\n",
       "      <td>154</td>\n",
       "      <td>Pembrolizumab</td>\n",
       "      <td>0.0</td>\n",
       "      <td>...</td>\n",
       "      <td>0.0</td>\n",
       "      <td>(PD-L1) tumor proportion score of at least 50%...</td>\n",
       "      <td>NaN</td>\n",
       "      <td>NaN</td>\n",
       "      <td>NaN</td>\n",
       "      <td>NaN</td>\n",
       "      <td>NaN</td>\n",
       "      <td>NaN</td>\n",
       "      <td>NaN</td>\n",
       "      <td>NaN</td>\n",
       "    </tr>\n",
       "    <tr>\n",
       "      <th>1</th>\n",
       "      <td>NaN</td>\n",
       "      <td>Control</td>\n",
       "      <td>1.0</td>\n",
       "      <td>2025-05-29</td>\n",
       "      <td>NaN</td>\n",
       "      <td>NaN</td>\n",
       "      <td>NaN</td>\n",
       "      <td>151</td>\n",
       "      <td>platinum + pemetrexed or gemcitabine or paclit...</td>\n",
       "      <td>0.0</td>\n",
       "      <td>...</td>\n",
       "      <td>0.0</td>\n",
       "      <td>NaN</td>\n",
       "      <td>NaN</td>\n",
       "      <td>NaN</td>\n",
       "      <td>NaN</td>\n",
       "      <td>NaN</td>\n",
       "      <td>NaN</td>\n",
       "      <td>NaN</td>\n",
       "      <td>NaN</td>\n",
       "      <td>NaN</td>\n",
       "    </tr>\n",
       "  </tbody>\n",
       "</table>\n",
       "<p>2 rows × 52 columns</p>\n",
       "</div>"
      ],
      "text/plain": [
       "        rct_id           Arm  to keep  Iteration  \\\n",
       "0  NCT02142738  Intervention      1.0 2025-05-29   \n",
       "1          NaN       Control      1.0 2025-05-29   \n",
       "\n",
       "                                         Pubmed Link Downloaded Paper Link  \\\n",
       "0  https://pmc.ncbi.nlm.nih.gov/articles/PMC82800...                   NaN   \n",
       "1                                                NaN                   NaN   \n",
       "\n",
       "   Total Population arm_n                                       intervention  \\\n",
       "0             305.0   154                                     Pembrolizumab    \n",
       "1               NaN   151  platinum + pemetrexed or gemcitabine or paclit...   \n",
       "\n",
       "   existing?  ...  need_to_be_dropped  \\\n",
       "0        0.0  ...                 0.0   \n",
       "1        0.0  ...                 0.0   \n",
       "\n",
       "                                               NOTES  Unnamed: 44  \\\n",
       "0  (PD-L1) tumor proportion score of at least 50%...          NaN   \n",
       "1                                                NaN          NaN   \n",
       "\n",
       "   Unnamed: 45  Unnamed: 46  Unnamed: 47  Unnamed: 48  Unnamed: 49  \\\n",
       "0          NaN          NaN          NaN          NaN          NaN   \n",
       "1          NaN          NaN          NaN          NaN          NaN   \n",
       "\n",
       "   Unnamed: 50  100  \n",
       "0          NaN  NaN  \n",
       "1          NaN  NaN  \n",
       "\n",
       "[2 rows x 52 columns]"
      ]
     },
     "execution_count": 6,
     "metadata": {},
     "output_type": "execute_result"
    }
   ],
   "source": [
    "df.head(2)"
   ]
  },
  {
   "cell_type": "code",
   "execution_count": 4,
   "id": "f4ad1e53",
   "metadata": {},
   "outputs": [],
   "source": [
    "# renaming the NCT_ID column as rct_id\n",
    "df.rename(columns={'NCT_ID': 'rct_id'}, inplace=True)"
   ]
  },
  {
   "cell_type": "code",
   "execution_count": null,
   "id": "60cbd205",
   "metadata": {},
   "outputs": [],
   "source": []
  },
  {
   "cell_type": "code",
   "execution_count": 5,
   "id": "5b520575",
   "metadata": {},
   "outputs": [
    {
     "name": "stdout",
     "output_type": "stream",
     "text": [
      "Target trial flag created:\n",
      "is_target_trial\n",
      "0    95\n",
      "1     1\n",
      "Name: count, dtype: int64\n"
     ]
    }
   ],
   "source": [
    "# Create is_target_trial column (flag for target RCT)\n",
    "df['is_target_trial'] = df['rct_id'].apply(lambda x: 1 if x == 'NCT02578680' else 0)\n",
    "\n",
    "print(\"Target trial flag created:\")\n",
    "print(df['is_target_trial'].value_counts())"
   ]
  },
  {
   "cell_type": "code",
   "execution_count": 8,
   "id": "244ce72e",
   "metadata": {},
   "outputs": [
    {
     "data": {
      "text/plain": [
       "is_target_trial\n",
       "0    95\n",
       "1     1\n",
       "Name: count, dtype: int64"
      ]
     },
     "execution_count": 8,
     "metadata": {},
     "output_type": "execute_result"
    }
   ],
   "source": [
    "df['is_target_trial'].value_counts()"
   ]
  },
  {
   "cell_type": "code",
   "execution_count": null,
   "id": "49e91b38",
   "metadata": {},
   "outputs": [],
   "source": []
  },
  {
   "cell_type": "code",
   "execution_count": 12,
   "id": "e070690f",
   "metadata": {},
   "outputs": [],
   "source": [
    "df.to_csv(\"data/trial_data.csv\", index=False)"
   ]
  },
  {
   "cell_type": "code",
   "execution_count": null,
   "id": "f4b24a0f",
   "metadata": {},
   "outputs": [
    {
     "data": {
      "text/plain": [
       "Arm\n",
       "Intervention    1\n",
       "Name: count, dtype: int64"
      ]
     },
     "execution_count": 22,
     "metadata": {},
     "output_type": "execute_result"
    }
   ],
   "source": []
  }
 ],
 "metadata": {
  "kernelspec": {
   "display_name": "rct-lean-blx",
   "language": "python",
   "name": "python3"
  },
  "language_info": {
   "codemirror_mode": {
    "name": "ipython",
    "version": 3
   },
   "file_extension": ".py",
   "mimetype": "text/x-python",
   "name": "python",
   "nbconvert_exporter": "python",
   "pygments_lexer": "ipython3",
   "version": "3.12.10"
  }
 },
 "nbformat": 4,
 "nbformat_minor": 5
}
