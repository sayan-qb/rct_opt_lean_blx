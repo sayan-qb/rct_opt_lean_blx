{
 "cells": [
  {
   "cell_type": "markdown",
   "id": "3056fca1",
   "metadata": {},
   "source": [
    "# RCT Lean Modeling\n",
    "\n",
    "## Introduction\n",
    "\n",
    "This notebook implements the **RCT Lean modeling approach** for predicting control arm outcomes in randomized controlled trials (RCTs) using a **Leave-One-Out (LOO) protocol**. The primary goal is to develop and evaluate baseline approaches for predicting control arm performance when designing new clinical trials.\n",
    "\n",
    "### Key Methodology:\n",
    "- **Training Data**: Uses control arm data from existing RCTs to train predictive models\n",
    "- **Target**: Predicts control arm outcomes (PFS median months) for held-out trials\n",
    "- **Evaluation**: Calculates Average Treatment Effect (ATE) using intervention arm data\n",
    "- **Validation Protocol**: Leave-one-out cross-validation where each trial is predicted using all other trials\n",
    "\n",
    "This notebook compares multiple baseline approaches to establish benchmarks for more sophisticated modeling techniques."
   ]
  },
  {
   "cell_type": "markdown",
   "id": "9399740e",
   "metadata": {},
   "source": [
    "## Import Required Libraries\n",
    "\n",
    "Loading essential libraries for:\n",
    "- **Data manipulation**: pandas, numpy\n",
    "- **Statistical modeling**: statsmodels, scipy\n",
    "- **Machine learning**: sklearn, lightgbm\n",
    "- **Visualization**: plotly\n",
    "- **Configuration management**: json"
   ]
  },
  {
   "cell_type": "code",
   "execution_count": 1,
   "id": "47747b3d",
   "metadata": {},
   "outputs": [],
   "source": [
    "import pandas as pd\n",
    "import numpy as np\n",
    "import statsmodels.api as sm\n",
    "import plotly.express as px\n",
    "from scipy import stats\n",
    "from sklearn.metrics import r2_score, mean_squared_error\n",
    "from sklearn import linear_model\n",
    "import json\n",
    "import os\n",
    "%load_ext autoreload"
   ]
  },
  {
   "cell_type": "markdown",
   "id": "59789fdc",
   "metadata": {},
   "source": [
    "## Load Feature Configuration from JSON\n",
    "\n",
    "### Configuration-Driven Feature Selection\n",
    "\n",
    "This approach uses a JSON configuration file to define:\n",
    "- **Target variable**: The outcome we want to predict (PFS_median_months)\n",
    "- **Feature groups**: Organized sets of related features (demographics, biomarkers, treatments, etc.)\n",
    "- **Column mappings**: Flexible naming for trial ID, control arm indicators, etc.\n",
    "- **Interaction terms**: Pre-defined engineered features, feature combinations\n",
    "\n",
    "**Benefits of configuration-driven approach:**\n",
    "- Easy experimentation with different feature sets\n",
    "- Reproducible feature selection\n",
    "- Clear documentation of modeling choices\n",
    "- Flexible adaptation to different datasets"
   ]
  },
  {
   "cell_type": "code",
   "execution_count": 2,
   "id": "4b94f6c4",
   "metadata": {},
   "outputs": [
    {
     "name": "stdout",
     "output_type": "stream",
     "text": [
      "Target variable: PFS_median_months\n",
      "Number of features: 30\n",
      "Feature groups included:\n",
      "  - patient_demographics: 5 features\n",
      "  - disease_characteristics: 6 features\n",
      "  - drug_class: 12 features\n",
      "  - treatment_features: 7 features\n"
     ]
    }
   ],
   "source": [
    "# Load feature configuration from JSON\n",
    "config_path = os.path.join('config', 'feature_config.json')\n",
    "\n",
    "with open(config_path, 'r') as f:\n",
    "    feature_config = json.load(f)\n",
    "\n",
    "# Extract target variable name\n",
    "target_col = feature_config.get('target', 'PFS_median_months')\n",
    "\n",
    "# Determine which feature groups to use\n",
    "feature_groups_to_use = feature_config.get('feature_groups_to_use', list(feature_config['features'].keys()))\n",
    "\n",
    "# Combine selected feature groups into one list\n",
    "ftr = []\n",
    "for group in feature_groups_to_use:\n",
    "    ftr.extend(feature_config['features'].get(group, []))\n",
    "\n",
    "print(f\"Target variable: {target_col}\")\n",
    "print(f\"Number of features: {len(ftr)}\")\n",
    "print(\"Feature groups included:\")\n",
    "for group in feature_groups_to_use:\n",
    "    print(f\"  - {group}: {len(feature_config['features'].get(group, []))} features\")"
   ]
  },
  {
   "cell_type": "markdown",
   "id": "0eeb4d51",
   "metadata": {},
   "source": [
    "## Display Selected Features\n",
    "\n",
    "### Feature Categories Overview\n",
    "\n",
    "Showing the organized feature groups that will be used in modeling:\n",
    "- **Demographics**: Age, gender, smoking status\n",
    "- **Clinical characteristics**: ECOG status, disease stage, brain metastases\n",
    "- **Biomarkers**: EGFR mutation status and other molecular markers\n",
    "- **Treatment features**: Drug classes, combination therapies, complexity scores\n",
    "- **Trial design features**: Population size, control arm types\n",
    "\n",
    "This transparency helps understand what information the models use for predictions."
   ]
  },
  {
   "cell_type": "markdown",
   "id": "68cbb9bd",
   "metadata": {},
   "source": [
    "### Note -- Dont need to define your own feature groups here"
   ]
  },
  {
   "cell_type": "code",
   "execution_count": 3,
   "id": "e22bd8e0",
   "metadata": {},
   "outputs": [
    {
     "name": "stdout",
     "output_type": "stream",
     "text": [
      "\n",
      "Patient Demographics:\n",
      "  - gender_male_percent\n",
      "  - age_median\n",
      "  - no_smoker_percent\n",
      "  - ecog_1\n",
      "  - smoker_percent\n",
      "\n",
      "Disease Characteristics:\n",
      "  - brain_metastase_yes\n",
      "  - disease_stage_recurrent\n",
      "  - disease_stage_III\n",
      "  - disease_stage_IV\n",
      "  - EGFR_wild\n",
      "  - EGFR_positive_mutation\n",
      "\n",
      "Drug Class:\n",
      "  - EGFR_TKI\n",
      "  - Platinum_Chemotherapy\n",
      "  - Anti_VEGF\n",
      "  - PD1_PDL1_Inhibitor\n",
      "  - Antimetabolite\n",
      "  - Taxane\n",
      "  - Antibody\n",
      "  - Placebo_Supportive-Care\n",
      "  - Chemotherapy\n",
      "  - Targeted_Therapy\n",
      "  - Immunotherapy\n",
      "  - Anti-angiogenic_Other\n",
      "\n",
      "Treatment Features:\n",
      "  - combo_therapy\n",
      "  - treatment_complexity\n",
      "  - RCT_with_control_inter\n",
      "  - is_arm_control\n",
      "  - Population\n",
      "  - First-in-Class\n",
      "  - Next-Generation\n"
     ]
    }
   ],
   "source": [
    "# Display the selected features\n",
    "for group in feature_groups_to_use:\n",
    "    features = feature_config['features'].get(group, [])\n",
    "    print(f\"\\n{group.replace('_', ' ').title()}:\")\n",
    "    for f in features:\n",
    "        print(f\"  - {f}\")"
   ]
  },
  {
   "cell_type": "code",
   "execution_count": 4,
   "id": "cb8412fa",
   "metadata": {},
   "outputs": [
    {
     "name": "stdout",
     "output_type": "stream",
     "text": [
      "Trial ID column: NCT_ID\n",
      "Control arm column: is_arm_control\n",
      "Intervention outcome column: intervention_outcome\n"
     ]
    }
   ],
   "source": [
    "# Extract column names from config\n",
    "trial_id_col = feature_config.get('trial_id_column', 'NCT_ID')\n",
    "control_arm_col = feature_config.get('control_arm_column', 'is_arm_control')\n",
    "intervention_outcome_col = feature_config.get('intervention_outcome_column', 'intervention_outcome')\n",
    "\n",
    "print(f\"Trial ID column: {trial_id_col}\")\n",
    "print(f\"Control arm column: {control_arm_col}\")\n",
    "print(f\"Intervention outcome column: {intervention_outcome_col}\")"
   ]
  },
  {
   "cell_type": "markdown",
   "id": "c534d4f2",
   "metadata": {},
   "source": [
    "# Interaction terms which would be used in Lasso"
   ]
  },
  {
   "cell_type": "code",
   "execution_count": 5,
   "id": "e6596a42",
   "metadata": {},
   "outputs": [
    {
     "data": {
      "text/plain": [
       "[{'name': 'int_outcome_x_egfr',\n",
       "  'feature1': 'intervention_outcome',\n",
       "  'feature2': 'EGFR_TKI'},\n",
       " {'name': 'int_outcome_x_immuno',\n",
       "  'feature1': 'intervention_outcome',\n",
       "  'feature2': 'PD1_PDL1_Inhibitor'}]"
      ]
     },
     "execution_count": 5,
     "metadata": {},
     "output_type": "execute_result"
    }
   ],
   "source": [
    "interaction_terms = feature_config.get('interaction_terms', [])\n",
    "interaction_terms"
   ]
  },
  {
   "cell_type": "code",
   "execution_count": 6,
   "id": "e74d24d2",
   "metadata": {},
   "outputs": [
    {
     "name": "stdout",
     "output_type": "stream",
     "text": [
      "Similarity features: ['EGFR_TKI', 'Platinum_Chemotherapy', 'Anti_VEGF', 'PD1_PDL1_Inhibitor', 'Antimetabolite', 'Taxane', 'Antibody', 'Placebo_Supportive-Care']\n"
     ]
    }
   ],
   "source": [
    "similarity_features = feature_config.get('similarity_features', {}).get('drug_class', [])\n",
    "print(f\"Similarity features: {similarity_features}\")"
   ]
  },
  {
   "cell_type": "markdown",
   "id": "9baad9ee",
   "metadata": {},
   "source": [
    "# Data from previous notebook\n"
   ]
  },
  {
   "cell_type": "code",
   "execution_count": 7,
   "id": "ea7fa11a",
   "metadata": {},
   "outputs": [
    {
     "data": {
      "text/html": [
       "<div>\n",
       "<style scoped>\n",
       "    .dataframe tbody tr th:only-of-type {\n",
       "        vertical-align: middle;\n",
       "    }\n",
       "\n",
       "    .dataframe tbody tr th {\n",
       "        vertical-align: top;\n",
       "    }\n",
       "\n",
       "    .dataframe thead th {\n",
       "        text-align: right;\n",
       "    }\n",
       "</style>\n",
       "<table border=\"1\" class=\"dataframe\">\n",
       "  <thead>\n",
       "    <tr style=\"text-align: right;\">\n",
       "      <th></th>\n",
       "      <th>NCT_ID</th>\n",
       "      <th>Arm</th>\n",
       "      <th>Population</th>\n",
       "      <th>intervention</th>\n",
       "      <th>RCT_with_control_inter</th>\n",
       "      <th>gender_male_percent</th>\n",
       "      <th>age_median</th>\n",
       "      <th>no_smoker_percent</th>\n",
       "      <th>ecog_1</th>\n",
       "      <th>brain_metastase_yes</th>\n",
       "      <th>...</th>\n",
       "      <th>is_arm_control</th>\n",
       "      <th>combo_therapy</th>\n",
       "      <th>egfr_targeted</th>\n",
       "      <th>egfr_tki_use</th>\n",
       "      <th>high_risk_profile</th>\n",
       "      <th>novelty_score</th>\n",
       "      <th>elderly_male</th>\n",
       "      <th>large_trial</th>\n",
       "      <th>treatment_complexity</th>\n",
       "      <th>smoker_percent</th>\n",
       "    </tr>\n",
       "  </thead>\n",
       "  <tbody>\n",
       "    <tr>\n",
       "      <th>0</th>\n",
       "      <td>NCT01364012</td>\n",
       "      <td>Intervention</td>\n",
       "      <td>138.0</td>\n",
       "      <td>bevacizumab + platinum doublet chemo (carbopla...</td>\n",
       "      <td>1.0</td>\n",
       "      <td>54.0</td>\n",
       "      <td>57.0</td>\n",
       "      <td>50.0</td>\n",
       "      <td>75.0</td>\n",
       "      <td>0.0</td>\n",
       "      <td>...</td>\n",
       "      <td>0</td>\n",
       "      <td>1</td>\n",
       "      <td>0.0</td>\n",
       "      <td>0.0</td>\n",
       "      <td>1</td>\n",
       "      <td>1.0</td>\n",
       "      <td>0</td>\n",
       "      <td>0</td>\n",
       "      <td>3.0</td>\n",
       "      <td>50.0</td>\n",
       "    </tr>\n",
       "    <tr>\n",
       "      <th>1</th>\n",
       "      <td>NCT01364012</td>\n",
       "      <td>Control</td>\n",
       "      <td>138.0</td>\n",
       "      <td>placebo + platinum doublet chemo (carboplatin ...</td>\n",
       "      <td>1.0</td>\n",
       "      <td>56.0</td>\n",
       "      <td>56.0</td>\n",
       "      <td>50.0</td>\n",
       "      <td>80.0</td>\n",
       "      <td>0.0</td>\n",
       "      <td>...</td>\n",
       "      <td>1</td>\n",
       "      <td>0</td>\n",
       "      <td>0.0</td>\n",
       "      <td>0.0</td>\n",
       "      <td>1</td>\n",
       "      <td>0.0</td>\n",
       "      <td>0</td>\n",
       "      <td>0</td>\n",
       "      <td>1.0</td>\n",
       "      <td>50.0</td>\n",
       "    </tr>\n",
       "    <tr>\n",
       "      <th>2</th>\n",
       "      <td>NCT01469000</td>\n",
       "      <td>Intervention</td>\n",
       "      <td>126.0</td>\n",
       "      <td>pemetrexed + gefitinib</td>\n",
       "      <td>1.0</td>\n",
       "      <td>35.0</td>\n",
       "      <td>62.0</td>\n",
       "      <td>64.0</td>\n",
       "      <td>69.0</td>\n",
       "      <td>0.0</td>\n",
       "      <td>...</td>\n",
       "      <td>0</td>\n",
       "      <td>1</td>\n",
       "      <td>100.0</td>\n",
       "      <td>100.0</td>\n",
       "      <td>1</td>\n",
       "      <td>1.0</td>\n",
       "      <td>0</td>\n",
       "      <td>0</td>\n",
       "      <td>2.0</td>\n",
       "      <td>36.0</td>\n",
       "    </tr>\n",
       "    <tr>\n",
       "      <th>3</th>\n",
       "      <td>NCT01469000</td>\n",
       "      <td>Control</td>\n",
       "      <td>65.0</td>\n",
       "      <td>gefitinib</td>\n",
       "      <td>1.0</td>\n",
       "      <td>37.0</td>\n",
       "      <td>62.0</td>\n",
       "      <td>72.0</td>\n",
       "      <td>68.0</td>\n",
       "      <td>0.0</td>\n",
       "      <td>...</td>\n",
       "      <td>1</td>\n",
       "      <td>0</td>\n",
       "      <td>100.0</td>\n",
       "      <td>100.0</td>\n",
       "      <td>1</td>\n",
       "      <td>1.0</td>\n",
       "      <td>0</td>\n",
       "      <td>0</td>\n",
       "      <td>1.0</td>\n",
       "      <td>28.0</td>\n",
       "    </tr>\n",
       "    <tr>\n",
       "      <th>4</th>\n",
       "      <td>NCT02099058</td>\n",
       "      <td>Intervention</td>\n",
       "      <td>28.0</td>\n",
       "      <td>telisotuzumab vedotin + erlotinib</td>\n",
       "      <td>0.0</td>\n",
       "      <td>32.0</td>\n",
       "      <td>60.0</td>\n",
       "      <td>0.0</td>\n",
       "      <td>71.0</td>\n",
       "      <td>0.0</td>\n",
       "      <td>...</td>\n",
       "      <td>0</td>\n",
       "      <td>0</td>\n",
       "      <td>100.0</td>\n",
       "      <td>100.0</td>\n",
       "      <td>1</td>\n",
       "      <td>1.0</td>\n",
       "      <td>0</td>\n",
       "      <td>0</td>\n",
       "      <td>2.0</td>\n",
       "      <td>100.0</td>\n",
       "    </tr>\n",
       "  </tbody>\n",
       "</table>\n",
       "<p>5 rows × 45 columns</p>\n",
       "</div>"
      ],
      "text/plain": [
       "        NCT_ID           Arm  Population  \\\n",
       "0  NCT01364012  Intervention       138.0   \n",
       "1  NCT01364012       Control       138.0   \n",
       "2  NCT01469000  Intervention       126.0   \n",
       "3  NCT01469000       Control        65.0   \n",
       "4  NCT02099058  Intervention        28.0   \n",
       "\n",
       "                                        intervention  RCT_with_control_inter  \\\n",
       "0  bevacizumab + platinum doublet chemo (carbopla...                     1.0   \n",
       "1  placebo + platinum doublet chemo (carboplatin ...                     1.0   \n",
       "2                            pemetrexed + gefitinib                      1.0   \n",
       "3                                          gefitinib                     1.0   \n",
       "4                  telisotuzumab vedotin + erlotinib                     0.0   \n",
       "\n",
       "   gender_male_percent  age_median  no_smoker_percent  ecog_1  \\\n",
       "0                 54.0        57.0               50.0    75.0   \n",
       "1                 56.0        56.0               50.0    80.0   \n",
       "2                 35.0        62.0               64.0    69.0   \n",
       "3                 37.0        62.0               72.0    68.0   \n",
       "4                 32.0        60.0                0.0    71.0   \n",
       "\n",
       "   brain_metastase_yes  ...  is_arm_control  combo_therapy  egfr_targeted  \\\n",
       "0                  0.0  ...               0              1            0.0   \n",
       "1                  0.0  ...               1              0            0.0   \n",
       "2                  0.0  ...               0              1          100.0   \n",
       "3                  0.0  ...               1              0          100.0   \n",
       "4                  0.0  ...               0              0          100.0   \n",
       "\n",
       "   egfr_tki_use  high_risk_profile  novelty_score elderly_male  large_trial  \\\n",
       "0           0.0                  1            1.0            0            0   \n",
       "1           0.0                  1            0.0            0            0   \n",
       "2         100.0                  1            1.0            0            0   \n",
       "3         100.0                  1            1.0            0            0   \n",
       "4         100.0                  1            1.0            0            0   \n",
       "\n",
       "   treatment_complexity  smoker_percent  \n",
       "0                   3.0            50.0  \n",
       "1                   1.0            50.0  \n",
       "2                   2.0            36.0  \n",
       "3                   1.0            28.0  \n",
       "4                   2.0           100.0  \n",
       "\n",
       "[5 rows x 45 columns]"
      ]
     },
     "execution_count": 7,
     "metadata": {},
     "output_type": "execute_result"
    }
   ],
   "source": [
    "training_df = pd.read_csv(\"processed_training_data.csv\")\n",
    "training_df.head()"
   ]
  },
  {
   "cell_type": "code",
   "execution_count": 8,
   "id": "1010c6dd",
   "metadata": {},
   "outputs": [],
   "source": [
    "import ast\n",
    "# Function to safely convert string to list\n",
    "def safe_literal_eval(val):\n",
    "    if pd.isna(val):\n",
    "        return np.nan\n",
    "    return ast.literal_eval(val)\n",
    "\n",
    "# Apply conversion\n",
    "training_df['PFS_median_CI'] = training_df['PFS_median_CI'].apply(safe_literal_eval)\n"
   ]
  },
  {
   "cell_type": "code",
   "execution_count": 9,
   "id": "0013e699",
   "metadata": {},
   "outputs": [
    {
     "name": "stdout",
     "output_type": "stream",
     "text": [
      "Number of RCTs in the training data: 27\n"
     ]
    },
    {
     "data": {
      "text/plain": [
       "57"
      ]
     },
     "execution_count": 9,
     "metadata": {},
     "output_type": "execute_result"
    }
   ],
   "source": [
    "# how many RCTS we've got\n",
    "num_trials = training_df[trial_id_col].nunique()\n",
    "print(f\"Number of RCTs in the training data: {num_trials}\")\n",
    "\n",
    "# count of arms\n",
    "training_df.shape[0]"
   ]
  },
  {
   "cell_type": "code",
   "execution_count": 10,
   "id": "8a64c75f",
   "metadata": {},
   "outputs": [],
   "source": [
    "list_ftr_selected = ftr.copy()"
   ]
  },
  {
   "cell_type": "code",
   "execution_count": 11,
   "id": "22b5a63f3ece059f",
   "metadata": {},
   "outputs": [],
   "source": [
    "# Import utility functions\n",
    "from utilities.utils import *"
   ]
  },
  {
   "cell_type": "markdown",
   "id": "ca887850",
   "metadata": {},
   "source": [
    "# ATE Validation Approaches\n",
    "\n",
    "## Methodology Overview\n",
    "\n",
    "We implement multiple baseline approaches to predict control arm outcomes and calculate Average Treatment Effects (ATE). Each approach uses a **Leave-One-Out protocol**:\n",
    "\n",
    "### Leave-One-Out Protocol Steps:\n",
    "1. **Select target trial**: Choose one RCT to predict (hold-out)\n",
    "2. **Training set creation**: Use all other RCTs' control arms for training\n",
    "3. **Prediction**: Predict the held-out trial's control arm outcome\n",
    "4. **ATE calculation**: Compare predicted control vs. actual intervention outcome\n",
    "5. **Evaluation**: Compare predicted ATE with actual ATE\n",
    "\n",
    "### Performance Metrics:\n",
    "- **ATE direction accuracy**: Percentage of trials where predicted ATE has correct sign\n",
    "- **R² score**: Correlation between predicted and actual ATEs\n",
    "- **Spearman correlation**: Rank-order correlation for ATE predictions\n",
    "- **RMSE**: Root mean squared error for both ATE and control arm predictions\n",
    "\n",
    "![Results](../images//rct_lean_results_demo.png)\n",
    "\n",
    "The baseline approach assumes that outcome from intervention arm is always better than control arm. Best baseline approach is 0.7 * treatment_arm_outcome(i.e PFS of intervention arm)\n",
    "\n",
    "Overall, RF performs marginally better than baseline approach\n",
    "\n",
    "*Figure: Results with ML approaches vs baseline approaches*"
   ]
  },
  {
   "cell_type": "markdown",
   "id": "ccc64ebb",
   "metadata": {},
   "source": [
    "# Approach 1: Simple Average Method\n",
    "\n",
    "## Methodology\n",
    "\n",
    "**Prediction Strategy**: Use the simple average of all other control arms to predict the target control arm outcome.\n",
    "\n",
    "### Algorithm Steps:\n",
    "1. **Target identification**: For each control arm in the dataset\n",
    "2. **Training set**: Remove the target trial entirely (both arms)\n",
    "3. **Prediction**: Calculate mean PFS of all remaining control arms\n",
    "4. **ATE calculation**: Subtract predicted control from actual intervention outcome\n"
   ]
  },
  {
   "cell_type": "code",
   "execution_count": 12,
   "id": "ea8f237c",
   "metadata": {},
   "outputs": [
    {
     "name": "stdout",
     "output_type": "stream",
     "text": [
      "NCT01364012 - arm: Control - intervention: 9.2 -real_outcome: 6.5, pred_outcome: 6.22, real ATE: 2.7 vs pred ATE: 2.98\n",
      "NCT01469000 - arm: Control - intervention: 15.8 -real_outcome: 10.9, pred_outcome: 6.04, real ATE: 4.9 vs pred ATE: 9.76\n",
      "NCT03515837 - arm: Control - intervention: 5.6 -real_outcome: 5.5, pred_outcome: 6.26, real ATE: 0.1 vs pred ATE: -0.66\n",
      "NCT04129502 - arm: Control - intervention: 9.6 -real_outcome: 9.6, pred_outcome: 6.09, real ATE: 0.0 vs pred ATE: 3.51\n",
      "NCT04194203 - arm: Control - intervention: 9.5 -real_outcome: 7.1, pred_outcome: 6.16, real ATE: 2.4 vs pred ATE: 3.34\n",
      "NCT04538664 - arm: Control - intervention: 11.4 -real_outcome: 6.7, pred_outcome: 6.21, real ATE: 4.7 vs pred ATE: 5.19\n",
      "NCT04988295 - arm: Control - intervention: 7.3 -real_outcome: 4.2, pred_outcome: 6.32, real ATE: 3.1 vs pred ATE: 0.98\n",
      "NCT02142738 - arm: Control - intervention: 7.7 -real_outcome: 5.5, pred_outcome: 6.26, real ATE: 2.2 vs pred ATE: 1.44\n",
      "NCT02041533 - arm: Control - intervention: 4.2 -real_outcome: 5.9, pred_outcome: 6.25, real ATE: -1.7 vs pred ATE: -2.05\n",
      "NCT02657434 - arm: Control - intervention: 7.6 -real_outcome: 5.2, pred_outcome: 6.28, real ATE: 2.4 vs pred ATE: 1.32\n",
      "NCT02367781 - arm: Control - intervention: 7.0 -real_outcome: 5.5, pred_outcome: 6.26, real ATE: 1.5 vs pred ATE: 0.74\n",
      "NCT03134872 - arm: Control - intervention: 11.0 -real_outcome: 6.5, pred_outcome: 6.22, real ATE: 4.5 vs pred ATE: 4.78\n",
      "NCT03629925 - arm: Control - intervention: 5.5 -real_outcome: 4.9, pred_outcome: 6.29, real ATE: 0.6 vs pred ATE: -0.79\n",
      "NCT03117049 - arm: Control - intervention: 12.1 -real_outcome: 8.1, pred_outcome: 6.15, real ATE: 4.0 vs pred ATE: 5.95\n",
      "NCT03663205 - arm: Control - intervention: 9.7 -real_outcome: 7.6, pred_outcome: 6.18, real ATE: 2.1 vs pred ATE: 3.52\n",
      "NCT04194203 - arm: Control - intervention: 9.5 -real_outcome: 7.1, pred_outcome: 6.16, real ATE: 2.4 vs pred ATE: 3.34\n",
      "NCT03829332 - arm: Control - intervention: 6.6 -real_outcome: 4.2, pred_outcome: 6.32, real ATE: 2.4 vs pred ATE: 0.28\n",
      "NCT03829319 - arm: Control - intervention: 12.1 -real_outcome: 9.5, pred_outcome: 6.1, real ATE: 2.6 vs pred ATE: 6.0\n",
      "NCT03594747 - arm: Control - intervention: 7.6 -real_outcome: 5.5, pred_outcome: 6.26, real ATE: 2.1 vs pred ATE: 1.34\n",
      "NCT02477826 - arm: Control - intervention: 4.65 -real_outcome: 5.6, pred_outcome: 6.26, real ATE: -0.95 vs pred ATE: -1.61\n",
      "NCT03866993 - arm: Control - intervention: 7.6 -real_outcome: 4.2, pred_outcome: 6.32, real ATE: 3.4 vs pred ATE: 1.28\n",
      "NCT02775435 - arm: Control - intervention: 6.8 -real_outcome: 4.8, pred_outcome: 6.34, real ATE: 2.0 vs pred ATE: 0.46\n",
      "NCT02775435 - arm: Control - intervention: 6.8 -real_outcome: 5.2, pred_outcome: 6.34, real ATE: 1.6 vs pred ATE: 0.46\n",
      "The KEYNOTE-407 China extension study (NCT03875092) was identical to the global KEYNOTE-407 study with the exception that it included only patients enrolled in mainland China after enrollment in the global study was completed. - arm: Control - intervention: nan -real_outcome: 4.2, pred_outcome: 6.32, real ATE: nan vs pred ATE: nan\n",
      "NCT03728556 - arm: Control - intervention: 9.0 -real_outcome: 5.8, pred_outcome: 6.25, real ATE: 3.2 vs pred ATE: 2.75\n"
     ]
    }
   ],
   "source": [
    "results_average = []\n",
    "for index, row in training_df.iterrows():\n",
    "    rct_name = row[trial_id_col]\n",
    "    is_arm_control = row[control_arm_col]\n",
    "    \n",
    "    if is_arm_control == 1:\n",
    "        # ground truth\n",
    "        outcome_control = round(row[target_col],2)\n",
    "\n",
    "        # dropping the row we try to predict\n",
    "        df_training_i = training_df.drop(index)\n",
    "\n",
    "        # Get the trt outcome of the RCT targeted\n",
    "        trt_arm = training_df.loc[training_df[trial_id_col] == rct_name, :]\n",
    "        trt_outcome = trt_arm.loc[trt_arm[control_arm_col] != 1, target_col]\n",
    "        trt_outcome = round(trt_outcome.mean(),2)\n",
    "\n",
    "        # User other RCTs to calculate the AVG\n",
    "        # only control arms\n",
    "        control_df = df_training_i.loc[df_training_i[control_arm_col] == 1, :]\n",
    "        # from other RCTs\n",
    "        predicted_outcome = round(control_df.loc[control_df[trial_id_col] != rct_name, target_col].mean(),2)\n",
    "    \n",
    "        real_ate = round(trt_outcome - outcome_control, 2)\n",
    "        pred_ate = round(trt_outcome - predicted_outcome, 2)\n",
    "        results_average.append({\n",
    "            \"real_ate\": real_ate,\n",
    "            \"pred_ate\": pred_ate,\n",
    "            \"outcome_control\": outcome_control,\n",
    "            \"predicted_outcome\": predicted_outcome,\n",
    "            \"rct_name\": rct_name,\n",
    "            \"intervention\": row[\"intervention\"],\n",
    "            \"Arm\": row[\"Arm\"],\n",
    "        })\n",
    "        print(f\"{rct_name} - arm: {row['Arm']} - intervention: {trt_outcome} -real_outcome: {outcome_control}, pred_outcome: {predicted_outcome}, real ATE: {real_ate} vs pred ATE: {pred_ate}\")\n"
   ]
  },
  {
   "cell_type": "markdown",
   "id": "ae41a8b4",
   "metadata": {},
   "source": [
    "# Approach 2: Similarity-Based Method\n",
    "\n",
    "## Methodology\n",
    "\n",
    "**Prediction Strategy**: Use outcomes from the most similar trials based on drug class features to predict control arm performance.\n",
    "\n",
    "### Algorithm Steps:\n",
    "1. **Similarity calculation**: Compute Jaccard similarity for drug class features between target trial and all other trials\n",
    "2. **Ranking**: Sort other trials by similarity score (highest first)\n",
    "3. **Selection**: Use top 10 most similar trials for prediction\n",
    "4. **Prediction**: Calculate weighted average of similar trials' control arm outcomes\n",
    "5. **Fallback**: If no similar trials found, use global average\n",
    "\n",
    "### Similarity Metrics:\n",
    "- **Jaccard Index**: |intersection| / |union| of drug class features\n",
    "- **Drug classes considered**: EGFR_TKI, PD1_PDL1_Inhibitor, Anti_VEGF, etc.\n",
    "- **Special handling**: Trials with no drug features get similarity score of 0.5\n",
    "\n"
   ]
  },
  {
   "cell_type": "code",
   "execution_count": 13,
   "id": "824010b6",
   "metadata": {},
   "outputs": [],
   "source": [
    "def get_enhanced_similarity_features(training_df, target_trial_idx, target_col=\"PFS_median_months\"):\n",
    "    \"\"\"\n",
    "    For a given control arm, calculate:\n",
    "    1. Top 5 similar trials' mean PFS (based on drug class similarity)\n",
    "    2. Average PFS of all other control arms\n",
    "    \"\"\"\n",
    "    # Features to use for similarity calculation (drug classes)\n",
    "    \n",
    "    drug_class_features = feature_config.get('similarity_features', {}).get('drug_class', [])\n",
    "    \n",
    "    # Get target trial data\n",
    "    target_trial = training_df.loc[target_trial_idx]\n",
    "    target_nct = target_trial[trial_id_col]\n",
    "    \n",
    "    # Get all control arms from other trials\n",
    "    other_controls = training_df[(training_df[control_arm_col] == 1) & \n",
    "                                (training_df[trial_id_col] != target_nct)].copy()\n",
    "    \n",
    "    # 1. Calculate the average PFS of all other control arms\n",
    "    all_other_controls_avg_pfs = other_controls[target_col].mean()\n",
    "    \n",
    "    # 2. Calculate Jaccard similarity for the top similar trials\n",
    "    similarities = []\n",
    "    for idx, control in other_controls.iterrows():\n",
    "        # Calculate Jaccard similarity for drug class features\n",
    "        target_features = set([feat for feat in drug_class_features if target_trial[feat] == 1])\n",
    "        control_features = set([feat for feat in drug_class_features if control[feat] == 1])\n",
    "        \n",
    "        if len(target_features.union(control_features)) == 0:\n",
    "            # If both have no drug features, they're somewhat similar (placebo-like)\n",
    "            jaccard = 0.5\n",
    "        else:\n",
    "            jaccard = len(target_features.intersection(control_features)) / len(target_features.union(control_features))\n",
    "        \n",
    "        similarities.append((idx, jaccard, control[target_col]))\n",
    "    \n",
    "    # Sort by similarity (highest first)\n",
    "    similarities.sort(key=lambda x: x[1], reverse=True)\n",
    "    \n",
    "    # Get top 5 most similar trials\n",
    "    top_similar = similarities[:10]\n",
    "    \n",
    "    \n",
    "    # Calculate mean PFS from similar trials\n",
    "    if not top_similar:\n",
    "        similar_trials_mean_pfs = np.nan\n",
    "    else:\n",
    "        similar_pfs_values = [s[2] for s in top_similar if s[1]]\n",
    "        similar_trials_mean_pfs = np.mean(similar_pfs_values)\n",
    "    \n",
    "    return {\n",
    "        'similar_trials_mean_pfs': round(similar_trials_mean_pfs,2),\n",
    "        'all_other_controls_avg_pfs': round(all_other_controls_avg_pfs,2)\n",
    "    }"
   ]
  },
  {
   "cell_type": "code",
   "execution_count": 14,
   "id": "9a0d6916",
   "metadata": {},
   "outputs": [
    {
     "name": "stdout",
     "output_type": "stream",
     "text": [
      "NCT01364012 - arm: Control - intervention: 9.2 - real_outcome: 6.5, pred_outcome: 5.45, real ATE: 2.7 vs pred ATE: 3.75\n",
      "NCT01469000 - arm: Control - intervention: 15.8 - real_outcome: 10.9, pred_outcome: 6.04, real ATE: 4.9 vs pred ATE: 4\n",
      "NCT03515837 - arm: Control - intervention: 5.6 - real_outcome: 5.5, pred_outcome: 6.16, real ATE: 0.1 vs pred ATE: -0.56\n",
      "NCT04129502 - arm: Control - intervention: 9.6 - real_outcome: 9.6, pred_outcome: 6.15, real ATE: 0.0 vs pred ATE: 3.45\n",
      "NCT04194203 - arm: Control - intervention: 9.5 - real_outcome: 7.1, pred_outcome: 6.5, real ATE: 2.4 vs pred ATE: 3.0\n",
      "NCT04538664 - arm: Control - intervention: 11.4 - real_outcome: 6.7, pred_outcome: 6.1, real ATE: 4.7 vs pred ATE: 4\n",
      "NCT04988295 - arm: Control - intervention: 7.3 - real_outcome: 4.2, pred_outcome: 6.29, real ATE: 3.1 vs pred ATE: 1.01\n",
      "NCT02142738 - arm: Control - intervention: 7.7 - real_outcome: 5.5, pred_outcome: 5.74, real ATE: 2.2 vs pred ATE: 1.96\n",
      "NCT02041533 - arm: Control - intervention: 4.2 - real_outcome: 5.9, pred_outcome: 5.7, real ATE: -1.7 vs pred ATE: -1.5\n",
      "NCT02657434 - arm: Control - intervention: 7.6 - real_outcome: 5.2, pred_outcome: 6.19, real ATE: 2.4 vs pred ATE: 1.41\n",
      "NCT02367781 - arm: Control - intervention: 7.0 - real_outcome: 5.5, pred_outcome: 5.55, real ATE: 1.5 vs pred ATE: 1.45\n",
      "NCT03134872 - arm: Control - intervention: 11.0 - real_outcome: 6.5, pred_outcome: 6.06, real ATE: 4.5 vs pred ATE: 4\n",
      "NCT03629925 - arm: Control - intervention: 5.5 - real_outcome: 4.9, pred_outcome: 6.22, real ATE: 0.6 vs pred ATE: -0.72\n",
      "NCT03117049 - arm: Control - intervention: 12.1 - real_outcome: 8.1, pred_outcome: 5.73, real ATE: 4.0 vs pred ATE: 4\n",
      "NCT03663205 - arm: Control - intervention: 9.7 - real_outcome: 7.6, pred_outcome: 5.95, real ATE: 2.1 vs pred ATE: 3.75\n",
      "NCT04194203 - arm: Control - intervention: 9.5 - real_outcome: 7.1, pred_outcome: 6.5, real ATE: 2.4 vs pred ATE: 3.0\n",
      "NCT03829332 - arm: Control - intervention: 6.6 - real_outcome: 4.2, pred_outcome: 9.5, real ATE: 2.4 vs pred ATE: -2.9\n",
      "NCT03829319 - arm: Control - intervention: 12.1 - real_outcome: 9.5, pred_outcome: 6.2, real ATE: 2.6 vs pred ATE: 4\n",
      "NCT03594747 - arm: Control - intervention: 7.6 - real_outcome: 5.5, pred_outcome: 5.55, real ATE: 2.1 vs pred ATE: 2.05\n",
      "NCT02477826 - arm: Control - intervention: 4.65 - real_outcome: 5.6, pred_outcome: 5.73, real ATE: -0.95 vs pred ATE: -1.08\n",
      "NCT03866993 - arm: Control - intervention: 7.6 - real_outcome: 4.2, pred_outcome: 5.98, real ATE: 3.4 vs pred ATE: 1.62\n",
      "NCT02775435 - arm: Control - intervention: 6.8 - real_outcome: 4.8, pred_outcome: 5.77, real ATE: 2.0 vs pred ATE: 1.03\n",
      "NCT02775435 - arm: Control - intervention: 6.8 - real_outcome: 5.2, pred_outcome: 5.77, real ATE: 1.6 vs pred ATE: 1.03\n",
      "NCT03728556 - arm: Control - intervention: 9.0 - real_outcome: 5.8, pred_outcome: 7.5, real ATE: 3.2 vs pred ATE: 1.5\n"
     ]
    },
    {
     "name": "stderr",
     "output_type": "stream",
     "text": [
      "/Users/Sayan_Chakraborty/Desktop/QuantumBlack/Eureka/rct_lean_blx/.venv/lib/python3.12/site-packages/numpy/_core/fromnumeric.py:3860: RuntimeWarning: Mean of empty slice.\n",
      "  return _methods._mean(a, axis=axis, dtype=dtype,\n",
      "/Users/Sayan_Chakraborty/Desktop/QuantumBlack/Eureka/rct_lean_blx/.venv/lib/python3.12/site-packages/numpy/_core/_methods.py:144: RuntimeWarning: invalid value encountered in scalar divide\n",
      "  ret = ret.dtype.type(ret / rcount)\n"
     ]
    }
   ],
   "source": [
    "results_similarity = []\n",
    "for index, row in training_df.iterrows():\n",
    "    rct_name = row[trial_id_col]\n",
    "    is_arm_control = row[control_arm_col]\n",
    "    \n",
    "    if is_arm_control == 1:\n",
    "        # Ground truth\n",
    "        outcome_control = round(row[target_col], 2)\n",
    "        \n",
    "        # Get the treatment outcome of the RCT targeted\n",
    "        trt_arm = training_df.loc[training_df[trial_id_col] == rct_name, :]\n",
    "        trt_outcome = trt_arm.loc[trt_arm[control_arm_col] != 1, target_col]\n",
    "        \n",
    "        if trt_outcome.empty or pd.isna(trt_outcome.mean()):\n",
    "            continue\n",
    "            \n",
    "        trt_outcome = round(trt_outcome.mean(), 2)\n",
    "        \n",
    "        # Get similar trials' mean PFS using existing function\n",
    "        similarity_features = get_enhanced_similarity_features(training_df, index, target_col)\n",
    "        \n",
    "        # Use the similar trials' mean PFS as the predicted outcome\n",
    "        predicted_outcome = similarity_features['similar_trials_mean_pfs']\n",
    "        \n",
    "        # If no similar trials found, fall back to average of all control arms\n",
    "        if pd.isna(predicted_outcome):\n",
    "            predicted_outcome = similarity_features['all_other_controls_avg_pfs']\n",
    "            prediction_method = \"all_controls_average\"\n",
    "        else:\n",
    "            prediction_method = \"similar_trials_average\"\n",
    "        \n",
    "        # Calculate ATEs\n",
    "        real_ate = round(trt_outcome - outcome_control, 2)\n",
    "        pred_ate = round(trt_outcome - predicted_outcome, 2)\n",
    "        \n",
    "        # Cap extreme ATE predictions\n",
    "        pred_ate = min(max(pred_ate, -4), 4)\n",
    "        \n",
    "        # Store results\n",
    "        results_similarity.append({\n",
    "            \"real_ate\": real_ate,\n",
    "            \"pred_ate\": pred_ate,\n",
    "            \"outcome_control\": outcome_control,\n",
    "            \"predicted_outcome\": predicted_outcome,\n",
    "            \"rct_name\": rct_name,\n",
    "            \"intervention\": row[\"intervention\"],\n",
    "            \"Arm\": row[\"Arm\"],\n",
    "            \"prediction_method\": prediction_method\n",
    "        })\n",
    "        \n",
    "        print(f\"{rct_name} - arm: {row['Arm']} - intervention: {trt_outcome} - real_outcome: {outcome_control}, pred_outcome: {predicted_outcome}, real ATE: {real_ate} vs pred ATE: {pred_ate}\")\n",
    "\n",
    "\n"
   ]
  },
  {
   "cell_type": "markdown",
   "id": "938dc71c",
   "metadata": {},
   "source": [
    "# Approach 3: Conditional Machine Learning (Lasso)\n",
    "\n",
    "## Methodology\n",
    "\n",
    "**Prediction Strategy**: Use machine learning with intervention outcome as a conditional feature to predict control arm outcomes.\n",
    "\n",
    "### Novel Features:\n",
    "1. **Intervention outcome conditioning**: Add the intervention arm outcome as a feature\n",
    "2. **Interaction terms**: Create interactions between intervention outcome and drug classes\n",
    "3. **Trial indicators**: Flag the target trial and prediction row\n",
    "\n",
    "### Algorithm Steps:\n",
    "1. **Feature engineering**: Add intervention_outcome, interaction terms, and trial flags\n",
    "2. **Training preparation**: Use only control arms, exclude target trial\n",
    "3. **Model training**: Fit Lasso regression with alpha=0.4\n",
    "4. **Prediction**: Predict using target trial features + its intervention outcome\n",
    "\n",
    "\n",
    "\n"
   ]
  },
  {
   "cell_type": "code",
   "execution_count": 15,
   "id": "5d5786aa",
   "metadata": {},
   "outputs": [
    {
     "name": "stdout",
     "output_type": "stream",
     "text": [
      "NCT01364012 - arm: Control - intervention: 9.2 - real_outcome: 6.5, pred_outcome: 7.58, real ATE: 2.7 vs pred ATE: 1.62\n",
      "NCT01469000 - arm: Control - intervention: 15.8 - real_outcome: 10.9, pred_outcome: 10.49, real ATE: 4.9 vs pred ATE: 5.31\n",
      "NCT03515837 - arm: Control - intervention: 5.6 - real_outcome: 5.5, pred_outcome: 6.04, real ATE: 0.1 vs pred ATE: -0.44\n",
      "NCT04129502 - arm: Control - intervention: 9.6 - real_outcome: 9.6, pred_outcome: 6.0, real ATE: 0.0 vs pred ATE: 3.6\n",
      "NCT04194203 - arm: Control - intervention: 9.5 - real_outcome: 7.1, pred_outcome: 5.65, real ATE: 2.4 vs pred ATE: 3.85\n",
      "NCT04538664 - arm: Control - intervention: 11.4 - real_outcome: 6.7, pred_outcome: 7.74, real ATE: 4.7 vs pred ATE: 3.66\n",
      "NCT04988295 - arm: Control - intervention: 7.3 - real_outcome: 4.2, pred_outcome: 6.93, real ATE: 3.1 vs pred ATE: 0.37\n",
      "NCT02142738 - arm: Control - intervention: 7.7 - real_outcome: 5.5, pred_outcome: 5.19, real ATE: 2.2 vs pred ATE: 2.51\n",
      "NCT02041533 - arm: Control - intervention: 4.2 - real_outcome: 5.9, pred_outcome: 4.54, real ATE: -1.7 vs pred ATE: -0.34\n",
      "NCT02657434 - arm: Control - intervention: 7.6 - real_outcome: 5.2, pred_outcome: 5.45, real ATE: 2.4 vs pred ATE: 2.15\n",
      "NCT02367781 - arm: Control - intervention: 7.0 - real_outcome: 5.5, pred_outcome: 6.98, real ATE: 1.5 vs pred ATE: 0.02\n",
      "NCT03134872 - arm: Control - intervention: 11.0 - real_outcome: 6.5, pred_outcome: 7.07, real ATE: 4.5 vs pred ATE: 3.93\n",
      "NCT03629925 - arm: Control - intervention: 5.5 - real_outcome: 4.9, pred_outcome: 3.77, real ATE: 0.6 vs pred ATE: 1.73\n",
      "NCT03117049 - arm: Control - intervention: 12.1 - real_outcome: 8.1, pred_outcome: 6.92, real ATE: 4.0 vs pred ATE: 5.18\n",
      "NCT03663205 - arm: Control - intervention: 9.7 - real_outcome: 7.6, pred_outcome: 6.54, real ATE: 2.1 vs pred ATE: 3.16\n",
      "NCT04194203 - arm: Control - intervention: 9.5 - real_outcome: 7.1, pred_outcome: 5.65, real ATE: 2.4 vs pred ATE: 3.85\n",
      "NCT03829332 - arm: Control - intervention: 6.6 - real_outcome: 4.2, pred_outcome: 5.54, real ATE: 2.4 vs pred ATE: 1.06\n",
      "NCT03829319 - arm: Control - intervention: 12.1 - real_outcome: 9.5, pred_outcome: 7.02, real ATE: 2.6 vs pred ATE: 5.08\n",
      "NCT03594747 - arm: Control - intervention: 7.6 - real_outcome: 5.5, pred_outcome: 6.64, real ATE: 2.1 vs pred ATE: 0.96\n",
      "NCT02477826 - arm: Control - intervention: 4.65 - real_outcome: 5.6, pred_outcome: 5.21, real ATE: -0.95 vs pred ATE: -0.56\n",
      "NCT03866993 - arm: Control - intervention: 7.6 - real_outcome: 4.2, pred_outcome: 5.95, real ATE: 3.4 vs pred ATE: 1.65\n",
      "NCT02775435 - arm: Control - intervention: 6.8 - real_outcome: 4.8, pred_outcome: 4.68, real ATE: 2.0 vs pred ATE: 2.12\n",
      "NCT02775435 - arm: Control - intervention: 6.8 - real_outcome: 5.2, pred_outcome: 5.2, real ATE: 1.6 vs pred ATE: 1.6\n",
      "Skipping The KEYNOTE-407 China extension study (NCT03875092) was identical to the global KEYNOTE-407 study with the exception that it included only patients enrolled in mainland China after enrollment in the global study was completed. as no inference data available.\n",
      "NCT03728556 - arm: Control - intervention: 9.0 - real_outcome: 5.8, pred_outcome: 6.22, real ATE: 3.2 vs pred ATE: 2.78\n"
     ]
    }
   ],
   "source": [
    "\n",
    "results_ml = []\n",
    "for index, row in training_df.iterrows():\n",
    "    rct_name = row[trial_id_col]\n",
    "    is_arm_control = row[control_arm_col]\n",
    "    \n",
    "    if is_arm_control == 1:\n",
    "        # ground truth\n",
    "        outcome_control = round(row[target_col], 2)\n",
    "        \n",
    "        # Get the trt outcome of the RCT targeted\n",
    "        trt_arm = training_df.loc[training_df[trial_id_col] == rct_name, :]\n",
    "        trt_outcome = trt_arm.loc[trt_arm[control_arm_col] != 1, target_col]\n",
    "        trt_outcome = round(trt_outcome.mean(), 2)\n",
    "        \n",
    "        # User ML predictions\n",
    "        training_j = training_df.copy()\n",
    "        # flag inference row\n",
    "        training_j[\"is_to_predict\"] = np.where(training_j.index == index, 1, 0)\n",
    "        # flag RCT row\n",
    "        training_j[\"is_targeted_rct\"] = np.where(training_j[trial_id_col] == rct_name, 1, 0)\n",
    "\n",
    "        # Add intervention outcome as a feature for all control arms\n",
    "        # For each control arm, add the intervention outcome from the same trial\n",
    "        for idx, control_row in training_j[training_j[control_arm_col] == 1].iterrows():\n",
    "            ctrl_rct = control_row[trial_id_col]\n",
    "            # Get intervention outcome for this control's trial\n",
    "            ctrl_trt_outcome = training_j.loc[(training_j[trial_id_col] == ctrl_rct) & \n",
    "                                             (training_j[control_arm_col] != 1), target_col]\n",
    "            \n",
    "            if not ctrl_trt_outcome.empty and not pd.isna(ctrl_trt_outcome.mean()):\n",
    "                training_j.loc[idx, intervention_outcome_col] = round(ctrl_trt_outcome.mean(), 2)\n",
    "            else:\n",
    "                training_j.loc[idx, intervention_outcome_col] = np.nan\n",
    "        \n",
    "        training_j = training_j.dropna(subset=[intervention_outcome_col])\n",
    "        # Create interaction terms\n",
    "        '''\n",
    "        training_j[\"int_outcome_x_egfr\"] = training_j[intervention_outcome_col] * training_j[\"EGFR_TKI\"]\n",
    "        training_j[\"int_outcome_x_immuno\"] = training_j[intervention_outcome_col] * training_j[\"PD1_PDL1_Inhibitor\"]\n",
    "        '''\n",
    "        for f in interaction_terms:\n",
    "            if f['feature1'] in training_j.columns and f['feature2'] in training_j.columns:\n",
    "                training_j[f['name']] = training_j[f['feature1']] * training_j[f['feature2']]\n",
    "        \n",
    "        # only consider control arms for training\n",
    "        training_j = training_j.loc[training_j[control_arm_col] == 1, :]\n",
    "        training_j = prepare_data(training_j, list_ftr_selected + [\"is_to_predict\", \"is_targeted_rct\", intervention_outcome_col, \"int_outcome_x_egfr\", \"int_outcome_x_immuno\", target_col])\n",
    "        training_j = run_fillna(training_j)\n",
    "\n",
    "        # Make sure the target row has the intervention outcome\n",
    "        training_j.loc[training_j[\"is_to_predict\"] == 1, intervention_outcome_col] = trt_outcome\n",
    "        \n",
    "        inference_df = training_j.loc[training_j[\"is_to_predict\"] == 1, :]\n",
    "        if inference_df.empty:\n",
    "            print(f\"Skipping {rct_name} as no inference data available.\")\n",
    "            continue\n",
    "        training_j = training_j.loc[training_j[\"is_to_predict\"] != 1, :]\n",
    "        training_j = training_j.loc[training_j[\"is_targeted_rct\"] != 1, :]\n",
    "\n",
    "        # Fit and summarize OLS model\n",
    "        lasso_model = linear_model.Lasso(alpha=0.4)\n",
    "        lasso_model.fit(training_j[list_ftr_selected + [intervention_outcome_col]], training_j[target_col])\n",
    "        predicted_outcome = round(lasso_model.predict(inference_df[list_ftr_selected + [intervention_outcome_col]])[0], 2)\n",
    "    \n",
    "        real_ate = round(trt_outcome - outcome_control, 2)\n",
    "        pred_ate = round(trt_outcome - predicted_outcome, 2)\n",
    "        results_ml.append({\n",
    "            \"real_ate\": real_ate,\n",
    "            \"pred_ate\": pred_ate,\n",
    "            \"outcome_control\": outcome_control,\n",
    "            \"predicted_outcome\": predicted_outcome,\n",
    "            \"rct_name\": rct_name,\n",
    "            \"intervention\": row[\"intervention\"],\n",
    "            \"Arm\": row[\"Arm\"],\n",
    "        })\n",
    "            \n",
    "        print(f\"{rct_name} - arm: {row['Arm']} - intervention: {trt_outcome} - real_outcome: {outcome_control}, pred_outcome: {predicted_outcome}, real ATE: {real_ate} vs pred ATE: {pred_ate}\")"
   ]
  },
  {
   "cell_type": "markdown",
   "id": "2553806d",
   "metadata": {},
   "source": [
    "## Approach 3: Conditional Machine Learning (ElasticNet)\n",
    "\n",
    "**Extension of the conditional ML approach using ElasticNet regularization:**\n",
    "\n",
    "### Key Differences from Lasso:\n",
    "- **Regularization**: Combines L1 (Lasso) and L2 (Ridge) penalties\n",
    "- **Feature selection**: More stable feature selection with correlated features\n",
    "- **Hyperparameters**: alpha=0.4, automatic L1/L2 ratio selection\n",
    "\n",
    "### Interaction Terms:\n",
    "- **Configurable**: Uses interaction terms defined in the configuration file\n",
    "- **Drug-specific**: Creates interactions between intervention outcome and specific drug classes\n",
    "\n",
    "**Expected Benefits**: Better handling of multicollinearity, more robust predictions"
   ]
  },
  {
   "cell_type": "code",
   "execution_count": 16,
   "id": "85a196a8",
   "metadata": {},
   "outputs": [
    {
     "name": "stdout",
     "output_type": "stream",
     "text": [
      "NCT01364012 - arm: Control - intervention: 9.2 - real_outcome: 6.5, pred_outcome: 7.66, real ATE: 2.7 vs pred ATE: 1.54\n",
      "NCT01469000 - arm: Control - intervention: 15.8 - real_outcome: 10.9, pred_outcome: 11.25, real ATE: 4.9 vs pred ATE: 4.55\n",
      "NCT03515837 - arm: Control - intervention: 5.6 - real_outcome: 5.5, pred_outcome: 5.93, real ATE: 0.1 vs pred ATE: -0.33\n",
      "NCT04129502 - arm: Control - intervention: 9.6 - real_outcome: 9.6, pred_outcome: 6.0, real ATE: 0.0 vs pred ATE: 3.6\n",
      "NCT04194203 - arm: Control - intervention: 9.5 - real_outcome: 7.1, pred_outcome: 5.45, real ATE: 2.4 vs pred ATE: 4.05\n",
      "NCT04538664 - arm: Control - intervention: 11.4 - real_outcome: 6.7, pred_outcome: 7.71, real ATE: 4.7 vs pred ATE: 3.69\n",
      "NCT04988295 - arm: Control - intervention: 7.3 - real_outcome: 4.2, pred_outcome: 7.0, real ATE: 3.1 vs pred ATE: 0.3\n",
      "NCT02142738 - arm: Control - intervention: 7.7 - real_outcome: 5.5, pred_outcome: 5.04, real ATE: 2.2 vs pred ATE: 2.66\n",
      "NCT02041533 - arm: Control - intervention: 4.2 - real_outcome: 5.9, pred_outcome: 4.49, real ATE: -1.7 vs pred ATE: -0.29\n",
      "NCT02657434 - arm: Control - intervention: 7.6 - real_outcome: 5.2, pred_outcome: 5.41, real ATE: 2.4 vs pred ATE: 2.19\n",
      "NCT02367781 - arm: Control - intervention: 7.0 - real_outcome: 5.5, pred_outcome: 7.61, real ATE: 1.5 vs pred ATE: -0.61\n",
      "NCT03134872 - arm: Control - intervention: 11.0 - real_outcome: 6.5, pred_outcome: 7.17, real ATE: 4.5 vs pred ATE: 3.83\n",
      "NCT03629925 - arm: Control - intervention: 5.5 - real_outcome: 4.9, pred_outcome: 3.48, real ATE: 0.6 vs pred ATE: 2.02\n",
      "NCT03117049 - arm: Control - intervention: 12.1 - real_outcome: 8.1, pred_outcome: 6.83, real ATE: 4.0 vs pred ATE: 5.27\n",
      "NCT03663205 - arm: Control - intervention: 9.7 - real_outcome: 7.6, pred_outcome: 6.55, real ATE: 2.1 vs pred ATE: 3.15\n",
      "NCT04194203 - arm: Control - intervention: 9.5 - real_outcome: 7.1, pred_outcome: 5.45, real ATE: 2.4 vs pred ATE: 4.05\n",
      "NCT03829332 - arm: Control - intervention: 6.6 - real_outcome: 4.2, pred_outcome: 5.53, real ATE: 2.4 vs pred ATE: 1.07\n",
      "NCT03829319 - arm: Control - intervention: 12.1 - real_outcome: 9.5, pred_outcome: 7.24, real ATE: 2.6 vs pred ATE: 4.86\n",
      "NCT03594747 - arm: Control - intervention: 7.6 - real_outcome: 5.5, pred_outcome: 6.73, real ATE: 2.1 vs pred ATE: 0.87\n",
      "NCT02477826 - arm: Control - intervention: 4.65 - real_outcome: 5.6, pred_outcome: 5.23, real ATE: -0.95 vs pred ATE: -0.58\n",
      "NCT03866993 - arm: Control - intervention: 7.6 - real_outcome: 4.2, pred_outcome: 5.99, real ATE: 3.4 vs pred ATE: 1.61\n",
      "NCT02775435 - arm: Control - intervention: 6.8 - real_outcome: 4.8, pred_outcome: 4.55, real ATE: 2.0 vs pred ATE: 2.25\n",
      "NCT02775435 - arm: Control - intervention: 6.8 - real_outcome: 5.2, pred_outcome: 5.11, real ATE: 1.6 vs pred ATE: 1.69\n",
      "Skipping The KEYNOTE-407 China extension study (NCT03875092) was identical to the global KEYNOTE-407 study with the exception that it included only patients enrolled in mainland China after enrollment in the global study was completed. as no inference data available.\n",
      "NCT03728556 - arm: Control - intervention: 9.0 - real_outcome: 5.8, pred_outcome: 6.19, real ATE: 3.2 vs pred ATE: 2.81\n"
     ]
    }
   ],
   "source": [
    "results_elastic_net = []\n",
    "for index, row in training_df.iterrows():\n",
    "    rct_name = row[trial_id_col]\n",
    "    is_arm_control = row[control_arm_col]\n",
    "    \n",
    "    if is_arm_control == 1:\n",
    "        # ground truth\n",
    "        outcome_control = round(row[target_col], 2)\n",
    "        \n",
    "        # Get the trt outcome of the RCT targeted\n",
    "        trt_arm = training_df.loc[training_df[trial_id_col] == rct_name, :]\n",
    "        trt_outcome = trt_arm.loc[trt_arm[control_arm_col] != 1, target_col]\n",
    "        trt_outcome = round(trt_outcome.mean(), 2)\n",
    "        \n",
    "        # User ML predictions\n",
    "        training_j = training_df.copy()\n",
    "        # flag inference row\n",
    "        training_j[\"is_to_predict\"] = np.where(training_j.index == index, 1, 0)\n",
    "        # flag RCT row\n",
    "        training_j[\"is_targeted_rct\"] = np.where(training_j[trial_id_col] == rct_name, 1, 0)\n",
    "\n",
    "        # Add intervention outcome as a feature for all control arms\n",
    "        # For each control arm, add the intervention outcome from the same trial\n",
    "        for idx, control_row in training_j[training_j[control_arm_col] == 1].iterrows():\n",
    "            ctrl_rct = control_row[trial_id_col]\n",
    "            # Get intervention outcome for this control's trial\n",
    "            ctrl_trt_outcome = training_j.loc[(training_j[trial_id_col] == ctrl_rct) & \n",
    "                                             (training_j[control_arm_col] != 1), target_col]\n",
    "            \n",
    "            if not ctrl_trt_outcome.empty and not pd.isna(ctrl_trt_outcome.mean()):\n",
    "                training_j.loc[idx, intervention_outcome_col] = round(ctrl_trt_outcome.mean(), 2)\n",
    "            else:\n",
    "                training_j.loc[idx, intervention_outcome_col] = np.nan\n",
    "\n",
    "            \n",
    "        \n",
    "        training_j = training_j.dropna(subset=[intervention_outcome_col])\n",
    "        \n",
    "        # Create interaction terms\n",
    "        '''\n",
    "        training_j[\"int_outcome_x_egfr\"] = training_j[intervention_outcome_col] * training_j[\"EGFR_TKI\"]\n",
    "        training_j[\"int_outcome_x_immuno\"] = training_j[intervention_outcome_col] * training_j[\"PD1_PDL1_Inhibitor\"]\n",
    "        '''\n",
    "        for f in interaction_terms:\n",
    "            if f['feature1'] in training_j.columns and f['feature2'] in training_j.columns:\n",
    "                training_j[f['name']] = training_j[f['feature1']] * training_j[f['feature2']]\n",
    "        \n",
    "        # only consider control arms for training\n",
    "        training_j = training_j.loc[training_j[control_arm_col] == 1, :]\n",
    "        training_j = prepare_data(training_j, list_ftr_selected + [\"is_to_predict\", \"is_targeted_rct\", intervention_outcome_col, \"int_outcome_x_egfr\", \"int_outcome_x_immuno\", target_col])\n",
    "        training_j = run_fillna(training_j)\n",
    "\n",
    "        # Make sure the target row has the intervention outcome\n",
    "        training_j.loc[training_j[\"is_to_predict\"] == 1, intervention_outcome_col] = trt_outcome\n",
    "        \n",
    "        inference_df = training_j.loc[training_j[\"is_to_predict\"] == 1, :]\n",
    "        if inference_df.empty:\n",
    "            print(f\"Skipping {rct_name} as no inference data available.\")\n",
    "            continue\n",
    "        training_j = training_j.loc[training_j[\"is_to_predict\"] != 1, :]\n",
    "        training_j = training_j.loc[training_j[\"is_targeted_rct\"] != 1, :]\n",
    "\n",
    "        # Fit and summarize ElasticNet model\n",
    "        lasso_model = linear_model.ElasticNet(alpha=0.4, random_state=42)\n",
    "        lasso_model.fit(training_j[list_ftr_selected + [intervention_outcome_col]], training_j[target_col])\n",
    "        predicted_outcome = round(lasso_model.predict(inference_df[list_ftr_selected + [intervention_outcome_col]])[0], 2)\n",
    "    \n",
    "        real_ate = round(trt_outcome - outcome_control, 2)\n",
    "        pred_ate = round(trt_outcome - predicted_outcome, 2)\n",
    "        \n",
    "        results_elastic_net.append({\n",
    "            \"real_ate\": real_ate,\n",
    "            \"pred_ate\": pred_ate,\n",
    "            \"outcome_control\": outcome_control,\n",
    "            \"predicted_outcome\": predicted_outcome,\n",
    "            \"rct_name\": rct_name,\n",
    "            \"intervention\": row[\"intervention\"],\n",
    "            \"Arm\": row[\"Arm\"],\n",
    "        })\n",
    "            \n",
    "        print(f\"{rct_name} - arm: {row['Arm']} - intervention: {trt_outcome} - real_outcome: {outcome_control}, pred_outcome: {predicted_outcome}, real ATE: {real_ate} vs pred ATE: {pred_ate}\")"
   ]
  },
  {
   "cell_type": "markdown",
   "id": "2a67a3b6",
   "metadata": {},
   "source": [
    "## Approach 3: Conditional Machine Learning (Random Forest)\n",
    "\n",
    "**Tree-based ensemble approach for conditional modeling:**\n",
    "\n",
    "### Model Configuration:\n",
    "- **Ensemble size**: 100 trees\n",
    "- **Max depth**: 10 (to prevent overfitting)\n",
    "- **Min samples split**: 10 (conservative for small datasets)\n",
    "- **Parallel processing**: n_jobs=-1 for faster training\n",
    "\n",
    "### ATE Bounds Implementation:\n",
    "- **Statistical bounds**: Calculate 10th-90th percentile of ATEs from other trials\n",
    "- **Clipping**: Constrain predicted ATEs to reasonable ranges\n",
    "- **Rationale**: Prevents extreme predictions that are clinically implausible\n"
   ]
  },
  {
   "cell_type": "code",
   "execution_count": 17,
   "id": "d6799169",
   "metadata": {},
   "outputs": [],
   "source": [
    "def get_ate_bounds_from_other_trials(training_df, target_col, current_rct_name, percentile_low=10, percentile_high=90):\n",
    "    \"\"\"\n",
    "    Calculate ATE bounds based only on the distribution of ATEs from other trials\n",
    "    (excluding the trial we're trying to predict)\n",
    "    \"\"\"\n",
    "    ates = []\n",
    "    \n",
    "    # Only consider RCTs that are not the current one\n",
    "    other_rcts = training_df[training_df['NCT_ID'] != current_rct_name]['NCT_ID'].unique()\n",
    "    \n",
    "    # For each other RCT, calculate its ATE\n",
    "    for rct_name in other_rcts:\n",
    "        rct_data = training_df[training_df['NCT_ID'] == rct_name]\n",
    "        \n",
    "        # Get control outcome\n",
    "        control_outcomes = rct_data.loc[rct_data['is_arm_control'] == 1, target_col]\n",
    "        # Get treatment outcomes\n",
    "        treatment_outcomes = rct_data.loc[rct_data['is_arm_control'] != 1, target_col]\n",
    "        \n",
    "        if not control_outcomes.empty and not treatment_outcomes.empty:\n",
    "            control_outcome = control_outcomes.mean()\n",
    "            treatment_outcome = treatment_outcomes.mean()\n",
    "            \n",
    "            # Calculate ATE\n",
    "            ate = treatment_outcome - control_outcome\n",
    "            ates.append(ate)\n",
    "    \n",
    "    # Calculate percentiles if we have enough data\n",
    "    if len(ates) >= 5:\n",
    "        lower_bound = np.percentile(ates, percentile_low)\n",
    "        upper_bound = np.percentile(ates, percentile_high)\n",
    "        return lower_bound, upper_bound\n",
    "    else:\n",
    "        # Fallback to reasonable defaults if not enough data\n",
    "        return -4, 4"
   ]
  },
  {
   "cell_type": "code",
   "execution_count": 18,
   "id": "674455e0",
   "metadata": {},
   "outputs": [
    {
     "data": {
      "text/plain": [
       "['gender_male_percent',\n",
       " 'age_median',\n",
       " 'no_smoker_percent',\n",
       " 'ecog_1',\n",
       " 'smoker_percent',\n",
       " 'brain_metastase_yes',\n",
       " 'disease_stage_recurrent',\n",
       " 'disease_stage_III',\n",
       " 'disease_stage_IV',\n",
       " 'EGFR_wild',\n",
       " 'EGFR_positive_mutation',\n",
       " 'EGFR_TKI',\n",
       " 'Platinum_Chemotherapy',\n",
       " 'Anti_VEGF',\n",
       " 'PD1_PDL1_Inhibitor',\n",
       " 'Antimetabolite',\n",
       " 'Taxane',\n",
       " 'Antibody',\n",
       " 'Placebo_Supportive-Care',\n",
       " 'Chemotherapy',\n",
       " 'Targeted_Therapy',\n",
       " 'Immunotherapy',\n",
       " 'Anti-angiogenic_Other',\n",
       " 'combo_therapy',\n",
       " 'treatment_complexity',\n",
       " 'RCT_with_control_inter',\n",
       " 'is_arm_control',\n",
       " 'Population',\n",
       " 'First-in-Class',\n",
       " 'Next-Generation']"
      ]
     },
     "execution_count": 18,
     "metadata": {},
     "output_type": "execute_result"
    }
   ],
   "source": [
    "list_ftr_selected"
   ]
  },
  {
   "cell_type": "code",
   "execution_count": 19,
   "id": "3e3d34da",
   "metadata": {},
   "outputs": [
    {
     "name": "stdout",
     "output_type": "stream",
     "text": [
      "NCT01364012 - arm: Control - intervention: 9.2\n",
      "  Training: RMSE=0.991, R²=0.686, MAE=0.739, Bias=-0.002\n",
      "  Real outcome: 6.5, Pred: 6.3\n",
      "  Real ATE: 2.7 vs Pred ATE: 2.9\n",
      "NCT01469000 - arm: Control - intervention: 15.8\n",
      "  Training: RMSE=0.791, R²=0.713, MAE=0.582, Bias=0.0\n",
      "  Real outcome: 10.9, Pred: 7.59\n",
      "  Real ATE: 4.9 vs Pred ATE: 8.21\n",
      "NCT03515837 - arm: Control - intervention: 5.6\n",
      "  Training: RMSE=1.0, R²=0.678, MAE=0.72, Bias=-0.017\n",
      "  Real outcome: 5.5, Pred: 5.18\n",
      "  Real ATE: 0.1 vs Pred ATE: 0.42\n",
      "NCT04129502 - arm: Control - intervention: 9.6\n",
      "  Training: RMSE=0.955, R²=0.655, MAE=0.627, Bias=-0.042\n",
      "  Real outcome: 9.6, Pred: 7.6\n",
      "  Real ATE: 0.0 vs Pred ATE: 2.0\n",
      "NCT04194203 - arm: Control - intervention: 9.5\n",
      "  Training: RMSE=1.02, R²=0.677, MAE=0.729, Bias=-0.032\n",
      "  Real outcome: 7.1, Pred: 7.8\n",
      "  Real ATE: 2.4 vs Pred ATE: 1.7\n",
      "NCT04538664 - arm: Control - intervention: 11.4\n",
      "  Training: RMSE=0.95, R²=0.711, MAE=0.664, Bias=-0.055\n",
      "  Real outcome: 6.7, Pred: 7.95\n",
      "  Real ATE: 4.7 vs Pred ATE: 3.45\n",
      "NCT04988295 - arm: Control - intervention: 7.3\n",
      "  Training: RMSE=0.992, R²=0.664, MAE=0.684, Bias=-0.049\n",
      "  Real outcome: 4.2, Pred: 5.52\n",
      "  Real ATE: 3.1 vs Pred ATE: 1.78\n",
      "NCT02142738 - arm: Control - intervention: 7.7\n",
      "  Training: RMSE=1.005, R²=0.674, MAE=0.722, Bias=-0.042\n",
      "  Real outcome: 5.5, Pred: 5.29\n",
      "  Real ATE: 2.2 vs Pred ATE: 2.41\n",
      "NCT02041533 - arm: Control - intervention: 4.2\n",
      "  Training: RMSE=0.992, R²=0.685, MAE=0.705, Bias=-0.047\n",
      "  Real outcome: 5.9, Pred: 5.17\n",
      "  Real ATE: -1.7 vs Pred ATE: -0.97\n",
      "NCT02657434 - arm: Control - intervention: 7.6\n",
      "  Training: RMSE=1.005, R²=0.671, MAE=0.729, Bias=-0.041\n",
      "  Real outcome: 5.2, Pred: 5.21\n",
      "  Real ATE: 2.4 vs Pred ATE: 2.39\n",
      "NCT02367781 - arm: Control - intervention: 7.0\n",
      "  Training: RMSE=1.003, R²=0.676, MAE=0.717, Bias=-0.041\n",
      "  Real outcome: 5.5, Pred: 5.21\n",
      "  Real ATE: 1.5 vs Pred ATE: 1.79\n",
      "NCT03134872 - arm: Control - intervention: 11.0\n",
      "  Training: RMSE=0.936, R²=0.72, MAE=0.658, Bias=-0.039\n",
      "  Real outcome: 6.5, Pred: 7.96\n",
      "  Real ATE: 4.5 vs Pred ATE: 3.04\n",
      "NCT03629925 - arm: Control - intervention: 5.5\n",
      "  Training: RMSE=0.99, R²=0.678, MAE=0.706, Bias=-0.031\n",
      "  Real outcome: 4.9, Pred: 5.24\n",
      "  Real ATE: 0.6 vs Pred ATE: 0.26\n",
      "NCT03117049 - arm: Control - intervention: 12.1\n",
      "  Training: RMSE=1.01, R²=0.659, MAE=0.728, Bias=-0.027\n",
      "  Real outcome: 8.1, Pred: 7.78\n",
      "  Real ATE: 4.0 vs Pred ATE: 4.32\n",
      "NCT03663205 - arm: Control - intervention: 9.7\n",
      "  Training: RMSE=1.002, R²=0.672, MAE=0.731, Bias=-0.027\n",
      "  Real outcome: 7.6, Pred: 7.84\n",
      "  Real ATE: 2.1 vs Pred ATE: 1.86\n",
      "NCT04194203 - arm: Control - intervention: 9.5\n",
      "  Training: RMSE=1.02, R²=0.677, MAE=0.729, Bias=-0.032\n",
      "  Real outcome: 7.1, Pred: 7.8\n",
      "  Real ATE: 2.4 vs Pred ATE: 1.7\n",
      "NCT03829332 - arm: Control - intervention: 6.6\n",
      "  Training: RMSE=0.978, R²=0.673, MAE=0.68, Bias=-0.043\n",
      "  Real outcome: 4.2, Pred: 5.28\n",
      "  Real ATE: 2.4 vs Pred ATE: 1.32\n",
      "NCT03829319 - arm: Control - intervention: 12.1\n",
      "  Training: RMSE=0.961, R²=0.654, MAE=0.654, Bias=-0.015\n",
      "  Real outcome: 9.5, Pred: 7.57\n",
      "  Real ATE: 2.6 vs Pred ATE: 4.53\n",
      "NCT03594747 - arm: Control - intervention: 7.6\n",
      "  Training: RMSE=0.984, R²=0.688, MAE=0.706, Bias=-0.003\n",
      "  Real outcome: 5.5, Pred: 5.19\n",
      "  Real ATE: 2.1 vs Pred ATE: 2.41\n",
      "NCT02477826 - arm: Control - intervention: 4.65\n",
      "  Training: RMSE=0.984, R²=0.689, MAE=0.704, Bias=-0.003\n",
      "  Real outcome: 5.6, Pred: 5.19\n",
      "  Real ATE: -0.95 vs Pred ATE: -0.54\n",
      "NCT03866993 - arm: Control - intervention: 7.6\n",
      "  Training: RMSE=0.965, R²=0.682, MAE=0.676, Bias=0.005\n",
      "  Real outcome: 4.2, Pred: 5.41\n",
      "  Real ATE: 3.4 vs Pred ATE: 2.19\n",
      "NCT02775435 - arm: Control - intervention: 6.8\n",
      "  Training: RMSE=1.01, R²=0.671, MAE=0.744, Bias=0.01\n",
      "  Real outcome: 4.8, Pred: 5.27\n",
      "  Real ATE: 2.0 vs Pred ATE: 1.53\n",
      "NCT02775435 - arm: Control - intervention: 6.8\n",
      "  Training: RMSE=1.01, R²=0.671, MAE=0.744, Bias=0.01\n",
      "  Real outcome: 5.2, Pred: 5.24\n",
      "  Real ATE: 1.6 vs Pred ATE: 1.56\n",
      "NCT03728556 - arm: Control - intervention: 9.0\n",
      "  Training: RMSE=0.987, R²=0.688, MAE=0.732, Bias=-0.001\n",
      "  Real outcome: 5.8, Pred: 6.94\n",
      "  Real ATE: 3.2 vs Pred ATE: 2.06\n"
     ]
    }
   ],
   "source": [
    "from sklearn.ensemble import RandomForestRegressor\n",
    "\n",
    "results_rf = []\n",
    "\n",
    "for index, row in training_df.iterrows():\n",
    "    rct_name = row[trial_id_col]\n",
    "    is_arm_control = row[control_arm_col]\n",
    "    \n",
    "    if is_arm_control == 1:\n",
    "        # ground truth\n",
    "        outcome_control = round(row[target_col], 2)\n",
    "        \n",
    "        # Get the trt outcome of the RCT targeted\n",
    "        trt_arm = training_df.loc[training_df[trial_id_col] == rct_name, :]\n",
    "        trt_outcome = trt_arm.loc[trt_arm[control_arm_col] != 1, target_col]\n",
    "        \n",
    "        if trt_outcome.empty or pd.isna(trt_outcome.mean()):\n",
    "            continue\n",
    "            \n",
    "        trt_outcome = round(trt_outcome.mean(), 2)\n",
    "        \n",
    "        # User ML predictions\n",
    "        training_j = training_df.copy()\n",
    "        # flag inference row\n",
    "        training_j[\"is_to_predict\"] = np.where(training_j.index == index, 1, 0)\n",
    "        # flag RCT row\n",
    "        training_j[\"is_targeted_rct\"] = np.where(training_j[trial_id_col] == rct_name, 1, 0)\n",
    "\n",
    "        # Add intervention outcome as a feature for all control arms\n",
    "        # For each control arm, add the intervention outcome from the same trial\n",
    "        for idx, control_row in training_j[training_j[control_arm_col] == 1].iterrows():\n",
    "            ctrl_rct = control_row[trial_id_col]\n",
    "            # Get intervention outcome for this control's trial\n",
    "            ctrl_trt_outcome = training_j.loc[(training_j[trial_id_col] == ctrl_rct) & \n",
    "                                             (training_j[control_arm_col] != 1), target_col]\n",
    "            \n",
    "            if not ctrl_trt_outcome.empty and not pd.isna(ctrl_trt_outcome.mean()):\n",
    "                training_j.loc[idx, intervention_outcome_col] = round(ctrl_trt_outcome.mean(), 2)\n",
    "            else:\n",
    "                training_j.loc[idx, intervention_outcome_col] = np.nan\n",
    "        \n",
    "        training_j = training_j.dropna(subset=[intervention_outcome_col])\n",
    "        \n",
    "        # only consider control arms for training\n",
    "        training_j = training_j.loc[training_j[control_arm_col] == 1, :]\n",
    "        training_j = prepare_data(training_j, list_ftr_selected + [\"is_to_predict\", \"is_targeted_rct\", intervention_outcome_col, target_col])\n",
    "        training_j = run_fillna(training_j)\n",
    "\n",
    "        # Make sure the target row has the intervention outcome\n",
    "        training_j.loc[training_j[\"is_to_predict\"] == 1, intervention_outcome_col] = trt_outcome\n",
    "        \n",
    "        inference_df = training_j.loc[training_j[\"is_to_predict\"] == 1, :]\n",
    "        if inference_df.empty:\n",
    "            print(f\"Skipping {rct_name} as no inference data available.\")\n",
    "            continue\n",
    "            \n",
    "        # Remove target trial from training\n",
    "        training_subset = training_j.loc[training_j[\"is_to_predict\"] != 1, :]\n",
    "        training_subset = training_subset.loc[training_subset[\"is_targeted_rct\"] != 1, :]\n",
    "        \n",
    "        if len(training_subset) < 5:\n",
    "            print(f\"Skipping {rct_name} - insufficient training data ({len(training_subset)} samples)\")\n",
    "            continue\n",
    "\n",
    "        # Fit Random Forest model\n",
    "        lasso_model = RandomForestRegressor(n_estimators=100, random_state=42, n_jobs=-1, max_depth=10, min_samples_split=10, min_samples_leaf=5)\n",
    "        lasso_model.fit(training_subset[list_ftr_selected + [intervention_outcome_col]], training_subset[target_col])\n",
    "        \n",
    "        # ==========================================\n",
    "        # CALCULATE TRAINING ACCURACY METRICS\n",
    "        # ==========================================\n",
    "        \n",
    "        # Get training predictions\n",
    "        training_preds = lasso_model.predict(training_subset[list_ftr_selected + [intervention_outcome_col]])\n",
    "        training_true = training_subset[target_col].values\n",
    "        \n",
    "        # Calculate training metrics\n",
    "        training_rmse = round(np.sqrt(mean_squared_error(training_true, training_preds)), 3)\n",
    "        training_r2 = round(r2_score(training_true, training_preds), 3)\n",
    "        training_mae = round(np.mean(np.abs(training_true - training_preds)), 3)\n",
    "        training_bias = round(np.mean(training_preds - training_true), 3)\n",
    "        training_abs_bias = round(np.mean(np.abs(training_preds - training_true)), 3)\n",
    "        \n",
    "        # ==========================================\n",
    "        # GET TEST PREDICTION\n",
    "        # ==========================================\n",
    "        \n",
    "        predicted_outcome = round(lasso_model.predict(inference_df[list_ftr_selected + [intervention_outcome_col]])[0], 2)\n",
    "        \n",
    "        real_ate = round(trt_outcome - outcome_control, 2)\n",
    "        pred_ate = round(trt_outcome - predicted_outcome, 2)\n",
    "        \n",
    "        # Calculate ATE bounds from other trials (NOT including the current trial)\n",
    "        # ate_lower_bound, ate_upper_bound = get_ate_bounds_from_other_trials(\n",
    "        #     training_df, target_col, rct_name, percentile_low=10, percentile_high=90\n",
    "        # )\n",
    "        \n",
    "        # ==========================================\n",
    "        # STORE RESULTS WITH TRAINING METRICS\n",
    "        # ==========================================\n",
    "        \n",
    "        results_rf.append({\n",
    "            # Original results\n",
    "            \"real_ate\": real_ate,\n",
    "            \"pred_ate\": pred_ate,\n",
    "            \"outcome_control\": outcome_control,\n",
    "            \"predicted_outcome\": predicted_outcome,\n",
    "            \"rct_name\": rct_name,\n",
    "            \"intervention\": row[\"intervention\"],\n",
    "            \"Arm\": row[\"Arm\"],\n",
    "            \"n_training_samples\": len(training_subset),\n",
    "            \n",
    "            # NEW: Training accuracy metrics\n",
    "            \"training_rmse\": training_rmse,\n",
    "            \"training_r2\": training_r2,\n",
    "            \"training_mae\": training_mae,\n",
    "            \"training_bias\": training_bias,\n",
    "            \"training_abs_bias\": training_abs_bias,\n",
    "        })\n",
    "            \n",
    "        print(f\"{rct_name} - arm: {row['Arm']} - intervention: {trt_outcome}\")\n",
    "        print(f\"  Training: RMSE={training_rmse}, R²={training_r2}, MAE={training_mae}, Bias={training_bias}\")\n",
    "        print(f\"  Real outcome: {outcome_control}, Pred: {predicted_outcome}\")\n",
    "        print(f\"  Real ATE: {real_ate} vs Pred ATE: {pred_ate}\")"
   ]
  },
  {
   "cell_type": "markdown",
   "id": "4191aa51",
   "metadata": {},
   "source": [
    "## Approach 3: Conditional Machine Learning (LightGBM)\n",
    "\n",
    "**Gradient boosting approach optimized for small datasets:**\n",
    "\n",
    "### Conservative Hyperparameters:\n",
    "- **Learning rate**: 0.05 (slow learning to prevent overfitting)\n",
    "- **Max depth**: 3 (shallow trees)\n",
    "- **Num leaves**: 7 (< 2^max_depth to prevent overfitting)\n",
    "- **Regularization**: L1=0.1, L2=0.1 regularization\n",
    "- **Subsampling**: 80% data and features per tree\n",
    "\n",
    "### Small Dataset Adaptations:\n",
    "- **Fewer estimators**: 50 trees instead of default\n",
    "- **Conservative leaf settings**: min_data_in_leaf=3, min_child_samples=5\n",
    "- **Early stopping**: Implicit through limited estimators\n",
    "\n",
    "### ATE Bounds:\n",
    "Same statistical bounding approach as Random Forest to ensure clinical plausibility.\n"
   ]
  },
  {
   "cell_type": "code",
   "execution_count": 20,
   "id": "314c7529",
   "metadata": {},
   "outputs": [
    {
     "name": "stdout",
     "output_type": "stream",
     "text": [
      "NCT01364012 - arm: Control - intervention: 9.2 - real_outcome: 6.5, pred_outcome: 6.38, real ATE: 2.7 vs pred ATE: 2.82\n",
      "NCT01469000 - arm: Control - intervention: 15.8 - real_outcome: 10.9, pred_outcome: 7.68, real ATE: 4.9 vs pred ATE: 8.12\n",
      "NCT03515837 - arm: Control - intervention: 5.6 - real_outcome: 5.5, pred_outcome: 4.54, real ATE: 0.1 vs pred ATE: 1.06\n",
      "NCT04129502 - arm: Control - intervention: 9.6 - real_outcome: 9.6, pred_outcome: 7.98, real ATE: 0.0 vs pred ATE: 1.62\n",
      "NCT04194203 - arm: Control - intervention: 9.5 - real_outcome: 7.1, pred_outcome: 7.32, real ATE: 2.4 vs pred ATE: 2.18\n",
      "NCT04538664 - arm: Control - intervention: 11.4 - real_outcome: 6.7, pred_outcome: 7.14, real ATE: 4.7 vs pred ATE: 4.26\n",
      "NCT04988295 - arm: Control - intervention: 7.3 - real_outcome: 4.2, pred_outcome: 5.27, real ATE: 3.1 vs pred ATE: 2.03\n",
      "NCT02142738 - arm: Control - intervention: 7.7 - real_outcome: 5.5, pred_outcome: 5.62, real ATE: 2.2 vs pred ATE: 2.08\n",
      "NCT02041533 - arm: Control - intervention: 4.2 - real_outcome: 5.9, pred_outcome: 5.09, real ATE: -1.7 vs pred ATE: -0.89\n",
      "NCT02657434 - arm: Control - intervention: 7.6 - real_outcome: 5.2, pred_outcome: 4.98, real ATE: 2.4 vs pred ATE: 2.62\n",
      "NCT02367781 - arm: Control - intervention: 7.0 - real_outcome: 5.5, pred_outcome: 5.37, real ATE: 1.5 vs pred ATE: 1.63\n",
      "NCT03134872 - arm: Control - intervention: 11.0 - real_outcome: 6.5, pred_outcome: 7.27, real ATE: 4.5 vs pred ATE: 3.73\n",
      "NCT03629925 - arm: Control - intervention: 5.5 - real_outcome: 4.9, pred_outcome: 5.44, real ATE: 0.6 vs pred ATE: 0.06\n",
      "NCT03117049 - arm: Control - intervention: 12.1 - real_outcome: 8.1, pred_outcome: 6.99, real ATE: 4.0 vs pred ATE: 5.11\n",
      "NCT03663205 - arm: Control - intervention: 9.7 - real_outcome: 7.6, pred_outcome: 6.79, real ATE: 2.1 vs pred ATE: 2.91\n",
      "NCT04194203 - arm: Control - intervention: 9.5 - real_outcome: 7.1, pred_outcome: 7.32, real ATE: 2.4 vs pred ATE: 2.18\n",
      "NCT03829332 - arm: Control - intervention: 6.6 - real_outcome: 4.2, pred_outcome: 6.6, real ATE: 2.4 vs pred ATE: 0.0\n",
      "NCT03829319 - arm: Control - intervention: 12.1 - real_outcome: 9.5, pred_outcome: 7.25, real ATE: 2.6 vs pred ATE: 4.85\n",
      "NCT03594747 - arm: Control - intervention: 7.6 - real_outcome: 5.5, pred_outcome: 4.87, real ATE: 2.1 vs pred ATE: 2.73\n",
      "NCT02477826 - arm: Control - intervention: 4.65 - real_outcome: 5.6, pred_outcome: 4.89, real ATE: -0.95 vs pred ATE: -0.24\n",
      "NCT03866993 - arm: Control - intervention: 7.6 - real_outcome: 4.2, pred_outcome: 5.09, real ATE: 3.4 vs pred ATE: 2.51\n",
      "NCT02775435 - arm: Control - intervention: 6.8 - real_outcome: 4.8, pred_outcome: 5.16, real ATE: 2.0 vs pred ATE: 1.64\n",
      "NCT02775435 - arm: Control - intervention: 6.8 - real_outcome: 5.2, pred_outcome: 5.41, real ATE: 1.6 vs pred ATE: 1.39\n",
      "NCT03728556 - arm: Control - intervention: 9.0 - real_outcome: 5.8, pred_outcome: 4.95, real ATE: 3.2 vs pred ATE: 4.05\n"
     ]
    }
   ],
   "source": [
    "import lightgbm as lgb\n",
    "import numpy as np\n",
    "import pandas as pd\n",
    "from sklearn.metrics import mean_squared_error\n",
    "\n",
    "results_lgbm = []\n",
    "for index, row in training_df.iterrows():\n",
    "    rct_name = row[trial_id_col]\n",
    "    is_arm_control = row[control_arm_col]\n",
    "    \n",
    "    if is_arm_control == 1:\n",
    "        # ground truth\n",
    "        outcome_control = round(row[target_col], 2)\n",
    "        \n",
    "        # Get the trt outcome of the RCT targeted\n",
    "        trt_arm = training_df.loc[training_df[trial_id_col] == rct_name, :]\n",
    "        trt_outcome = trt_arm.loc[trt_arm[control_arm_col] != 1, target_col]\n",
    "        \n",
    "        if trt_outcome.empty or pd.isna(trt_outcome.mean()):\n",
    "            continue\n",
    "            \n",
    "        trt_outcome = round(trt_outcome.mean(), 2)\n",
    "        \n",
    "        # User ML predictions\n",
    "        training_j = training_df.copy()\n",
    "        # flag inference row\n",
    "        training_j[\"is_to_predict\"] = np.where(training_j.index == index, 1, 0)\n",
    "        # flag RCT row\n",
    "        training_j[\"is_targeted_rct\"] = np.where(training_j[trial_id_col] == rct_name, 1, 0)\n",
    "\n",
    "        # Add intervention outcome as a feature for all control arms\n",
    "        for idx, control_row in training_j[training_j[control_arm_col] == 1].iterrows():\n",
    "            ctrl_rct = control_row[trial_id_col]\n",
    "            # Get intervention outcome for this control's trial\n",
    "            ctrl_trt_outcome = training_j.loc[(training_j[trial_id_col] == ctrl_rct) & \n",
    "                                             (training_j[control_arm_col] != 1), target_col]\n",
    "            \n",
    "            if not ctrl_trt_outcome.empty and not pd.isna(ctrl_trt_outcome.mean()):\n",
    "                training_j.loc[idx, intervention_outcome_col] = round(ctrl_trt_outcome.mean(), 2)\n",
    "            else:\n",
    "                training_j.loc[idx, intervention_outcome_col] = np.nan\n",
    "        \n",
    "        training_j = training_j.dropna(subset=[intervention_outcome_col])\n",
    "        \n",
    "        # only consider control arms for training\n",
    "        training_j = training_j.loc[training_j[control_arm_col] == 1, :]\n",
    "        training_j = prepare_data(training_j, list_ftr_selected + [\"is_to_predict\", \"is_targeted_rct\", intervention_outcome_col, target_col])\n",
    "        training_j = run_fillna(training_j)\n",
    "\n",
    "        # Make sure the target row has the intervention outcome\n",
    "        training_j.loc[training_j[\"is_to_predict\"] == 1, intervention_outcome_col] = trt_outcome\n",
    "        \n",
    "        inference_df = training_j.loc[training_j[\"is_to_predict\"] == 1, :]\n",
    "        if inference_df.empty:\n",
    "            print(f\"Skipping {rct_name} as no inference data available.\")\n",
    "            continue\n",
    "        \n",
    "        # Create training set by removing inference row and rows from same trial\n",
    "        training_j = training_j.loc[training_j[\"is_to_predict\"] != 1, :]\n",
    "        training_j = training_j.loc[training_j[\"is_targeted_rct\"] != 1, :]\n",
    "\n",
    "        # Configure LightGBM with conservative parameters for small datasets\n",
    "        lgbm_params = {\n",
    "            'objective': 'regression',\n",
    "            'metric': 'rmse',\n",
    "            'boosting_type': 'gbdt',\n",
    "            'n_estimators': 100,            # Fewer trees to prevent overfitting\n",
    "            'learning_rate': 0.05,         # Small learning rate\n",
    "            'max_depth': 7,                # Shallow trees\n",
    "            'num_leaves': 7,               # Limit leaves (should be < 2^max_depth)\n",
    "            'min_data_in_leaf': 3,         # Similar to min_samples_leaf\n",
    "            'min_child_samples': 5,        # Similar to min_samples_split\n",
    "            'subsample': 0.8,              # Use 80% of data for each tree\n",
    "            'colsample_bytree': 0.8,       # Use 80% of features for each tree\n",
    "            'reg_alpha': 0.1,              # L1 regularization\n",
    "            'reg_lambda': 0.1,             # L2 regularization\n",
    "            'random_state': 42,\n",
    "            'verbose': -1                  # Suppress output\n",
    "        }\n",
    "        \n",
    "        # Prepare feature matrix and target\n",
    "        X_train = training_j[list_ftr_selected + [intervention_outcome_col]]\n",
    "        y_train = training_j[target_col]\n",
    "        \n",
    "        # Train LightGBM model\n",
    "        lgbm_model = lgb.LGBMRegressor(**lgbm_params)\n",
    "        lgbm_model.fit(X_train, y_train)\n",
    "        \n",
    "        # Predict\n",
    "        X_pred = inference_df[list_ftr_selected + [intervention_outcome_col]]\n",
    "        predicted_outcome = round(lgbm_model.predict(X_pred)[0], 2)\n",
    "    \n",
    "        # Calculate ATEs\n",
    "        real_ate = round(trt_outcome - outcome_control, 2)\n",
    "        pred_ate = round(trt_outcome - predicted_outcome, 2)\n",
    "        \n",
    "        # Apply statistical bounds to predicted ATE\n",
    "        # ate_lower_bound, ate_upper_bound = get_ate_bounds_from_other_trials(\n",
    "        #     training_df, target_col, rct_name, percentile_low=10, percentile_high=90\n",
    "        # )\n",
    "\n",
    "        \n",
    "        \n",
    "        # Store results\n",
    "        results_lgbm.append({\n",
    "            \"real_ate\": real_ate,\n",
    "            \"pred_ate\": pred_ate,\n",
    "            \"outcome_control\": outcome_control,\n",
    "            \"predicted_outcome\": predicted_outcome,\n",
    "            \"rct_name\": rct_name,\n",
    "            \"intervention\": row[\"intervention\"],\n",
    "            \"Arm\": row[\"Arm\"],\n",
    "            #\"bounds\": f\"[{round(ate_lower_bound,2)}, {round(ate_upper_bound,2)}]\"\n",
    "        })\n",
    "            \n",
    "        print(f\"{rct_name} - arm: {row['Arm']} - intervention: {trt_outcome} - real_outcome: {outcome_control}, pred_outcome: {predicted_outcome}, real ATE: {real_ate} vs pred ATE: {pred_ate}\")\n",
    "\n"
   ]
  },
  {
   "cell_type": "markdown",
   "id": "c0144088",
   "metadata": {},
   "source": [
    "## Approach 3: Conditional Machine Learning (Catboost)"
   ]
  },
  {
   "cell_type": "code",
   "execution_count": 21,
   "id": "bfc86276",
   "metadata": {},
   "outputs": [
    {
     "name": "stdout",
     "output_type": "stream",
     "text": [
      "  Training metrics - RMSE: 0.036, R²: 1.0, MAE: 0.009\n",
      "NCT01364012 - arm: Control - intervention: 9.2\n",
      "  Real outcome: 6.5, Pred: 6.51 ± 0.16\n",
      "  Pred CI 95%: [5.9, 8.1], width: 2.2\n",
      "  Real ATE: 2.7, Pred ATE: 2.69 (95% CI: [np.float64(1.1), np.float64(3.3)])\n",
      "  P(ATE > 0): 1.0 (empirical: 1.0)\n",
      "  Training metrics - RMSE: 0.049, R²: 0.999, MAE: 0.016\n",
      "NCT01469000 - arm: Control - intervention: 15.8\n",
      "  Real outcome: 10.9, Pred: 7.56 ± 0.05\n",
      "  Pred CI 95%: [7.87, 7.24], width: -0.63\n",
      "  Real ATE: 4.9, Pred ATE: 8.24 (95% CI: [np.float64(7.93), np.float64(8.56)])\n",
      "  P(ATE > 0): 1.0 (empirical: 1.0)\n",
      "  Training metrics - RMSE: 0.031, R²: 1.0, MAE: 0.009\n",
      "NCT03515837 - arm: Control - intervention: 5.6\n",
      "  Real outcome: 5.5, Pred: 4.42 ± 0.05\n",
      "  Pred CI 95%: [4.4, 5.68], width: 1.28\n",
      "  Real ATE: 0.1, Pred ATE: 1.18 (95% CI: [np.float64(-0.06), np.float64(1.2)])\n",
      "  P(ATE > 0): 0.963 (empirical: 0.963)\n",
      "  Training metrics - RMSE: 0.023, R²: 1.0, MAE: 0.009\n",
      "NCT04129502 - arm: Control - intervention: 9.6\n",
      "  Real outcome: 9.6, Pred: 7.02 ± -0.58\n",
      "  Pred CI 95%: [5.7, 7.67], width: 1.97\n",
      "  Real ATE: 0.0, Pred ATE: 2.58 (95% CI: [np.float64(1.93), np.float64(3.9)])\n",
      "  P(ATE > 0): 1.0 (empirical: 1.0)\n",
      "  Training metrics - RMSE: 0.049, R²: 0.999, MAE: 0.014\n",
      "NCT04194203 - arm: Control - intervention: 9.5\n",
      "  Real outcome: 7.1, Pred: 6.46 ± -0.33\n",
      "  Pred CI 95%: [6.12, 7.23], width: 1.11\n",
      "  Real ATE: 2.4, Pred ATE: 3.04 (95% CI: [np.float64(2.28), np.float64(3.8)])\n",
      "  P(ATE > 0): 1.0 (empirical: 1.0)\n",
      "  Training metrics - RMSE: 0.087, R²: 0.998, MAE: 0.024\n",
      "NCT04538664 - arm: Control - intervention: 11.4\n",
      "  Real outcome: 6.7, Pred: 7.8 ± 0.21\n",
      "  Pred CI 95%: [5.4, 7.92], width: 2.52\n",
      "  Real ATE: 4.7, Pred ATE: 3.6 (95% CI: [np.float64(3.47), np.float64(6.0)])\n",
      "  P(ATE > 0): 1.0 (empirical: 1.0)\n",
      "  Training metrics - RMSE: 0.065, R²: 0.999, MAE: 0.015\n",
      "NCT04988295 - arm: Control - intervention: 7.3\n",
      "  Real outcome: 4.2, Pred: 5.61 ± 0.24\n",
      "  Pred CI 95%: [5.7, 6.52], width: 0.82\n",
      "  Real ATE: 3.1, Pred ATE: 1.69 (95% CI: [np.float64(0.79), np.float64(1.68)])\n",
      "  P(ATE > 0): 1.0 (empirical: 1.0)\n",
      "  Training metrics - RMSE: 0.04, R²: 0.999, MAE: 0.013\n",
      "NCT02142738 - arm: Control - intervention: 7.7\n",
      "  Real outcome: 5.5, Pred: 5.54 ± -0.03\n",
      "  Pred CI 95%: [5.33, 6.13], width: 0.8\n",
      "  Real ATE: 2.2, Pred ATE: 2.16 (95% CI: [np.float64(1.57), np.float64(2.37)])\n",
      "  P(ATE > 0): 1.0 (empirical: 1.0)\n",
      "  Training metrics - RMSE: 0.035, R²: 1.0, MAE: 0.013\n",
      "NCT02041533 - arm: Control - intervention: 4.2\n",
      "  Real outcome: 5.9, Pred: 5.52 ± 0.25\n",
      "  Pred CI 95%: [5.02, 5.94], width: 0.92\n",
      "  Real ATE: -1.7, Pred ATE: -1.32 (95% CI: [np.float64(-1.71), np.float64(-0.82)])\n",
      "  P(ATE > 0): 0.0 (empirical: 0.0)\n",
      "  Training metrics - RMSE: 0.058, R²: 0.999, MAE: 0.02\n",
      "NCT02657434 - arm: Control - intervention: 7.6\n",
      "  Real outcome: 5.2, Pred: 5.31 ± 0.25\n",
      "  Pred CI 95%: [4.86, 6.17], width: 1.31\n",
      "  Real ATE: 2.4, Pred ATE: 2.29 (95% CI: [np.float64(1.5), np.float64(2.81)])\n",
      "  P(ATE > 0): 1.0 (empirical: 1.0)\n",
      "  Training metrics - RMSE: 0.047, R²: 0.999, MAE: 0.017\n",
      "NCT02367781 - arm: Control - intervention: 7.0\n",
      "  Real outcome: 5.5, Pred: 5.41 ± 0.02\n",
      "  Pred CI 95%: [5.63, 6.26], width: 0.63\n",
      "  Real ATE: 1.5, Pred ATE: 1.59 (95% CI: [np.float64(0.72), np.float64(1.68)])\n",
      "  P(ATE > 0): 1.0 (empirical: 1.0)\n",
      "  Training metrics - RMSE: 0.031, R²: 1.0, MAE: 0.011\n",
      "NCT03134872 - arm: Control - intervention: 11.0\n",
      "  Real outcome: 6.5, Pred: 6.64 ± 0.84\n",
      "  Pred CI 95%: [5.19, 7.78], width: 2.59\n",
      "  Real ATE: 4.5, Pred ATE: 4.36 (95% CI: [np.float64(3.22), np.float64(5.81)])\n",
      "  P(ATE > 0): 1.0 (empirical: 1.0)\n",
      "  Training metrics - RMSE: 0.031, R²: 1.0, MAE: 0.01\n",
      "NCT03629925 - arm: Control - intervention: 5.5\n",
      "  Real outcome: 4.9, Pred: 5.27 ± 0.5\n",
      "  Pred CI 95%: [5.31, 5.79], width: 0.48\n",
      "  Real ATE: 0.6, Pred ATE: 0.23 (95% CI: [np.float64(-0.68), np.float64(0.38)])\n",
      "  P(ATE > 0): 0.624 (empirical: 0.624)\n",
      "  Training metrics - RMSE: 0.037, R²: 1.0, MAE: 0.011\n",
      "NCT03117049 - arm: Control - intervention: 12.1\n",
      "  Real outcome: 8.1, Pred: 6.74 ± 1.0\n",
      "  Pred CI 95%: [6.4, 7.35], width: 0.95\n",
      "  Real ATE: 4.0, Pred ATE: 5.36 (95% CI: [np.float64(4.75), np.float64(6.54)])\n",
      "  P(ATE > 0): 1.0 (empirical: 1.0)\n",
      "  Training metrics - RMSE: 0.058, R²: 0.999, MAE: 0.02\n",
      "NCT03663205 - arm: Control - intervention: 9.7\n",
      "  Real outcome: 7.6, Pred: 6.57 ± -0.16\n",
      "  Pred CI 95%: [6.26, 5.72], width: -0.54\n",
      "  Real ATE: 2.1, Pred ATE: 3.13 (95% CI: [np.float64(2.95), np.float64(4.19)])\n",
      "  P(ATE > 0): 1.0 (empirical: 1.0)\n",
      "  Training metrics - RMSE: 0.049, R²: 0.999, MAE: 0.014\n",
      "NCT04194203 - arm: Control - intervention: 9.5\n",
      "  Real outcome: 7.1, Pred: 6.46 ± -0.33\n",
      "  Pred CI 95%: [6.12, 7.23], width: 1.11\n",
      "  Real ATE: 2.4, Pred ATE: 3.04 (95% CI: [np.float64(2.27), np.float64(3.8)])\n",
      "  P(ATE > 0): 1.0 (empirical: 1.0)\n",
      "  Training metrics - RMSE: 0.03, R²: 1.0, MAE: 0.011\n",
      "NCT03829332 - arm: Control - intervention: 6.6\n",
      "  Real outcome: 4.2, Pred: 6.13 ± 0.51\n",
      "  Pred CI 95%: [6.2, 8.62], width: 2.42\n",
      "  Real ATE: 2.4, Pred ATE: 0.47 (95% CI: [np.float64(-2.02), np.float64(0.88)])\n",
      "  P(ATE > 0): 0.793 (empirical: 0.793)\n",
      "  Training metrics - RMSE: 0.005, R²: 1.0, MAE: 0.002\n",
      "NCT03829319 - arm: Control - intervention: 12.1\n",
      "  Real outcome: 9.5, Pred: 5.84 ± 0.02\n",
      "  Pred CI 95%: [5.0, 6.34], width: 1.34\n",
      "  Real ATE: 2.6, Pred ATE: 6.26 (95% CI: [np.float64(5.93), np.float64(7.01)])\n",
      "  P(ATE > 0): 1.0 (empirical: 1.0)\n",
      "  Training metrics - RMSE: 0.067, R²: 0.999, MAE: 0.023\n",
      "NCT03594747 - arm: Control - intervention: 7.6\n",
      "  Real outcome: 5.5, Pred: 5.62 ± 0.73\n",
      "  Pred CI 95%: [5.45, 5.75], width: 0.3\n",
      "  Real ATE: 2.1, Pred ATE: 1.98 (95% CI: [np.float64(1.66), np.float64(2.58)])\n",
      "  P(ATE > 0): 1.0 (empirical: 1.0)\n",
      "  Training metrics - RMSE: 0.036, R²: 1.0, MAE: 0.01\n",
      "NCT02477826 - arm: Control - intervention: 4.65\n",
      "  Real outcome: 5.6, Pred: 5.06 ± 0.16\n",
      "  Pred CI 95%: [4.89, 5.27], width: 0.38\n",
      "  Real ATE: -0.95, Pred ATE: -0.41 (95% CI: [np.float64(-1.52), np.float64(-0.24)])\n",
      "  P(ATE > 0): 0.0 (empirical: 0.0)\n",
      "  Training metrics - RMSE: 0.029, R²: 1.0, MAE: 0.008\n",
      "NCT03866993 - arm: Control - intervention: 7.6\n",
      "  Real outcome: 4.2, Pred: 5.65 ± 0.11\n",
      "  Pred CI 95%: [5.66, 7.78], width: 2.12\n",
      "  Real ATE: 3.4, Pred ATE: 1.95 (95% CI: [np.float64(-0.04), np.float64(2.13)])\n",
      "  P(ATE > 0): 0.973 (empirical: 0.973)\n",
      "  Training metrics - RMSE: 0.021, R²: 1.0, MAE: 0.009\n",
      "NCT02775435 - arm: Control - intervention: 6.8\n",
      "  Real outcome: 4.8, Pred: 5.18 ± 0.0\n",
      "  Pred CI 95%: [5.29, 5.17], width: -0.12\n",
      "  Real ATE: 2.0, Pred ATE: 1.62 (95% CI: [np.float64(1.19), np.float64(1.64)])\n",
      "  P(ATE > 0): 1.0 (empirical: 1.0)\n",
      "  Training metrics - RMSE: 0.021, R²: 1.0, MAE: 0.009\n",
      "NCT02775435 - arm: Control - intervention: 6.8\n",
      "  Real outcome: 5.2, Pred: 4.94 ± 0.87\n",
      "  Pred CI 95%: [4.7, 7.4], width: 2.7\n",
      "  Real ATE: 1.6, Pred ATE: 1.86 (95% CI: [np.float64(-0.57), np.float64(2.13)])\n",
      "  P(ATE > 0): 0.961 (empirical: 0.961)\n",
      "  Training metrics - RMSE: 0.028, R²: 1.0, MAE: 0.01\n",
      "NCT03728556 - arm: Control - intervention: 9.0\n",
      "  Real outcome: 5.8, Pred: 5.76 ± 0.18\n",
      "  Pred CI 95%: [4.96, 7.43], width: 2.47\n",
      "  Real ATE: 3.2, Pred ATE: 3.24 (95% CI: [np.float64(1.35), np.float64(4.04)])\n",
      "  P(ATE > 0): 1.0 (empirical: 1.0)\n"
     ]
    }
   ],
   "source": [
    "#with CI of OUTCOME and ATE\n",
    "from utilities.catboost_quantile_utils import CatBoostQuantilePredictor\n",
    "\n",
    "results_catboost_quantile = []\n",
    "\n",
    "for index, row in training_df.iterrows():\n",
    "    rct_name = row[trial_id_col]\n",
    "    is_arm_control = row[control_arm_col]\n",
    "    \n",
    "    if is_arm_control == 1:\n",
    "        # Ground truth\n",
    "        outcome_control = round(row[target_col], 2)\n",
    "        \n",
    "        # Get the treatment outcome of the RCT targeted\n",
    "        trt_arm = training_df.loc[training_df[trial_id_col] == rct_name, :]\n",
    "        trt_outcome = trt_arm.loc[trt_arm[control_arm_col] != 1, target_col]\n",
    "        \n",
    "        if trt_outcome.empty or pd.isna(trt_outcome.mean()):\n",
    "            continue\n",
    "            \n",
    "        trt_outcome = round(trt_outcome.mean(), 2)\n",
    "        \n",
    "        # Prepare data for CatBoost (same as ML approach)\n",
    "        training_j = training_df.copy()\n",
    "        \n",
    "        # Flag inference row and target RCT\n",
    "        training_j[\"is_to_predict\"] = np.where(training_j.index == index, 1, 0)\n",
    "        training_j[\"is_targeted_rct\"] = np.where(training_j[trial_id_col] == rct_name, 1, 0)\n",
    "\n",
    "        # Add intervention outcome as a feature for all control arms\n",
    "        for idx, control_row in training_j[training_j[control_arm_col] == 1].iterrows():\n",
    "            ctrl_rct = control_row[trial_id_col]\n",
    "            ctrl_trt_outcome = training_j.loc[(training_j[trial_id_col] == ctrl_rct) & \n",
    "                                             (training_j[control_arm_col] != 1), target_col]\n",
    "            \n",
    "            if not ctrl_trt_outcome.empty and not pd.isna(ctrl_trt_outcome.mean()):\n",
    "                training_j.loc[idx, intervention_outcome_col] = round(ctrl_trt_outcome.mean(), 2)\n",
    "            else:\n",
    "                training_j.loc[idx, intervention_outcome_col] = np.nan\n",
    "        \n",
    "        training_j = training_j.dropna(subset=[intervention_outcome_col])\n",
    "        \n",
    "        # Create interaction terms (same as ML approach)\n",
    "        for f in interaction_terms:\n",
    "            if f['feature1'] in training_j.columns and f['feature2'] in training_j.columns:\n",
    "                training_j[f['name']] = training_j[f['feature1']] * training_j[f['feature2']]\n",
    "        \n",
    "        # Only consider control arms for training\n",
    "        training_j = training_j.loc[training_j[control_arm_col] == 1, :]\n",
    "        \n",
    "        # Prepare features\n",
    "        feature_list = list_ftr_selected + [\"is_to_predict\", \"is_targeted_rct\", intervention_outcome_col]\n",
    "        if interaction_terms:\n",
    "            feature_list += [f['name'] for f in interaction_terms if f['name'] in training_j.columns]\n",
    "        feature_list += [target_col]\n",
    "        \n",
    "        training_j = prepare_data(training_j, feature_list)\n",
    "        training_j = run_fillna(training_j)\n",
    "\n",
    "        # Make sure the target row has the intervention outcome\n",
    "        training_j.loc[training_j[\"is_to_predict\"] == 1, intervention_outcome_col] = trt_outcome\n",
    "        \n",
    "        # Separate inference and training data\n",
    "        inference_df = training_j.loc[training_j[\"is_to_predict\"] == 1, :]\n",
    "        if inference_df.empty:\n",
    "            print(f\"Skipping {rct_name} as no inference data available.\")\n",
    "            continue\n",
    "            \n",
    "        # Remove target trial from training\n",
    "        training_subset = training_j.loc[training_j[\"is_to_predict\"] != 1, :]\n",
    "        training_subset = training_subset.loc[training_subset[\"is_targeted_rct\"] != 1, :]\n",
    "        \n",
    "        if len(training_subset) < 5:  # Need minimum data for quantile regression\n",
    "            print(f\"Skipping {rct_name} - insufficient training data ({len(training_subset)} samples)\")\n",
    "            continue\n",
    "        \n",
    "        # Features for modeling\n",
    "        model_features = list_ftr_selected + [intervention_outcome_col]\n",
    "        if interaction_terms:\n",
    "            model_features += [f['name'] for f in interaction_terms if f['name'] in training_subset.columns]\n",
    "        \n",
    "        try:\n",
    "            # Fit CatBoost quantile models\n",
    "            quantile_predictor = CatBoostQuantilePredictor()\n",
    "            quantile_predictor.fit(\n",
    "                training_subset[model_features], \n",
    "                training_subset[target_col]\n",
    "            )\n",
    "            \n",
    "            # ==========================================\n",
    "            # CALCULATE TRAINING ACCURACY METRICS\n",
    "            # ==========================================\n",
    "            \n",
    "            # Get training predictions for evaluation\n",
    "            training_pred_distribution = quantile_predictor.predict_distribution(\n",
    "                training_subset[model_features]\n",
    "            )\n",
    "            \n",
    "            # Extract training predictions (use median as point estimate)\n",
    "            if isinstance(training_pred_distribution, list):\n",
    "                # Multiple predictions case\n",
    "                training_preds = [pred['point_estimate'] for pred in training_pred_distribution]\n",
    "                training_stds = [pred['std'] for pred in training_pred_distribution]\n",
    "            else:\n",
    "                # Single prediction case (shouldn't happen here, but handle gracefully)\n",
    "                training_preds = [training_pred_distribution['point_estimate']]\n",
    "                training_stds = [training_pred_distribution['std']]\n",
    "            \n",
    "            training_preds = np.array(training_preds)\n",
    "            training_true = training_subset[target_col].values\n",
    "            \n",
    "            # Calculate training metrics\n",
    "            training_rmse = round(np.sqrt(mean_squared_error(training_true, training_preds)), 3)\n",
    "            training_r2 = round(r2_score(training_true, training_preds), 3)\n",
    "            training_mae = round(np.mean(np.abs(training_true - training_preds)), 3)\n",
    "            \n",
    "            print(f\"  Training metrics - RMSE: {training_rmse}, R²: {training_r2}, MAE: {training_mae}\")\n",
    "            \n",
    "            # ==========================================\n",
    "            # GET TEST PREDICTION (INFERENCE)\n",
    "            # ==========================================\n",
    "            \n",
    "            # Get distributional prediction for test case\n",
    "            pred_distribution = quantile_predictor.predict_distribution(\n",
    "                inference_df[model_features]\n",
    "            )\n",
    "            \n",
    "            # Use median as point estimate for ATE calculation\n",
    "            predicted_outcome = round(pred_distribution['point_estimate'], 2)\n",
    "            \n",
    "            # ==========================================\n",
    "            # ENHANCED PREDICTION UNCERTAINTY METRICS\n",
    "            # ==========================================\n",
    "            \n",
    "            # Calculate prediction uncertainty with enhanced metrics\n",
    "            pred_std = round(pred_distribution['std'], 2)\n",
    "            pred_median = round(pred_distribution['median'], 2)\n",
    "            \n",
    "            # Get CI from the empirical method (more accurate than samples)\n",
    "            pred_ci_95 = pred_distribution['ci_95']\n",
    "            pred_ci_95 = [round(pred_ci_95[0], 2), round(pred_ci_95[1], 2)]\n",
    "            pred_ci_width = round(pred_ci_95[1] - pred_ci_95[0], 3)\n",
    "            \n",
    "            # Also get other confidence intervals\n",
    "            pred_ci_90 = pred_distribution['ci_90']\n",
    "            pred_ci_90 = [round(pred_ci_90[0], 2), round(pred_ci_90[1], 2)]\n",
    "            \n",
    "            pred_ci_80 = pred_distribution['ci_80'] \n",
    "            pred_ci_80 = [round(pred_ci_80[0], 2), round(pred_ci_80[1], 2)]\n",
    "            \n",
    "            # Get IQR for additional uncertainty measure\n",
    "            pred_iqr = round(pred_distribution['iqr'], 3)\n",
    "            \n",
    "            # ==========================================\n",
    "            # CALCULATE ATE DISTRIBUTION WITH ENHANCEMENTS\n",
    "            # ==========================================\n",
    "            \n",
    "            # Calculate ATEs\n",
    "            real_ate = round(trt_outcome - outcome_control, 2)\n",
    "            pred_ate = round(trt_outcome - predicted_outcome, 2)\n",
    "\n",
    "            # Calculate ATE distribution using samples (for backward compatibility)\n",
    "            ate_samples = trt_outcome - pred_distribution['samples']\n",
    "            ate_mean = round(np.mean(ate_samples), 2)\n",
    "            ate_std = round(np.std(ate_samples), 2)\n",
    "            ate_ci_95 = [\n",
    "                round(np.percentile(ate_samples, 2.5), 2),\n",
    "                round(np.percentile(ate_samples, 97.5), 2)\n",
    "            ]\n",
    "            ate_ci_width = round(ate_ci_95[1] - ate_ci_95[0], 3)\n",
    "            \n",
    "            # Alternative ATE calculation using empirical quantiles (more accurate)\n",
    "            ate_ci_95_empirical = [\n",
    "                round(trt_outcome - pred_ci_95[1], 2),  # Note: reversed order\n",
    "                round(trt_outcome - pred_ci_95[0], 2)\n",
    "            ]\n",
    "            \n",
    "            ate_ci_90_empirical = [\n",
    "                round(trt_outcome - pred_ci_90[1], 2),\n",
    "                round(trt_outcome - pred_ci_90[0], 2)\n",
    "            ]\n",
    "            \n",
    "            # Probability of positive ATE\n",
    "            prob_positive_ate = round(np.mean(ate_samples > 0), 3)\n",
    "            \n",
    "            # Alternative: Probability using empirical quantiles\n",
    "            # If the entire prediction CI is below treatment outcome, ATE is definitely positive\n",
    "            if pred_ci_95[1] < trt_outcome:\n",
    "                prob_positive_ate_empirical = 1.0\n",
    "            elif pred_ci_95[0] > trt_outcome:\n",
    "                prob_positive_ate_empirical = 0.0\n",
    "            else:\n",
    "                # Use sample-based estimate when empirical is ambiguous\n",
    "                prob_positive_ate_empirical = prob_positive_ate\n",
    "            \n",
    "\n",
    "            # ==========================================\n",
    "            # COLLECT ACTUAL CI DATA FOR IoU CALCULATION\n",
    "            # ==========================================\n",
    "\n",
    "            # Get the actual CI for the current control arm (for IoU calculation)\n",
    "            actual_outcome_ci = None\n",
    "            if \"PFS_median_CI\" in training_df.columns:\n",
    "                actual_ci_row = training_df.loc[training_df.index == index, \"PFS_median_CI\"]\n",
    "                if not actual_ci_row.empty:\n",
    "                    actual_outcome_ci = actual_ci_row.iloc[0]\n",
    "\n",
    "            \n",
    "            # ==========================================\n",
    "            # STORE ENHANCED RESULTS\n",
    "            # ==========================================\n",
    "            \n",
    "            results_catboost_quantile.append({\n",
    "                # Original results\n",
    "                \"real_ate\": real_ate,\n",
    "                \"pred_ate\": pred_ate,\n",
    "                \"outcome_control\": outcome_control,\n",
    "                \"predicted_outcome\": predicted_outcome,\n",
    "                \"rct_name\": rct_name,\n",
    "                \"intervention\": row[\"intervention\"],\n",
    "                \"Arm\": row[\"Arm\"],\n",
    "                \"n_training_samples\": len(training_subset),\n",
    "                \n",
    "                # ATE distribution metrics\n",
    "                \"ate_mean\": ate_mean,\n",
    "                \"ate_std\": ate_std,\n",
    "                \"ate_ci_95\": ate_ci_95,\n",
    "                \"ate_ci_width\": ate_ci_width,\n",
    "                \"ate_samples\": ate_samples.tolist(),\n",
    "                \"prob_positive_ate\": prob_positive_ate,\n",
    "                \n",
    "                # NEW: Enhanced prediction uncertainty metrics\n",
    "                \"pred_std\": pred_std,\n",
    "                \"pred_median\": pred_median,\n",
    "                \"pred_ci_95\": pred_ci_95,\n",
    "                \"pred_ci_90\": pred_ci_90,\n",
    "                \"pred_ci_80\": pred_ci_80,\n",
    "                \"pred_ci_width\": pred_ci_width,\n",
    "                \"pred_iqr\": pred_iqr,\n",
    "                \n",
    "                # NEW: Empirical-based ATE metrics (more accurate)\n",
    "                \"ate_ci_95_empirical\": ate_ci_95_empirical,\n",
    "                \"ate_ci_90_empirical\": ate_ci_90_empirical,\n",
    "                \"prob_positive_ate_empirical\": prob_positive_ate_empirical,\n",
    "                \n",
    "                # Store full distribution for detailed analysis\n",
    "                \"pred_distribution\": pred_distribution,\n",
    "                \n",
    "                # Training accuracy metrics\n",
    "                \"training_rmse\": training_rmse,\n",
    "                \"training_r2\": training_r2,\n",
    "                \"training_mae\": training_mae,\n",
    "                \n",
    "                # Additional training set statistics\n",
    "                \"training_set_std\": round(np.std(training_true), 3),\n",
    "                \"training_pred_std\": round(np.std(training_preds), 3),\n",
    "                \n",
    "                # NEW: Additional uncertainty measures\n",
    "                \"pred_range_90\": round(pred_ci_90[1] - pred_ci_90[0], 3),\n",
    "                \"pred_range_80\": round(pred_ci_80[1] - pred_ci_80[0], 3),\n",
    "\n",
    "                # Data for IoU calculation\n",
    "                \"actual_outcome_ci\": actual_outcome_ci,  # Actual CI from RCT data\n",
    "                \"original_row_index\": index,  # Store original index for potential merging\n",
    "            })\n",
    "            \n",
    "            print(f\"{rct_name} - arm: {row['Arm']} - intervention: {trt_outcome}\")\n",
    "            print(f\"  Real outcome: {outcome_control}, Pred: {predicted_outcome} ± {pred_std}\")\n",
    "            print(f\"  Pred CI 95%: {pred_ci_95}, width: {pred_ci_width}\")\n",
    "            print(f\"  Real ATE: {real_ate}, Pred ATE: {pred_ate} (95% CI: {ate_ci_95})\")\n",
    "            print(f\"  P(ATE > 0): {prob_positive_ate} (empirical: {prob_positive_ate_empirical})\")\n",
    "            \n",
    "        except Exception as e:\n",
    "            print(f\"Error with {rct_name}: {str(e)}\")\n",
    "            continue\n"
   ]
  },
  {
   "cell_type": "code",
   "execution_count": 22,
   "id": "0a62cd37",
   "metadata": {},
   "outputs": [
    {
     "data": {
      "text/html": [
       "<div>\n",
       "<style scoped>\n",
       "    .dataframe tbody tr th:only-of-type {\n",
       "        vertical-align: middle;\n",
       "    }\n",
       "\n",
       "    .dataframe tbody tr th {\n",
       "        vertical-align: top;\n",
       "    }\n",
       "\n",
       "    .dataframe thead th {\n",
       "        text-align: right;\n",
       "    }\n",
       "</style>\n",
       "<table border=\"1\" class=\"dataframe\">\n",
       "  <thead>\n",
       "    <tr style=\"text-align: right;\">\n",
       "      <th></th>\n",
       "      <th>pred_ci_95</th>\n",
       "      <th>actual_outcome_ci</th>\n",
       "    </tr>\n",
       "  </thead>\n",
       "  <tbody>\n",
       "    <tr>\n",
       "      <th>0</th>\n",
       "      <td>[5.9, 8.1]</td>\n",
       "      <td>[5.8, 7.1]</td>\n",
       "    </tr>\n",
       "    <tr>\n",
       "      <th>1</th>\n",
       "      <td>[7.87, 7.24]</td>\n",
       "      <td>[9.7, 13.8]</td>\n",
       "    </tr>\n",
       "  </tbody>\n",
       "</table>\n",
       "</div>"
      ],
      "text/plain": [
       "     pred_ci_95 actual_outcome_ci\n",
       "0    [5.9, 8.1]        [5.8, 7.1]\n",
       "1  [7.87, 7.24]       [9.7, 13.8]"
      ]
     },
     "execution_count": 22,
     "metadata": {},
     "output_type": "execute_result"
    }
   ],
   "source": [
    "pd.DataFrame(results_catboost_quantile).head(2)[['pred_ci_95', 'actual_outcome_ci']]"
   ]
  },
  {
   "cell_type": "markdown",
   "id": "44b0ba5e",
   "metadata": {},
   "source": [
    "## Plot the distribution of the predictions\n",
    "Using empirical methods, and different quantiles distribution [.....],  we can get the CI, point estimates\n"
   ]
  },
  {
   "cell_type": "code",
   "execution_count": 23,
   "id": "5a5c5c6b",
   "metadata": {},
   "outputs": [
    {
     "data": {
      "image/png": "[encoded data removed]",
      "text/plain": [
       "<Figure size 1000x600 with 1 Axes>"
      ]
     },
     "metadata": {},
     "output_type": "display_data"
    }
   ],
   "source": [
    "results_catboost_quantile[0]['pred_distribution']['quantiles']\n",
    "# scatter plot of results_catboost_quantile[0]['pred_distribution']['quantiles'] which is a dict with keys '0.05', '0.25', '0.5', '0.75', '0.95'\n",
    "import matplotlib.pyplot as plt\n",
    "import numpy as np \n",
    "quantiles = results_catboost_quantile[0]['pred_distribution']['quantiles']\n",
    "x = np.arange(len(quantiles))\n",
    "plt.figure(figsize=(10, 6))\n",
    "plt.bar(x, quantiles.values(), align='center', alpha=0.7)\n",
    "plt.xticks(x, quantiles.keys())\n",
    "plt.xlabel('Quantiles')\n",
    "plt.ylabel('Values')\n",
    "plt.title('CatBoost Quantile Predictions')\n",
    "plt.grid(axis='y')\n",
    "plt.show()\n"
   ]
  },
  {
   "cell_type": "markdown",
   "id": "20c52164",
   "metadata": {},
   "source": [
    "# Approach 4: Ratio-Based Methods\n",
    "\n",
    "## Methodology\n",
    "\n",
    "**Prediction Strategy**: Assume control arm outcome is a fixed proportion of the intervention arm outcome.\n",
    "\n",
    "### Core Assumption:\n",
    "**Control arm PFS = Ratio × Intervention arm PFS**\n",
    "\n",
    "Where ratio ∈ {0.6, 0.7, 0.8, 0.9}\n",
    "\n",
    "### Clinical Interpretation:\n",
    "This method can be interpreted as assuming that **intervention arms are always better than control arms** by a consistent relative margin. The ratio represents the expected relative efficacy:\n",
    "\n",
    "- **80% ratio**: Intervention is 25% better than control ((1/0.8 - 1) × 100%)\n",
    "- **70% ratio**: Intervention is 43% better than control\n",
    "- **90% ratio**: Intervention is 11% better than control\n",
    "\n",
    "### Algorithm Steps:\n",
    "1. **Intervention outcome**: Use actual intervention arm PFS\n",
    "2. **Scaling**: Multiply by fixed ratio to get predicted control PFS\n",
    "3. **ATE calculation**: ATE = Intervention PFS - Predicted Control PFS\n",
    "\n",
    "### Evaluation of Multiple Ratios:\n",
    "We test different ratios to understand sensitivity and identify optimal fixed assumptions.\n",
    "\n",
    "**Strengths**: Simple, always predicts positive treatment effect, easy to implement\n",
    "**Limitations**: Ignores trial heterogeneity, assumes constant relative efficacy, may not capture trials where intervention performs poorly"
   ]
  },
  {
   "cell_type": "code",
   "execution_count": 24,
   "id": "51adb644",
   "metadata": {},
   "outputs": [
    {
     "name": "stdout",
     "output_type": "stream",
     "text": [
      "NCT01364012 - arm: Control - 0.8 Ratio - intervention: 9.2 - real_outcome: 6.5, pred_outcome: 7.36, real ATE: 2.7 vs pred ATE: 1.84\n",
      "NCT01469000 - arm: Control - 0.8 Ratio - intervention: 15.8 - real_outcome: 10.9, pred_outcome: 12.64, real ATE: 4.9 vs pred ATE: 3.16\n",
      "NCT03515837 - arm: Control - 0.8 Ratio - intervention: 5.6 - real_outcome: 5.5, pred_outcome: 4.48, real ATE: 0.1 vs pred ATE: 1.12\n",
      "NCT04129502 - arm: Control - 0.8 Ratio - intervention: 9.6 - real_outcome: 9.6, pred_outcome: 7.68, real ATE: 0.0 vs pred ATE: 1.92\n",
      "NCT04194203 - arm: Control - 0.8 Ratio - intervention: 9.5 - real_outcome: 7.1, pred_outcome: 7.6, real ATE: 2.4 vs pred ATE: 1.9\n",
      "NCT04538664 - arm: Control - 0.8 Ratio - intervention: 11.4 - real_outcome: 6.7, pred_outcome: 9.12, real ATE: 4.7 vs pred ATE: 2.28\n",
      "NCT04988295 - arm: Control - 0.8 Ratio - intervention: 7.3 - real_outcome: 4.2, pred_outcome: 5.84, real ATE: 3.1 vs pred ATE: 1.46\n",
      "NCT02142738 - arm: Control - 0.8 Ratio - intervention: 7.7 - real_outcome: 5.5, pred_outcome: 6.16, real ATE: 2.2 vs pred ATE: 1.54\n",
      "NCT02041533 - arm: Control - 0.8 Ratio - intervention: 4.2 - real_outcome: 5.9, pred_outcome: 3.36, real ATE: -1.7 vs pred ATE: 0.84\n",
      "NCT02657434 - arm: Control - 0.8 Ratio - intervention: 7.6 - real_outcome: 5.2, pred_outcome: 6.08, real ATE: 2.4 vs pred ATE: 1.52\n",
      "NCT02367781 - arm: Control - 0.8 Ratio - intervention: 7.0 - real_outcome: 5.5, pred_outcome: 5.6, real ATE: 1.5 vs pred ATE: 1.4\n",
      "NCT03134872 - arm: Control - 0.8 Ratio - intervention: 11.0 - real_outcome: 6.5, pred_outcome: 8.8, real ATE: 4.5 vs pred ATE: 2.2\n",
      "NCT03629925 - arm: Control - 0.8 Ratio - intervention: 5.5 - real_outcome: 4.9, pred_outcome: 4.4, real ATE: 0.6 vs pred ATE: 1.1\n",
      "NCT03117049 - arm: Control - 0.8 Ratio - intervention: 12.1 - real_outcome: 8.1, pred_outcome: 9.68, real ATE: 4.0 vs pred ATE: 2.42\n",
      "NCT03663205 - arm: Control - 0.8 Ratio - intervention: 9.7 - real_outcome: 7.6, pred_outcome: 7.76, real ATE: 2.1 vs pred ATE: 1.94\n",
      "NCT04194203 - arm: Control - 0.8 Ratio - intervention: 9.5 - real_outcome: 7.1, pred_outcome: 7.6, real ATE: 2.4 vs pred ATE: 1.9\n",
      "NCT03829332 - arm: Control - 0.8 Ratio - intervention: 6.6 - real_outcome: 4.2, pred_outcome: 5.28, real ATE: 2.4 vs pred ATE: 1.32\n",
      "NCT03829319 - arm: Control - 0.8 Ratio - intervention: 12.1 - real_outcome: 9.5, pred_outcome: 9.68, real ATE: 2.6 vs pred ATE: 2.42\n",
      "NCT03594747 - arm: Control - 0.8 Ratio - intervention: 7.6 - real_outcome: 5.5, pred_outcome: 6.08, real ATE: 2.1 vs pred ATE: 1.52\n",
      "NCT02477826 - arm: Control - 0.8 Ratio - intervention: 4.65 - real_outcome: 5.6, pred_outcome: 3.72, real ATE: -0.95 vs pred ATE: 0.93\n",
      "NCT03866993 - arm: Control - 0.8 Ratio - intervention: 7.6 - real_outcome: 4.2, pred_outcome: 6.08, real ATE: 3.4 vs pred ATE: 1.52\n",
      "NCT02775435 - arm: Control - 0.8 Ratio - intervention: 6.8 - real_outcome: 4.8, pred_outcome: 5.44, real ATE: 2.0 vs pred ATE: 1.36\n",
      "NCT02775435 - arm: Control - 0.8 Ratio - intervention: 6.8 - real_outcome: 5.2, pred_outcome: 5.44, real ATE: 1.6 vs pred ATE: 1.36\n",
      "NCT03728556 - arm: Control - 0.8 Ratio - intervention: 9.0 - real_outcome: 5.8, pred_outcome: 7.2, real ATE: 3.2 vs pred ATE: 1.8\n",
      "NCT01364012 - arm: Control - 0.7 Ratio - intervention: 9.2 - real_outcome: 6.5, pred_outcome: 6.44, real ATE: 2.7 vs pred ATE: 2.76\n",
      "NCT01469000 - arm: Control - 0.7 Ratio - intervention: 15.8 - real_outcome: 10.9, pred_outcome: 11.06, real ATE: 4.9 vs pred ATE: 4.74\n",
      "NCT03515837 - arm: Control - 0.7 Ratio - intervention: 5.6 - real_outcome: 5.5, pred_outcome: 3.92, real ATE: 0.1 vs pred ATE: 1.68\n",
      "NCT04129502 - arm: Control - 0.7 Ratio - intervention: 9.6 - real_outcome: 9.6, pred_outcome: 6.72, real ATE: 0.0 vs pred ATE: 2.88\n",
      "NCT04194203 - arm: Control - 0.7 Ratio - intervention: 9.5 - real_outcome: 7.1, pred_outcome: 6.65, real ATE: 2.4 vs pred ATE: 2.85\n",
      "NCT04538664 - arm: Control - 0.7 Ratio - intervention: 11.4 - real_outcome: 6.7, pred_outcome: 7.98, real ATE: 4.7 vs pred ATE: 3.42\n",
      "NCT04988295 - arm: Control - 0.7 Ratio - intervention: 7.3 - real_outcome: 4.2, pred_outcome: 5.11, real ATE: 3.1 vs pred ATE: 2.19\n",
      "NCT02142738 - arm: Control - 0.7 Ratio - intervention: 7.7 - real_outcome: 5.5, pred_outcome: 5.39, real ATE: 2.2 vs pred ATE: 2.31\n",
      "NCT02041533 - arm: Control - 0.7 Ratio - intervention: 4.2 - real_outcome: 5.9, pred_outcome: 2.94, real ATE: -1.7 vs pred ATE: 1.26\n",
      "NCT02657434 - arm: Control - 0.7 Ratio - intervention: 7.6 - real_outcome: 5.2, pred_outcome: 5.32, real ATE: 2.4 vs pred ATE: 2.28\n",
      "NCT02367781 - arm: Control - 0.7 Ratio - intervention: 7.0 - real_outcome: 5.5, pred_outcome: 4.9, real ATE: 1.5 vs pred ATE: 2.1\n",
      "NCT03134872 - arm: Control - 0.7 Ratio - intervention: 11.0 - real_outcome: 6.5, pred_outcome: 7.7, real ATE: 4.5 vs pred ATE: 3.3\n",
      "NCT03629925 - arm: Control - 0.7 Ratio - intervention: 5.5 - real_outcome: 4.9, pred_outcome: 3.85, real ATE: 0.6 vs pred ATE: 1.65\n",
      "NCT03117049 - arm: Control - 0.7 Ratio - intervention: 12.1 - real_outcome: 8.1, pred_outcome: 8.47, real ATE: 4.0 vs pred ATE: 3.63\n",
      "NCT03663205 - arm: Control - 0.7 Ratio - intervention: 9.7 - real_outcome: 7.6, pred_outcome: 6.79, real ATE: 2.1 vs pred ATE: 2.91\n",
      "NCT04194203 - arm: Control - 0.7 Ratio - intervention: 9.5 - real_outcome: 7.1, pred_outcome: 6.65, real ATE: 2.4 vs pred ATE: 2.85\n",
      "NCT03829332 - arm: Control - 0.7 Ratio - intervention: 6.6 - real_outcome: 4.2, pred_outcome: 4.62, real ATE: 2.4 vs pred ATE: 1.98\n",
      "NCT03829319 - arm: Control - 0.7 Ratio - intervention: 12.1 - real_outcome: 9.5, pred_outcome: 8.47, real ATE: 2.6 vs pred ATE: 3.63\n",
      "NCT03594747 - arm: Control - 0.7 Ratio - intervention: 7.6 - real_outcome: 5.5, pred_outcome: 5.32, real ATE: 2.1 vs pred ATE: 2.28\n",
      "NCT02477826 - arm: Control - 0.7 Ratio - intervention: 4.65 - real_outcome: 5.6, pred_outcome: 3.26, real ATE: -0.95 vs pred ATE: 1.39\n",
      "NCT03866993 - arm: Control - 0.7 Ratio - intervention: 7.6 - real_outcome: 4.2, pred_outcome: 5.32, real ATE: 3.4 vs pred ATE: 2.28\n",
      "NCT02775435 - arm: Control - 0.7 Ratio - intervention: 6.8 - real_outcome: 4.8, pred_outcome: 4.76, real ATE: 2.0 vs pred ATE: 2.04\n",
      "NCT02775435 - arm: Control - 0.7 Ratio - intervention: 6.8 - real_outcome: 5.2, pred_outcome: 4.76, real ATE: 1.6 vs pred ATE: 2.04\n",
      "NCT03728556 - arm: Control - 0.7 Ratio - intervention: 9.0 - real_outcome: 5.8, pred_outcome: 6.3, real ATE: 3.2 vs pred ATE: 2.7\n",
      "NCT01364012 - arm: Control - 0.6 Ratio - intervention: 9.2 - real_outcome: 6.5, pred_outcome: 5.52, real ATE: 2.7 vs pred ATE: 3.68\n",
      "NCT01469000 - arm: Control - 0.6 Ratio - intervention: 15.8 - real_outcome: 10.9, pred_outcome: 9.48, real ATE: 4.9 vs pred ATE: 6.32\n",
      "NCT03515837 - arm: Control - 0.6 Ratio - intervention: 5.6 - real_outcome: 5.5, pred_outcome: 3.36, real ATE: 0.1 vs pred ATE: 2.24\n",
      "NCT04129502 - arm: Control - 0.6 Ratio - intervention: 9.6 - real_outcome: 9.6, pred_outcome: 5.76, real ATE: 0.0 vs pred ATE: 3.84\n",
      "NCT04194203 - arm: Control - 0.6 Ratio - intervention: 9.5 - real_outcome: 7.1, pred_outcome: 5.7, real ATE: 2.4 vs pred ATE: 3.8\n",
      "NCT04538664 - arm: Control - 0.6 Ratio - intervention: 11.4 - real_outcome: 6.7, pred_outcome: 6.84, real ATE: 4.7 vs pred ATE: 4.56\n",
      "NCT04988295 - arm: Control - 0.6 Ratio - intervention: 7.3 - real_outcome: 4.2, pred_outcome: 4.38, real ATE: 3.1 vs pred ATE: 2.92\n",
      "NCT02142738 - arm: Control - 0.6 Ratio - intervention: 7.7 - real_outcome: 5.5, pred_outcome: 4.62, real ATE: 2.2 vs pred ATE: 3.08\n",
      "NCT02041533 - arm: Control - 0.6 Ratio - intervention: 4.2 - real_outcome: 5.9, pred_outcome: 2.52, real ATE: -1.7 vs pred ATE: 1.68\n",
      "NCT02657434 - arm: Control - 0.6 Ratio - intervention: 7.6 - real_outcome: 5.2, pred_outcome: 4.56, real ATE: 2.4 vs pred ATE: 3.04\n",
      "NCT02367781 - arm: Control - 0.6 Ratio - intervention: 7.0 - real_outcome: 5.5, pred_outcome: 4.2, real ATE: 1.5 vs pred ATE: 2.8\n",
      "NCT03134872 - arm: Control - 0.6 Ratio - intervention: 11.0 - real_outcome: 6.5, pred_outcome: 6.6, real ATE: 4.5 vs pred ATE: 4.4\n",
      "NCT03629925 - arm: Control - 0.6 Ratio - intervention: 5.5 - real_outcome: 4.9, pred_outcome: 3.3, real ATE: 0.6 vs pred ATE: 2.2\n",
      "NCT03117049 - arm: Control - 0.6 Ratio - intervention: 12.1 - real_outcome: 8.1, pred_outcome: 7.26, real ATE: 4.0 vs pred ATE: 4.84\n",
      "NCT03663205 - arm: Control - 0.6 Ratio - intervention: 9.7 - real_outcome: 7.6, pred_outcome: 5.82, real ATE: 2.1 vs pred ATE: 3.88\n",
      "NCT04194203 - arm: Control - 0.6 Ratio - intervention: 9.5 - real_outcome: 7.1, pred_outcome: 5.7, real ATE: 2.4 vs pred ATE: 3.8\n",
      "NCT03829332 - arm: Control - 0.6 Ratio - intervention: 6.6 - real_outcome: 4.2, pred_outcome: 3.96, real ATE: 2.4 vs pred ATE: 2.64\n",
      "NCT03829319 - arm: Control - 0.6 Ratio - intervention: 12.1 - real_outcome: 9.5, pred_outcome: 7.26, real ATE: 2.6 vs pred ATE: 4.84\n",
      "NCT03594747 - arm: Control - 0.6 Ratio - intervention: 7.6 - real_outcome: 5.5, pred_outcome: 4.56, real ATE: 2.1 vs pred ATE: 3.04\n",
      "NCT02477826 - arm: Control - 0.6 Ratio - intervention: 4.65 - real_outcome: 5.6, pred_outcome: 2.79, real ATE: -0.95 vs pred ATE: 1.86\n",
      "NCT03866993 - arm: Control - 0.6 Ratio - intervention: 7.6 - real_outcome: 4.2, pred_outcome: 4.56, real ATE: 3.4 vs pred ATE: 3.04\n",
      "NCT02775435 - arm: Control - 0.6 Ratio - intervention: 6.8 - real_outcome: 4.8, pred_outcome: 4.08, real ATE: 2.0 vs pred ATE: 2.72\n",
      "NCT02775435 - arm: Control - 0.6 Ratio - intervention: 6.8 - real_outcome: 5.2, pred_outcome: 4.08, real ATE: 1.6 vs pred ATE: 2.72\n",
      "NCT03728556 - arm: Control - 0.6 Ratio - intervention: 9.0 - real_outcome: 5.8, pred_outcome: 5.4, real ATE: 3.2 vs pred ATE: 3.6\n",
      "NCT01364012 - arm: Control - 0.9 Ratio - intervention: 9.2 - real_outcome: 6.5, pred_outcome: 8.28, real ATE: 2.7 vs pred ATE: 0.92\n",
      "NCT01469000 - arm: Control - 0.9 Ratio - intervention: 15.8 - real_outcome: 10.9, pred_outcome: 14.22, real ATE: 4.9 vs pred ATE: 1.58\n",
      "NCT03515837 - arm: Control - 0.9 Ratio - intervention: 5.6 - real_outcome: 5.5, pred_outcome: 5.04, real ATE: 0.1 vs pred ATE: 0.56\n",
      "NCT04129502 - arm: Control - 0.9 Ratio - intervention: 9.6 - real_outcome: 9.6, pred_outcome: 8.64, real ATE: 0.0 vs pred ATE: 0.96\n",
      "NCT04194203 - arm: Control - 0.9 Ratio - intervention: 9.5 - real_outcome: 7.1, pred_outcome: 8.55, real ATE: 2.4 vs pred ATE: 0.95\n",
      "NCT04538664 - arm: Control - 0.9 Ratio - intervention: 11.4 - real_outcome: 6.7, pred_outcome: 10.26, real ATE: 4.7 vs pred ATE: 1.14\n",
      "NCT04988295 - arm: Control - 0.9 Ratio - intervention: 7.3 - real_outcome: 4.2, pred_outcome: 6.57, real ATE: 3.1 vs pred ATE: 0.73\n",
      "NCT02142738 - arm: Control - 0.9 Ratio - intervention: 7.7 - real_outcome: 5.5, pred_outcome: 6.93, real ATE: 2.2 vs pred ATE: 0.77\n",
      "NCT02041533 - arm: Control - 0.9 Ratio - intervention: 4.2 - real_outcome: 5.9, pred_outcome: 3.78, real ATE: -1.7 vs pred ATE: 0.42\n",
      "NCT02657434 - arm: Control - 0.9 Ratio - intervention: 7.6 - real_outcome: 5.2, pred_outcome: 6.84, real ATE: 2.4 vs pred ATE: 0.76\n",
      "NCT02367781 - arm: Control - 0.9 Ratio - intervention: 7.0 - real_outcome: 5.5, pred_outcome: 6.3, real ATE: 1.5 vs pred ATE: 0.7\n",
      "NCT03134872 - arm: Control - 0.9 Ratio - intervention: 11.0 - real_outcome: 6.5, pred_outcome: 9.9, real ATE: 4.5 vs pred ATE: 1.1\n",
      "NCT03629925 - arm: Control - 0.9 Ratio - intervention: 5.5 - real_outcome: 4.9, pred_outcome: 4.95, real ATE: 0.6 vs pred ATE: 0.55\n",
      "NCT03117049 - arm: Control - 0.9 Ratio - intervention: 12.1 - real_outcome: 8.1, pred_outcome: 10.89, real ATE: 4.0 vs pred ATE: 1.21\n",
      "NCT03663205 - arm: Control - 0.9 Ratio - intervention: 9.7 - real_outcome: 7.6, pred_outcome: 8.73, real ATE: 2.1 vs pred ATE: 0.97\n",
      "NCT04194203 - arm: Control - 0.9 Ratio - intervention: 9.5 - real_outcome: 7.1, pred_outcome: 8.55, real ATE: 2.4 vs pred ATE: 0.95\n",
      "NCT03829332 - arm: Control - 0.9 Ratio - intervention: 6.6 - real_outcome: 4.2, pred_outcome: 5.94, real ATE: 2.4 vs pred ATE: 0.66\n",
      "NCT03829319 - arm: Control - 0.9 Ratio - intervention: 12.1 - real_outcome: 9.5, pred_outcome: 10.89, real ATE: 2.6 vs pred ATE: 1.21\n",
      "NCT03594747 - arm: Control - 0.9 Ratio - intervention: 7.6 - real_outcome: 5.5, pred_outcome: 6.84, real ATE: 2.1 vs pred ATE: 0.76\n",
      "NCT02477826 - arm: Control - 0.9 Ratio - intervention: 4.65 - real_outcome: 5.6, pred_outcome: 4.19, real ATE: -0.95 vs pred ATE: 0.46\n",
      "NCT03866993 - arm: Control - 0.9 Ratio - intervention: 7.6 - real_outcome: 4.2, pred_outcome: 6.84, real ATE: 3.4 vs pred ATE: 0.76\n",
      "NCT02775435 - arm: Control - 0.9 Ratio - intervention: 6.8 - real_outcome: 4.8, pred_outcome: 6.12, real ATE: 2.0 vs pred ATE: 0.68\n",
      "NCT02775435 - arm: Control - 0.9 Ratio - intervention: 6.8 - real_outcome: 5.2, pred_outcome: 6.12, real ATE: 1.6 vs pred ATE: 0.68\n",
      "NCT03728556 - arm: Control - 0.9 Ratio - intervention: 9.0 - real_outcome: 5.8, pred_outcome: 8.1, real ATE: 3.2 vs pred ATE: 0.9\n"
     ]
    }
   ],
   "source": [
    "def ratio_method(ratio):\n",
    "    results_ratio_7 = []\n",
    "\n",
    "    for index, row in training_df.iterrows():\n",
    "        rct_name = row[trial_id_col]\n",
    "        is_arm_control = row[control_arm_col]\n",
    "        \n",
    "        if is_arm_control == 1:\n",
    "            # Ground truth control outcome\n",
    "            outcome_control = round(row[target_col], 2)\n",
    "            \n",
    "            # Get the treatment outcome of the RCT targeted\n",
    "            trt_arm = training_df.loc[training_df[trial_id_col] == rct_name, :]\n",
    "            trt_outcome = trt_arm.loc[trt_arm[control_arm_col] != 1, target_col]\n",
    "            \n",
    "            # Skip if treatment outcome is empty or NaN\n",
    "            if trt_outcome.empty or pd.isna(trt_outcome.mean()):\n",
    "                continue\n",
    "                \n",
    "            trt_outcome = round(trt_outcome.mean(), 2)\n",
    "            \n",
    "            # Predict control arm as 80% of treatment arm\n",
    "            predicted_outcome = round(ratio * trt_outcome, 2)\n",
    "            \n",
    "            # Calculate ATEs\n",
    "            real_ate = round(trt_outcome - outcome_control, 2)\n",
    "            pred_ate = round(trt_outcome - predicted_outcome, 2)\n",
    "            \n",
    "            # Store results\n",
    "            results_ratio_7.append({\n",
    "                \"real_ate\": real_ate,\n",
    "                \"pred_ate\": pred_ate,\n",
    "                \"outcome_control\": outcome_control,\n",
    "                \"predicted_outcome\": predicted_outcome,\n",
    "                \"rct_name\": rct_name,\n",
    "                \"intervention\": row[\"intervention\"],\n",
    "                \"Arm\": row[\"Arm\"],\n",
    "            })\n",
    "            \n",
    "            print(f\"{rct_name} - arm: {row['Arm']} - {ratio} Ratio - intervention: {trt_outcome} - real_outcome: {outcome_control}, pred_outcome: {predicted_outcome}, real ATE: {real_ate} vs pred ATE: {pred_ate}\")\n",
    "    return results_ratio_7\n",
    "\n",
    "results_ratio = ratio_method(0.8)\n",
    "results_ratio_7 = ratio_method(0.7)\n",
    "results_ratio_6 = ratio_method(0.6)\n",
    "results_ratio_9 = ratio_method(0.9)"
   ]
  },
  {
   "cell_type": "markdown",
   "id": "49dfcbec",
   "metadata": {},
   "source": [
    "# Ratio Estimation\n",
    "\n",
    "Instead of hardcoding, we dynamically estimate ratio from training data"
   ]
  },
  {
   "cell_type": "code",
   "execution_count": 25,
   "id": "d9db4dbd",
   "metadata": {},
   "outputs": [],
   "source": [
    "%autoreload 2"
   ]
  },
  {
   "cell_type": "code",
   "execution_count": 26,
   "id": "2583e9aa19e335ee",
   "metadata": {},
   "outputs": [],
   "source": [
    "from utilities.ratio_estimation_utils import dynamic_ratio_method, ols_ratio_method"
   ]
  },
  {
   "cell_type": "code",
   "execution_count": 27,
   "id": "e56e029ebbc2fc4",
   "metadata": {},
   "outputs": [
    {
     "name": "stdout",
     "output_type": "stream",
     "text": [
      "NCT01364012 - arm: Control - Dynamic Ratio (0.724) - intervention: 9.2 - real_outcome: 6.5, pred_outcome: 6.66, real ATE: 2.7 vs pred ATE: 2.54\n",
      "NCT01469000 - arm: Control - Dynamic Ratio (0.724) - intervention: 15.8 - real_outcome: 10.9, pred_outcome: 11.43, real ATE: 4.9 vs pred ATE: 4.37\n",
      "NCT03515837 - arm: Control - Dynamic Ratio (0.714) - intervention: 5.6 - real_outcome: 5.5, pred_outcome: 4.0, real ATE: 0.1 vs pred ATE: 1.6\n",
      "NCT04129502 - arm: Control - Dynamic Ratio (0.714) - intervention: 9.6 - real_outcome: 9.6, pred_outcome: 6.86, real ATE: 0.0 vs pred ATE: 2.74\n",
      "NCT04194203 - arm: Control - Dynamic Ratio (0.714) - intervention: 9.5 - real_outcome: 7.1, pred_outcome: 6.79, real ATE: 2.4 vs pred ATE: 2.71\n",
      "NCT04538664 - arm: Control - Dynamic Ratio (0.724) - intervention: 11.4 - real_outcome: 6.7, pred_outcome: 8.25, real ATE: 4.7 vs pred ATE: 3.15\n",
      "NCT04988295 - arm: Control - Dynamic Ratio (0.724) - intervention: 7.3 - real_outcome: 4.2, pred_outcome: 5.28, real ATE: 3.1 vs pred ATE: 2.02\n",
      "NCT02142738 - arm: Control - Dynamic Ratio (0.724) - intervention: 7.7 - real_outcome: 5.5, pred_outcome: 5.57, real ATE: 2.2 vs pred ATE: 2.13\n",
      "NCT02041533 - arm: Control - Dynamic Ratio (0.714) - intervention: 4.2 - real_outcome: 5.9, pred_outcome: 3.0, real ATE: -1.7 vs pred ATE: 1.2\n",
      "NCT02657434 - arm: Control - Dynamic Ratio (0.724) - intervention: 7.6 - real_outcome: 5.2, pred_outcome: 5.5, real ATE: 2.4 vs pred ATE: 2.1\n",
      "NCT02367781 - arm: Control - Dynamic Ratio (0.714) - intervention: 7.0 - real_outcome: 5.5, pred_outcome: 5.0, real ATE: 1.5 vs pred ATE: 2.0\n",
      "NCT03134872 - arm: Control - Dynamic Ratio (0.724) - intervention: 11.0 - real_outcome: 6.5, pred_outcome: 7.96, real ATE: 4.5 vs pred ATE: 3.04\n",
      "NCT03629925 - arm: Control - Dynamic Ratio (0.714) - intervention: 5.5 - real_outcome: 4.9, pred_outcome: 3.93, real ATE: 0.6 vs pred ATE: 1.57\n",
      "NCT03117049 - arm: Control - Dynamic Ratio (0.724) - intervention: 12.1 - real_outcome: 8.1, pred_outcome: 8.76, real ATE: 4.0 vs pred ATE: 3.34\n",
      "NCT03663205 - arm: Control - Dynamic Ratio (0.714) - intervention: 9.7 - real_outcome: 7.6, pred_outcome: 6.93, real ATE: 2.1 vs pred ATE: 2.77\n",
      "NCT04194203 - arm: Control - Dynamic Ratio (0.714) - intervention: 9.5 - real_outcome: 7.1, pred_outcome: 6.79, real ATE: 2.4 vs pred ATE: 2.71\n",
      "NCT03829332 - arm: Control - Dynamic Ratio (0.724) - intervention: 6.6 - real_outcome: 4.2, pred_outcome: 4.78, real ATE: 2.4 vs pred ATE: 1.82\n",
      "NCT03829319 - arm: Control - Dynamic Ratio (0.714) - intervention: 12.1 - real_outcome: 9.5, pred_outcome: 8.64, real ATE: 2.6 vs pred ATE: 3.46\n",
      "NCT03594747 - arm: Control - Dynamic Ratio (0.714) - intervention: 7.6 - real_outcome: 5.5, pred_outcome: 5.43, real ATE: 2.1 vs pred ATE: 2.17\n",
      "NCT02477826 - arm: Control - Dynamic Ratio (0.714) - intervention: 4.65 - real_outcome: 5.6, pred_outcome: 3.32, real ATE: -0.95 vs pred ATE: 1.33\n",
      "NCT03866993 - arm: Control - Dynamic Ratio (0.724) - intervention: 7.6 - real_outcome: 4.2, pred_outcome: 5.5, real ATE: 3.4 vs pred ATE: 2.1\n",
      "NCT02775435 - arm: Control - Dynamic Ratio (0.714) - intervention: 6.8 - real_outcome: 4.8, pred_outcome: 4.86, real ATE: 2.0 vs pred ATE: 1.94\n",
      "NCT02775435 - arm: Control - Dynamic Ratio (0.714) - intervention: 6.8 - real_outcome: 5.2, pred_outcome: 4.86, real ATE: 1.6 vs pred ATE: 1.94\n",
      "NCT03728556 - arm: Control - Dynamic Ratio (0.724) - intervention: 9.0 - real_outcome: 5.8, pred_outcome: 6.51, real ATE: 3.2 vs pred ATE: 2.49\n",
      "NCT01364012 - arm: Control - Dynamic Ratio (0.724) - intervention: 9.2 - real_outcome: 6.5, pred_outcome: 6.66, real ATE: 2.7 vs pred ATE: 2.54\n",
      "NCT01469000 - arm: Control - Dynamic Ratio (0.729) - intervention: 15.8 - real_outcome: 10.9, pred_outcome: 11.51, real ATE: 4.9 vs pred ATE: 4.29\n",
      "NCT03515837 - arm: Control - Dynamic Ratio (0.718) - intervention: 5.6 - real_outcome: 5.5, pred_outcome: 4.02, real ATE: 0.1 vs pred ATE: 1.58\n",
      "NCT04129502 - arm: Control - Dynamic Ratio (0.708) - intervention: 9.6 - real_outcome: 9.6, pred_outcome: 6.79, real ATE: 0.0 vs pred ATE: 2.81\n",
      "NCT04194203 - arm: Control - Dynamic Ratio (0.722) - intervention: 9.5 - real_outcome: 7.1, pred_outcome: 6.86, real ATE: 2.4 vs pred ATE: 2.64\n",
      "NCT04538664 - arm: Control - Dynamic Ratio (0.734) - intervention: 11.4 - real_outcome: 6.7, pred_outcome: 8.37, real ATE: 4.7 vs pred ATE: 3.03\n",
      "NCT04988295 - arm: Control - Dynamic Ratio (0.728) - intervention: 7.3 - real_outcome: 4.2, pred_outcome: 5.31, real ATE: 3.1 vs pred ATE: 1.99\n",
      "NCT02142738 - arm: Control - Dynamic Ratio (0.723) - intervention: 7.7 - real_outcome: 5.5, pred_outcome: 5.57, real ATE: 2.2 vs pred ATE: 2.13\n",
      "NCT02041533 - arm: Control - Dynamic Ratio (0.716) - intervention: 4.2 - real_outcome: 5.9, pred_outcome: 3.01, real ATE: -1.7 vs pred ATE: 1.19\n",
      "NCT02657434 - arm: Control - Dynamic Ratio (0.724) - intervention: 7.6 - real_outcome: 5.2, pred_outcome: 5.51, real ATE: 2.4 vs pred ATE: 2.09\n",
      "NCT02367781 - arm: Control - Dynamic Ratio (0.721) - intervention: 7.0 - real_outcome: 5.5, pred_outcome: 5.05, real ATE: 1.5 vs pred ATE: 1.95\n",
      "NCT03134872 - arm: Control - Dynamic Ratio (0.733) - intervention: 11.0 - real_outcome: 6.5, pred_outcome: 8.06, real ATE: 4.5 vs pred ATE: 2.94\n",
      "NCT03629925 - arm: Control - Dynamic Ratio (0.720) - intervention: 5.5 - real_outcome: 4.9, pred_outcome: 3.96, real ATE: 0.6 vs pred ATE: 1.54\n",
      "NCT03117049 - arm: Control - Dynamic Ratio (0.728) - intervention: 12.1 - real_outcome: 8.1, pred_outcome: 8.81, real ATE: 4.0 vs pred ATE: 3.29\n",
      "NCT03663205 - arm: Control - Dynamic Ratio (0.720) - intervention: 9.7 - real_outcome: 7.6, pred_outcome: 6.98, real ATE: 2.1 vs pred ATE: 2.72\n",
      "NCT04194203 - arm: Control - Dynamic Ratio (0.722) - intervention: 9.5 - real_outcome: 7.1, pred_outcome: 6.86, real ATE: 2.4 vs pred ATE: 2.64\n",
      "NCT03829332 - arm: Control - Dynamic Ratio (0.725) - intervention: 6.6 - real_outcome: 4.2, pred_outcome: 4.79, real ATE: 2.4 vs pred ATE: 1.81\n",
      "NCT03829319 - arm: Control - Dynamic Ratio (0.717) - intervention: 12.1 - real_outcome: 9.5, pred_outcome: 8.68, real ATE: 2.6 vs pred ATE: 3.42\n",
      "NCT03594747 - arm: Control - Dynamic Ratio (0.723) - intervention: 7.6 - real_outcome: 5.5, pred_outcome: 5.5, real ATE: 2.1 vs pred ATE: 2.1\n",
      "NCT02477826 - arm: Control - Dynamic Ratio (0.717) - intervention: 4.65 - real_outcome: 5.6, pred_outcome: 3.33, real ATE: -0.95 vs pred ATE: 1.32\n",
      "NCT03866993 - arm: Control - Dynamic Ratio (0.729) - intervention: 7.6 - real_outcome: 4.2, pred_outcome: 5.54, real ATE: 3.4 vs pred ATE: 2.06\n",
      "NCT02775435 - arm: Control - Dynamic Ratio (0.723) - intervention: 6.8 - real_outcome: 4.8, pred_outcome: 4.91, real ATE: 2.0 vs pred ATE: 1.89\n",
      "NCT02775435 - arm: Control - Dynamic Ratio (0.723) - intervention: 6.8 - real_outcome: 5.2, pred_outcome: 4.91, real ATE: 1.6 vs pred ATE: 1.89\n",
      "NCT03728556 - arm: Control - Dynamic Ratio (0.727) - intervention: 9.0 - real_outcome: 5.8, pred_outcome: 6.54, real ATE: 3.2 vs pred ATE: 2.46\n",
      "NCT01364012 - arm: Control - Dynamic Ratio (0.700) - intervention: 9.2 - real_outcome: 6.5, pred_outcome: 6.44, real ATE: 2.7 vs pred ATE: 2.76\n",
      "NCT01469000 - arm: Control - Dynamic Ratio (0.750) - intervention: 15.8 - real_outcome: 10.9, pred_outcome: 11.85, real ATE: 4.9 vs pred ATE: 3.95\n",
      "NCT03515837 - arm: Control - Dynamic Ratio (0.700) - intervention: 5.6 - real_outcome: 5.5, pred_outcome: 3.92, real ATE: 0.1 vs pred ATE: 1.68\n",
      "NCT04129502 - arm: Control - Dynamic Ratio (0.700) - intervention: 9.6 - real_outcome: 9.6, pred_outcome: 6.72, real ATE: 0.0 vs pred ATE: 2.88\n",
      "NCT04194203 - arm: Control - Dynamic Ratio (0.700) - intervention: 9.5 - real_outcome: 7.1, pred_outcome: 6.65, real ATE: 2.4 vs pred ATE: 2.85\n",
      "NCT04538664 - arm: Control - Dynamic Ratio (0.750) - intervention: 11.4 - real_outcome: 6.7, pred_outcome: 8.55, real ATE: 4.7 vs pred ATE: 2.85\n",
      "NCT04988295 - arm: Control - Dynamic Ratio (0.750) - intervention: 7.3 - real_outcome: 4.2, pred_outcome: 5.47, real ATE: 3.1 vs pred ATE: 1.83\n",
      "NCT02142738 - arm: Control - Dynamic Ratio (0.700) - intervention: 7.7 - real_outcome: 5.5, pred_outcome: 5.39, real ATE: 2.2 vs pred ATE: 2.31\n",
      "NCT02041533 - arm: Control - Dynamic Ratio (0.700) - intervention: 4.2 - real_outcome: 5.9, pred_outcome: 2.94, real ATE: -1.7 vs pred ATE: 1.26\n",
      "NCT02657434 - arm: Control - Dynamic Ratio (0.700) - intervention: 7.6 - real_outcome: 5.2, pred_outcome: 5.32, real ATE: 2.4 vs pred ATE: 2.28\n",
      "NCT02367781 - arm: Control - Dynamic Ratio (0.700) - intervention: 7.0 - real_outcome: 5.5, pred_outcome: 4.9, real ATE: 1.5 vs pred ATE: 2.1\n",
      "NCT03134872 - arm: Control - Dynamic Ratio (0.750) - intervention: 11.0 - real_outcome: 6.5, pred_outcome: 8.25, real ATE: 4.5 vs pred ATE: 2.75\n",
      "NCT03629925 - arm: Control - Dynamic Ratio (0.700) - intervention: 5.5 - real_outcome: 4.9, pred_outcome: 3.85, real ATE: 0.6 vs pred ATE: 1.65\n",
      "NCT03117049 - arm: Control - Dynamic Ratio (0.750) - intervention: 12.1 - real_outcome: 8.1, pred_outcome: 9.07, real ATE: 4.0 vs pred ATE: 3.03\n",
      "NCT03663205 - arm: Control - Dynamic Ratio (0.700) - intervention: 9.7 - real_outcome: 7.6, pred_outcome: 6.79, real ATE: 2.1 vs pred ATE: 2.91\n",
      "NCT04194203 - arm: Control - Dynamic Ratio (0.700) - intervention: 9.5 - real_outcome: 7.1, pred_outcome: 6.65, real ATE: 2.4 vs pred ATE: 2.85\n",
      "NCT03829332 - arm: Control - Dynamic Ratio (0.750) - intervention: 6.6 - real_outcome: 4.2, pred_outcome: 4.95, real ATE: 2.4 vs pred ATE: 1.65\n",
      "NCT03829319 - arm: Control - Dynamic Ratio (0.700) - intervention: 12.1 - real_outcome: 9.5, pred_outcome: 8.47, real ATE: 2.6 vs pred ATE: 3.63\n",
      "NCT03594747 - arm: Control - Dynamic Ratio (0.700) - intervention: 7.6 - real_outcome: 5.5, pred_outcome: 5.32, real ATE: 2.1 vs pred ATE: 2.28\n",
      "NCT02477826 - arm: Control - Dynamic Ratio (0.700) - intervention: 4.65 - real_outcome: 5.6, pred_outcome: 3.26, real ATE: -0.95 vs pred ATE: 1.39\n",
      "NCT03866993 - arm: Control - Dynamic Ratio (0.750) - intervention: 7.6 - real_outcome: 4.2, pred_outcome: 5.7, real ATE: 3.4 vs pred ATE: 1.9\n",
      "NCT02775435 - arm: Control - Dynamic Ratio (0.700) - intervention: 6.8 - real_outcome: 4.8, pred_outcome: 4.76, real ATE: 2.0 vs pred ATE: 2.04\n",
      "NCT02775435 - arm: Control - Dynamic Ratio (0.700) - intervention: 6.8 - real_outcome: 5.2, pred_outcome: 4.76, real ATE: 1.6 vs pred ATE: 2.04\n",
      "NCT03728556 - arm: Control - Dynamic Ratio (0.750) - intervention: 9.0 - real_outcome: 5.8, pred_outcome: 6.75, real ATE: 3.2 vs pred ATE: 2.25\n"
     ]
    }
   ],
   "source": [
    "results_dynamic_simple = dynamic_ratio_method(training_df, trial_id_col, control_arm_col, target_col, method='simple')\n",
    "results_dynamic_regression = dynamic_ratio_method(training_df, trial_id_col, control_arm_col, target_col, method='regression')\n",
    "results_dynamic_cv = dynamic_ratio_method(training_df, trial_id_col, control_arm_col, target_col, method='cv')"
   ]
  },
  {
   "cell_type": "code",
   "execution_count": 28,
   "id": "47f8bebc",
   "metadata": {},
   "outputs": [
    {
     "name": "stdout",
     "output_type": "stream",
     "text": [
      "NCT01364012 - OLS_proportional - Ratio: 0.7239 (R²=0.963, n=21)\n",
      "  Treatment: 9.2, Real Control: 6.5, Predicted Control: 6.66\n",
      "  Real ATE: 2.7, Predicted ATE: 2.54\n",
      "--------------------------------------------------------------------------------\n",
      "NCT01469000 - OLS_proportional - Ratio: 0.7286 (R²=0.960, n=21)\n",
      "  Treatment: 15.8, Real Control: 10.9, Predicted Control: 11.51\n",
      "  Real ATE: 4.9, Predicted ATE: 4.29\n",
      "--------------------------------------------------------------------------------\n",
      "NCT03515837 - OLS_proportional - Ratio: 0.7184 (R²=0.966, n=21)\n",
      "  Treatment: 5.6, Real Control: 5.5, Predicted Control: 4.02\n",
      "  Real ATE: 0.1, Predicted ATE: 1.58\n",
      "--------------------------------------------------------------------------------\n",
      "NCT04129502 - OLS_proportional - Ratio: 0.7078 (R²=0.970, n=21)\n",
      "  Treatment: 9.6, Real Control: 9.6, Predicted Control: 6.79\n",
      "  Real ATE: 0.0, Predicted ATE: 2.81\n",
      "--------------------------------------------------------------------------------\n",
      "NCT04194203 - OLS_proportional - Ratio: 0.7218 (R²=0.963, n=21)\n",
      "  Treatment: 9.5, Real Control: 7.1, Predicted Control: 6.86\n",
      "  Real ATE: 2.4, Predicted ATE: 2.64\n",
      "--------------------------------------------------------------------------------\n",
      "NCT04538664 - OLS_proportional - Ratio: 0.7339 (R²=0.966, n=21)\n",
      "  Treatment: 11.4, Real Control: 6.7, Predicted Control: 8.37\n",
      "  Real ATE: 4.7, Predicted ATE: 3.03\n",
      "--------------------------------------------------------------------------------\n",
      "NCT04988295 - OLS_proportional - Ratio: 0.7277 (R²=0.966, n=21)\n",
      "  Treatment: 7.3, Real Control: 4.2, Predicted Control: 5.31\n",
      "  Real ATE: 3.1, Predicted ATE: 1.99\n",
      "--------------------------------------------------------------------------------\n",
      "NCT02142738 - OLS_proportional - Ratio: 0.7234 (R²=0.964, n=21)\n",
      "  Treatment: 7.7, Real Control: 5.5, Predicted Control: 5.57\n",
      "  Real ATE: 2.2, Predicted ATE: 2.13\n",
      "--------------------------------------------------------------------------------\n",
      "NCT02041533 - OLS_proportional - Ratio: 0.7162 (R²=0.973, n=21)\n",
      "  Treatment: 4.2, Real Control: 5.9, Predicted Control: 3.01\n",
      "  Real ATE: -1.7, Predicted ATE: 1.19\n",
      "--------------------------------------------------------------------------------\n",
      "NCT02657434 - OLS_proportional - Ratio: 0.7244 (R²=0.964, n=21)\n",
      "  Treatment: 7.6, Real Control: 5.2, Predicted Control: 5.51\n",
      "  Real ATE: 2.4, Predicted ATE: 2.09\n",
      "--------------------------------------------------------------------------------\n",
      "NCT02367781 - OLS_proportional - Ratio: 0.7213 (R²=0.964, n=21)\n",
      "  Treatment: 7.0, Real Control: 5.5, Predicted Control: 5.05\n",
      "  Real ATE: 1.5, Predicted ATE: 1.95\n",
      "--------------------------------------------------------------------------------\n",
      "NCT03134872 - OLS_proportional - Ratio: 0.7328 (R²=0.966, n=21)\n",
      "  Treatment: 11.0, Real Control: 6.5, Predicted Control: 8.06\n",
      "  Real ATE: 4.5, Predicted ATE: 2.94\n",
      "--------------------------------------------------------------------------------\n",
      "NCT03629925 - OLS_proportional - Ratio: 0.7202 (R²=0.965, n=21)\n",
      "  Treatment: 5.5, Real Control: 4.9, Predicted Control: 3.96\n",
      "  Real ATE: 0.6, Predicted ATE: 1.54\n",
      "--------------------------------------------------------------------------------\n",
      "NCT03117049 - OLS_proportional - Ratio: 0.7280 (R²=0.963, n=21)\n",
      "  Treatment: 12.1, Real Control: 8.1, Predicted Control: 8.81\n",
      "  Real ATE: 4.0, Predicted ATE: 3.29\n",
      "--------------------------------------------------------------------------------\n",
      "NCT03663205 - OLS_proportional - Ratio: 0.7197 (R²=0.963, n=21)\n",
      "  Treatment: 9.7, Real Control: 7.6, Predicted Control: 6.98\n",
      "  Real ATE: 2.1, Predicted ATE: 2.72\n",
      "--------------------------------------------------------------------------------\n",
      "NCT04194203 - OLS_proportional - Ratio: 0.7218 (R²=0.963, n=21)\n",
      "  Treatment: 9.5, Real Control: 7.1, Predicted Control: 6.86\n",
      "  Real ATE: 2.4, Predicted ATE: 2.64\n",
      "--------------------------------------------------------------------------------\n",
      "NCT03829332 - OLS_proportional - Ratio: 0.7253 (R²=0.965, n=21)\n",
      "  Treatment: 6.6, Real Control: 4.2, Predicted Control: 4.79\n",
      "  Real ATE: 2.4, Predicted ATE: 1.81\n",
      "--------------------------------------------------------------------------------\n",
      "NCT03829319 - OLS_proportional - Ratio: 0.7175 (R²=0.962, n=21)\n",
      "  Treatment: 12.1, Real Control: 9.5, Predicted Control: 8.68\n",
      "  Real ATE: 2.6, Predicted ATE: 3.42\n",
      "--------------------------------------------------------------------------------\n",
      "NCT03594747 - OLS_proportional - Ratio: 0.7231 (R²=0.964, n=21)\n",
      "  Treatment: 7.6, Real Control: 5.5, Predicted Control: 5.5\n",
      "  Real ATE: 2.1, Predicted ATE: 2.1\n",
      "--------------------------------------------------------------------------------\n",
      "NCT02477826 - OLS_proportional - Ratio: 0.7171 (R²=0.969, n=21)\n",
      "  Treatment: 4.65, Real Control: 5.6, Predicted Control: 3.33\n",
      "  Real ATE: -0.95, Predicted ATE: 1.32\n",
      "--------------------------------------------------------------------------------\n",
      "NCT03866993 - OLS_proportional - Ratio: 0.7289 (R²=0.966, n=21)\n",
      "  Treatment: 7.6, Real Control: 4.2, Predicted Control: 5.54\n",
      "  Real ATE: 3.4, Predicted ATE: 2.06\n",
      "--------------------------------------------------------------------------------\n",
      "NCT02775435 - OLS_proportional - Ratio: 0.7228 (R²=0.964, n=21)\n",
      "  Treatment: 6.8, Real Control: 4.8, Predicted Control: 4.91\n",
      "  Real ATE: 2.0, Predicted ATE: 1.89\n",
      "--------------------------------------------------------------------------------\n",
      "NCT02775435 - OLS_proportional - Ratio: 0.7228 (R²=0.964, n=21)\n",
      "  Treatment: 6.8, Real Control: 5.2, Predicted Control: 4.91\n",
      "  Real ATE: 1.6, Predicted ATE: 1.89\n",
      "--------------------------------------------------------------------------------\n",
      "NCT03728556 - OLS_proportional - Ratio: 0.7269 (R²=0.964, n=21)\n",
      "  Treatment: 9.0, Real Control: 5.8, Predicted Control: 6.54\n",
      "  Real ATE: 3.2, Predicted ATE: 2.46\n",
      "--------------------------------------------------------------------------------\n"
     ]
    }
   ],
   "source": [
    "# not using intercept. using intercept makes the results worse\n",
    "results_ols_intercept = ols_ratio_method(training_df, trial_id_col, control_arm_col, target_col, use_intercept=False)"
   ]
  },
  {
   "cell_type": "code",
   "execution_count": 29,
   "id": "e72797ff",
   "metadata": {},
   "outputs": [
    {
     "data": {
      "text/plain": [
       "np.float64(0.72295)"
      ]
     },
     "execution_count": 29,
     "metadata": {},
     "output_type": "execute_result"
    }
   ],
   "source": [
    "pd.DataFrame(results_ols_intercept)['estimated_ratio'].median()"
   ]
  },
  {
   "cell_type": "code",
   "execution_count": 30,
   "id": "1ca336ba",
   "metadata": {},
   "outputs": [
    {
     "data": {
      "text/plain": [
       "(np.float64(0.714), np.float64(0.723), np.float64(0.7))"
      ]
     },
     "execution_count": 30,
     "metadata": {},
     "output_type": "execute_result"
    }
   ],
   "source": [
    "pd.DataFrame(results_dynamic_simple)['estimated_ratio'].median(), pd.DataFrame(results_dynamic_regression)['estimated_ratio'].median(), pd.DataFrame(results_dynamic_cv)['estimated_ratio'].median()"
   ]
  },
  {
   "cell_type": "code",
   "execution_count": 31,
   "id": "7a34dce5",
   "metadata": {},
   "outputs": [
    {
     "name": "stdout",
     "output_type": "stream",
     "text": [
      "NCT01364012 - arm: Control - 0.723 Ratio - intervention: 9.2 - real_outcome: 6.5, pred_outcome: 6.65, real ATE: 2.7 vs pred ATE: 2.55\n",
      "NCT01469000 - arm: Control - 0.723 Ratio - intervention: 15.8 - real_outcome: 10.9, pred_outcome: 11.42, real ATE: 4.9 vs pred ATE: 4.38\n",
      "NCT03515837 - arm: Control - 0.723 Ratio - intervention: 5.6 - real_outcome: 5.5, pred_outcome: 4.05, real ATE: 0.1 vs pred ATE: 1.55\n",
      "NCT04129502 - arm: Control - 0.723 Ratio - intervention: 9.6 - real_outcome: 9.6, pred_outcome: 6.94, real ATE: 0.0 vs pred ATE: 2.66\n",
      "NCT04194203 - arm: Control - 0.723 Ratio - intervention: 9.5 - real_outcome: 7.1, pred_outcome: 6.87, real ATE: 2.4 vs pred ATE: 2.63\n",
      "NCT04538664 - arm: Control - 0.723 Ratio - intervention: 11.4 - real_outcome: 6.7, pred_outcome: 8.24, real ATE: 4.7 vs pred ATE: 3.16\n",
      "NCT04988295 - arm: Control - 0.723 Ratio - intervention: 7.3 - real_outcome: 4.2, pred_outcome: 5.28, real ATE: 3.1 vs pred ATE: 2.02\n",
      "NCT02142738 - arm: Control - 0.723 Ratio - intervention: 7.7 - real_outcome: 5.5, pred_outcome: 5.57, real ATE: 2.2 vs pred ATE: 2.13\n",
      "NCT02041533 - arm: Control - 0.723 Ratio - intervention: 4.2 - real_outcome: 5.9, pred_outcome: 3.04, real ATE: -1.7 vs pred ATE: 1.16\n",
      "NCT02657434 - arm: Control - 0.723 Ratio - intervention: 7.6 - real_outcome: 5.2, pred_outcome: 5.49, real ATE: 2.4 vs pred ATE: 2.11\n",
      "NCT02367781 - arm: Control - 0.723 Ratio - intervention: 7.0 - real_outcome: 5.5, pred_outcome: 5.06, real ATE: 1.5 vs pred ATE: 1.94\n",
      "NCT03134872 - arm: Control - 0.723 Ratio - intervention: 11.0 - real_outcome: 6.5, pred_outcome: 7.95, real ATE: 4.5 vs pred ATE: 3.05\n",
      "NCT03629925 - arm: Control - 0.723 Ratio - intervention: 5.5 - real_outcome: 4.9, pred_outcome: 3.98, real ATE: 0.6 vs pred ATE: 1.52\n",
      "NCT03117049 - arm: Control - 0.723 Ratio - intervention: 12.1 - real_outcome: 8.1, pred_outcome: 8.75, real ATE: 4.0 vs pred ATE: 3.35\n",
      "NCT03663205 - arm: Control - 0.723 Ratio - intervention: 9.7 - real_outcome: 7.6, pred_outcome: 7.01, real ATE: 2.1 vs pred ATE: 2.69\n",
      "NCT04194203 - arm: Control - 0.723 Ratio - intervention: 9.5 - real_outcome: 7.1, pred_outcome: 6.87, real ATE: 2.4 vs pred ATE: 2.63\n",
      "NCT03829332 - arm: Control - 0.723 Ratio - intervention: 6.6 - real_outcome: 4.2, pred_outcome: 4.77, real ATE: 2.4 vs pred ATE: 1.83\n",
      "NCT03829319 - arm: Control - 0.723 Ratio - intervention: 12.1 - real_outcome: 9.5, pred_outcome: 8.75, real ATE: 2.6 vs pred ATE: 3.35\n",
      "NCT03594747 - arm: Control - 0.723 Ratio - intervention: 7.6 - real_outcome: 5.5, pred_outcome: 5.49, real ATE: 2.1 vs pred ATE: 2.11\n",
      "NCT02477826 - arm: Control - 0.723 Ratio - intervention: 4.65 - real_outcome: 5.6, pred_outcome: 3.36, real ATE: -0.95 vs pred ATE: 1.29\n",
      "NCT03866993 - arm: Control - 0.723 Ratio - intervention: 7.6 - real_outcome: 4.2, pred_outcome: 5.49, real ATE: 3.4 vs pred ATE: 2.11\n",
      "NCT02775435 - arm: Control - 0.723 Ratio - intervention: 6.8 - real_outcome: 4.8, pred_outcome: 4.92, real ATE: 2.0 vs pred ATE: 1.88\n",
      "NCT02775435 - arm: Control - 0.723 Ratio - intervention: 6.8 - real_outcome: 5.2, pred_outcome: 4.92, real ATE: 1.6 vs pred ATE: 1.88\n",
      "NCT03728556 - arm: Control - 0.723 Ratio - intervention: 9.0 - real_outcome: 5.8, pred_outcome: 6.51, real ATE: 3.2 vs pred ATE: 2.49\n",
      "NCT01364012 - arm: Control - 0.72295 Ratio - intervention: 9.2 - real_outcome: 6.5, pred_outcome: 6.65, real ATE: 2.7 vs pred ATE: 2.55\n",
      "NCT01469000 - arm: Control - 0.72295 Ratio - intervention: 15.8 - real_outcome: 10.9, pred_outcome: 11.42, real ATE: 4.9 vs pred ATE: 4.38\n",
      "NCT03515837 - arm: Control - 0.72295 Ratio - intervention: 5.6 - real_outcome: 5.5, pred_outcome: 4.05, real ATE: 0.1 vs pred ATE: 1.55\n",
      "NCT04129502 - arm: Control - 0.72295 Ratio - intervention: 9.6 - real_outcome: 9.6, pred_outcome: 6.94, real ATE: 0.0 vs pred ATE: 2.66\n",
      "NCT04194203 - arm: Control - 0.72295 Ratio - intervention: 9.5 - real_outcome: 7.1, pred_outcome: 6.87, real ATE: 2.4 vs pred ATE: 2.63\n",
      "NCT04538664 - arm: Control - 0.72295 Ratio - intervention: 11.4 - real_outcome: 6.7, pred_outcome: 8.24, real ATE: 4.7 vs pred ATE: 3.16\n",
      "NCT04988295 - arm: Control - 0.72295 Ratio - intervention: 7.3 - real_outcome: 4.2, pred_outcome: 5.28, real ATE: 3.1 vs pred ATE: 2.02\n",
      "NCT02142738 - arm: Control - 0.72295 Ratio - intervention: 7.7 - real_outcome: 5.5, pred_outcome: 5.57, real ATE: 2.2 vs pred ATE: 2.13\n",
      "NCT02041533 - arm: Control - 0.72295 Ratio - intervention: 4.2 - real_outcome: 5.9, pred_outcome: 3.04, real ATE: -1.7 vs pred ATE: 1.16\n",
      "NCT02657434 - arm: Control - 0.72295 Ratio - intervention: 7.6 - real_outcome: 5.2, pred_outcome: 5.49, real ATE: 2.4 vs pred ATE: 2.11\n",
      "NCT02367781 - arm: Control - 0.72295 Ratio - intervention: 7.0 - real_outcome: 5.5, pred_outcome: 5.06, real ATE: 1.5 vs pred ATE: 1.94\n",
      "NCT03134872 - arm: Control - 0.72295 Ratio - intervention: 11.0 - real_outcome: 6.5, pred_outcome: 7.95, real ATE: 4.5 vs pred ATE: 3.05\n",
      "NCT03629925 - arm: Control - 0.72295 Ratio - intervention: 5.5 - real_outcome: 4.9, pred_outcome: 3.98, real ATE: 0.6 vs pred ATE: 1.52\n",
      "NCT03117049 - arm: Control - 0.72295 Ratio - intervention: 12.1 - real_outcome: 8.1, pred_outcome: 8.75, real ATE: 4.0 vs pred ATE: 3.35\n",
      "NCT03663205 - arm: Control - 0.72295 Ratio - intervention: 9.7 - real_outcome: 7.6, pred_outcome: 7.01, real ATE: 2.1 vs pred ATE: 2.69\n",
      "NCT04194203 - arm: Control - 0.72295 Ratio - intervention: 9.5 - real_outcome: 7.1, pred_outcome: 6.87, real ATE: 2.4 vs pred ATE: 2.63\n",
      "NCT03829332 - arm: Control - 0.72295 Ratio - intervention: 6.6 - real_outcome: 4.2, pred_outcome: 4.77, real ATE: 2.4 vs pred ATE: 1.83\n",
      "NCT03829319 - arm: Control - 0.72295 Ratio - intervention: 12.1 - real_outcome: 9.5, pred_outcome: 8.75, real ATE: 2.6 vs pred ATE: 3.35\n",
      "NCT03594747 - arm: Control - 0.72295 Ratio - intervention: 7.6 - real_outcome: 5.5, pred_outcome: 5.49, real ATE: 2.1 vs pred ATE: 2.11\n",
      "NCT02477826 - arm: Control - 0.72295 Ratio - intervention: 4.65 - real_outcome: 5.6, pred_outcome: 3.36, real ATE: -0.95 vs pred ATE: 1.29\n",
      "NCT03866993 - arm: Control - 0.72295 Ratio - intervention: 7.6 - real_outcome: 4.2, pred_outcome: 5.49, real ATE: 3.4 vs pred ATE: 2.11\n",
      "NCT02775435 - arm: Control - 0.72295 Ratio - intervention: 6.8 - real_outcome: 4.8, pred_outcome: 4.92, real ATE: 2.0 vs pred ATE: 1.88\n",
      "NCT02775435 - arm: Control - 0.72295 Ratio - intervention: 6.8 - real_outcome: 5.2, pred_outcome: 4.92, real ATE: 1.6 vs pred ATE: 1.88\n",
      "NCT03728556 - arm: Control - 0.72295 Ratio - intervention: 9.0 - real_outcome: 5.8, pred_outcome: 6.51, real ATE: 3.2 vs pred ATE: 2.49\n"
     ]
    }
   ],
   "source": [
    "ratio_estimate_regression = pd.DataFrame(results_dynamic_regression)['estimated_ratio'].median()\n",
    "ratio_estimate_ols_intercept = pd.DataFrame(results_ols_intercept)['estimated_ratio'].median()\n",
    "results_ratio_estimate = ratio_method(ratio_estimate_regression)\n",
    "results_ratio_estimate_ols = ratio_method(ratio_estimate_ols_intercept)\n"
   ]
  },
  {
   "cell_type": "markdown",
   "id": "8feec495",
   "metadata": {},
   "source": [
    "# Approach 5: External Knowledge Method\n",
    "\n",
    "## Methodology\n",
    "\n",
    "**Prediction Strategy**: Use external literature/web sources to establish control arm benchmarks rather than learning from trial data.\n",
    "\n",
    "### Data Source:\n",
    "Based on published literature for lung cancer control arms, we use:\n",
    "- **Fixed prediction**: 11.7 months PFS for all control arms\n",
    "- **Literature basis**: Meta-analysis of chemotherapy outcomes in NSCLC\n",
    "\n",
    "### Clinical Context:\n",
    "Representative control arm outcomes from literature:\n",
    "- Gefitinib Monotherapy: 11.1 months\n",
    "- Chemotherapy (Pemetrexed/Carboplatin): 12.5 months\n",
    "- Average benchmark: ~11.7 months\n",
    "\n",
    "### Algorithm Steps:\n",
    "1. **Fixed prediction**: Assign 11.7 months to all control arms\n",
    "2. **ATE calculation**: Subtract fixed value from actual intervention outcomes\n",
    "3. **No learning**: Does not adapt based on trial data\n",
    "\n",
    "### Interpretation:\n",
    "This represents the approach of using **external clinical knowledge** rather than data-driven learning. It simulates what clinicians might predict based on general domain expertise.\n",
    "\n",
    "**Strengths**: Independent of data quality, incorporates domain expertise, simple\n",
    "**Limitations**: May not reflect dataset-specific characteristics, assumes all trials have similar control arm populations"
   ]
  },
  {
   "cell_type": "code",
   "execution_count": 32,
   "id": "5db131ae",
   "metadata": {},
   "outputs": [
    {
     "name": "stdout",
     "output_type": "stream",
     "text": [
      "NCT01364012 - arm: Control - intervention: 9.2 - real_outcome: 6.5, pred_outcome: 11.7, real ATE: 2.7 vs pred ATE: -2.5\n",
      "NCT01469000 - arm: Control - intervention: 15.8 - real_outcome: 10.9, pred_outcome: 11.7, real ATE: 4.9 vs pred ATE: 4.1\n",
      "NCT03515837 - arm: Control - intervention: 5.6 - real_outcome: 5.5, pred_outcome: 11.7, real ATE: 0.1 vs pred ATE: -6.1\n",
      "NCT04129502 - arm: Control - intervention: 9.6 - real_outcome: 9.6, pred_outcome: 11.7, real ATE: 0.0 vs pred ATE: -2.1\n",
      "NCT04194203 - arm: Control - intervention: 9.5 - real_outcome: 7.1, pred_outcome: 11.7, real ATE: 2.4 vs pred ATE: -2.2\n",
      "NCT04538664 - arm: Control - intervention: 11.4 - real_outcome: 6.7, pred_outcome: 11.7, real ATE: 4.7 vs pred ATE: -0.3\n",
      "NCT04988295 - arm: Control - intervention: 7.3 - real_outcome: 4.2, pred_outcome: 11.7, real ATE: 3.1 vs pred ATE: -4.4\n",
      "NCT02142738 - arm: Control - intervention: 7.7 - real_outcome: 5.5, pred_outcome: 11.7, real ATE: 2.2 vs pred ATE: -4.0\n",
      "NCT02041533 - arm: Control - intervention: 4.2 - real_outcome: 5.9, pred_outcome: 11.7, real ATE: -1.7 vs pred ATE: -7.5\n",
      "NCT02657434 - arm: Control - intervention: 7.6 - real_outcome: 5.2, pred_outcome: 11.7, real ATE: 2.4 vs pred ATE: -4.1\n",
      "NCT02367781 - arm: Control - intervention: 7.0 - real_outcome: 5.5, pred_outcome: 11.7, real ATE: 1.5 vs pred ATE: -4.7\n",
      "NCT03134872 - arm: Control - intervention: 11.0 - real_outcome: 6.5, pred_outcome: 11.7, real ATE: 4.5 vs pred ATE: -0.7\n",
      "NCT03629925 - arm: Control - intervention: 5.5 - real_outcome: 4.9, pred_outcome: 11.7, real ATE: 0.6 vs pred ATE: -6.2\n",
      "NCT03117049 - arm: Control - intervention: 12.1 - real_outcome: 8.1, pred_outcome: 11.7, real ATE: 4.0 vs pred ATE: 0.4\n",
      "NCT03663205 - arm: Control - intervention: 9.7 - real_outcome: 7.6, pred_outcome: 11.7, real ATE: 2.1 vs pred ATE: -2.0\n",
      "NCT04194203 - arm: Control - intervention: 9.5 - real_outcome: 7.1, pred_outcome: 11.7, real ATE: 2.4 vs pred ATE: -2.2\n",
      "NCT03829332 - arm: Control - intervention: 6.6 - real_outcome: 4.2, pred_outcome: 11.7, real ATE: 2.4 vs pred ATE: -5.1\n",
      "NCT03829319 - arm: Control - intervention: 12.1 - real_outcome: 9.5, pred_outcome: 11.7, real ATE: 2.6 vs pred ATE: 0.4\n",
      "NCT03594747 - arm: Control - intervention: 7.6 - real_outcome: 5.5, pred_outcome: 11.7, real ATE: 2.1 vs pred ATE: -4.1\n",
      "NCT02477826 - arm: Control - intervention: 4.65 - real_outcome: 5.6, pred_outcome: 11.7, real ATE: -0.95 vs pred ATE: -7.05\n",
      "NCT03866993 - arm: Control - intervention: 7.6 - real_outcome: 4.2, pred_outcome: 11.7, real ATE: 3.4 vs pred ATE: -4.1\n",
      "NCT02775435 - arm: Control - intervention: 6.8 - real_outcome: 4.8, pred_outcome: 11.7, real ATE: 2.0 vs pred ATE: -4.9\n",
      "NCT02775435 - arm: Control - intervention: 6.8 - real_outcome: 5.2, pred_outcome: 11.7, real ATE: 1.6 vs pred ATE: -4.9\n",
      "The KEYNOTE-407 China extension study (NCT03875092) was identical to the global KEYNOTE-407 study with the exception that it included only patients enrolled in mainland China after enrollment in the global study was completed. - arm: Control - intervention: nan - real_outcome: 4.2, pred_outcome: 11.7, real ATE: nan vs pred ATE: nan\n",
      "NCT03728556 - arm: Control - intervention: 9.0 - real_outcome: 5.8, pred_outcome: 11.7, real ATE: 3.2 vs pred ATE: -2.7\n"
     ]
    }
   ],
   "source": [
    "results_web = []\n",
    "for index, row in training_df.iterrows():\n",
    "    rct_name = row[trial_id_col]\n",
    "    is_arm_control = row[control_arm_col]\n",
    "    \n",
    "    if is_arm_control == 1:\n",
    "        # ground truth\n",
    "        outcome_control = round(row[target_col], 2)\n",
    "        \n",
    "        # Get the trt outcome of the RCT targeted\n",
    "        trt_arm = training_df.loc[training_df[trial_id_col] == rct_name, :]\n",
    "        trt_outcome = trt_arm.loc[trt_arm[control_arm_col] != 1, target_col]\n",
    "        trt_outcome = round(trt_outcome.mean(), 2)\n",
    "        \n",
    "        # Web info\n",
    "        predicted_outcome = 11.7\n",
    "    \n",
    "        real_ate = round(trt_outcome - outcome_control, 2)\n",
    "        pred_ate = round(trt_outcome - predicted_outcome, 2)\n",
    "        results_web.append({\n",
    "            \"real_ate\": real_ate,\n",
    "            \"pred_ate\": pred_ate,\n",
    "            \"outcome_control\": outcome_control,\n",
    "            \"predicted_outcome\": predicted_outcome,\n",
    "            \"rct_name\": rct_name,\n",
    "            \"intervention\": row[\"intervention\"],\n",
    "            \"Arm\": row[\"Arm\"],\n",
    "        })\n",
    "            \n",
    "        print(f\"{rct_name} - arm: {row['Arm']} - intervention: {trt_outcome} - real_outcome: {outcome_control}, pred_outcome: {predicted_outcome}, real ATE: {real_ate} vs pred ATE: {pred_ate}\")"
   ]
  },
  {
   "cell_type": "markdown",
   "id": "799dac38",
   "metadata": {},
   "source": [
    "# Methods Comparison and Evaluation\n",
    "\n",
    "## Performance Metrics Explanation\n",
    "\n",
    "### Key Evaluation Criteria:\n",
    "\n",
    "1. **ATE Direction Accuracy**: Most clinically important metric\n",
    "   - Percentage of trials where predicted ATE has the correct sign (positive/negative)\n",
    "   - Critical for trial go/no-go decisions\n",
    "\n",
    "2. **R² Score (ATE)**: Goodness of fit for ATE predictions\n",
    "   - Measures how well predicted ATEs correlate with actual ATEs\n",
    "   - Higher values indicate better predictive accuracy\n",
    "\n",
    "3. **Spearman Correlation (ATE)**: Rank-order correlation\n",
    "   - Non-parametric measure robust to outliers\n",
    "   - Important for relative ranking of trial attractiveness\n",
    "\n",
    "4. **RMSE (ATE)**: Root Mean Squared Error for ATEs\n",
    "   - Measures absolute prediction accuracy\n",
    "   - Lower values indicate better precision\n",
    "\n",
    "5. **RMSE (Outcome)**: RMSE for control arm predictions\n",
    "   - Direct measure of control arm prediction accuracy\n",
    "   - Important for sample size calculations\n",
    "\n",
    "### Clinical Significance:\n",
    "- **Direction accuracy** is most critical: Getting the sign wrong could lead to pursuing ineffective treatments\n",
    "- **Magnitude accuracy** affects sample size and trial design\n",
    "- **Ranking accuracy** helps prioritize among multiple potential trials"
   ]
  },
  {
   "cell_type": "code",
   "execution_count": 33,
   "id": "51faa6de",
   "metadata": {},
   "outputs": [],
   "source": [
    "results_ml_df = pd.DataFrame(results_ml)\n",
    "results_elastic_net_df = pd.DataFrame(results_elastic_net)\n",
    "results_rf_df = pd.DataFrame(results_rf)\n",
    "results_lgbm_df = pd.DataFrame(results_lgbm)\n",
    "results_catboost_df = pd.DataFrame(results_catboost_quantile)\n",
    "results_average_df = pd.DataFrame(results_average)\n",
    "results_web_df = pd.DataFrame(results_web)\n",
    "results_similar_df = pd.DataFrame(results_similarity)\n",
    "\n",
    "\n",
    "results_ratio_df = pd.DataFrame(results_ratio)\n",
    "results_ratio_7_df = pd.DataFrame(results_ratio_7)\n",
    "results_ratio_6_df = pd.DataFrame(results_ratio_6)\n",
    "results_ratio_9_df = pd.DataFrame(results_ratio_9)\n",
    "results_ratio_estimate_df = pd.DataFrame(results_ratio_estimate)\n",
    "results_ratio_estimate_ols_df = pd.DataFrame(results_ratio_estimate_ols)\n"
   ]
  },
  {
   "cell_type": "code",
   "execution_count": 34,
   "id": "0e650add",
   "metadata": {},
   "outputs": [],
   "source": [
    "import warnings\n",
    "warnings.simplefilter(action='ignore', category=pd.errors.SettingWithCopyWarning)"
   ]
  },
  {
   "cell_type": "code",
   "execution_count": 35,
   "id": "ca458ae6",
   "metadata": {},
   "outputs": [
    {
     "data": {
      "text/html": [
       "<div>\n",
       "<style scoped>\n",
       "    .dataframe tbody tr th:only-of-type {\n",
       "        vertical-align: middle;\n",
       "    }\n",
       "\n",
       "    .dataframe tbody tr th {\n",
       "        vertical-align: top;\n",
       "    }\n",
       "\n",
       "    .dataframe thead th {\n",
       "        text-align: right;\n",
       "    }\n",
       "</style>\n",
       "<table border=\"1\" class=\"dataframe\">\n",
       "  <thead>\n",
       "    <tr style=\"text-align: right;\">\n",
       "      <th></th>\n",
       "      <th>real_ate</th>\n",
       "      <th>pred_ate</th>\n",
       "      <th>outcome_control</th>\n",
       "      <th>predicted_outcome</th>\n",
       "      <th>rct_name</th>\n",
       "      <th>intervention</th>\n",
       "      <th>Arm</th>\n",
       "    </tr>\n",
       "  </thead>\n",
       "  <tbody>\n",
       "    <tr>\n",
       "      <th>0</th>\n",
       "      <td>2.70</td>\n",
       "      <td>1.62</td>\n",
       "      <td>6.5</td>\n",
       "      <td>7.58</td>\n",
       "      <td>NCT01364012</td>\n",
       "      <td>placebo + platinum doublet chemo (carboplatin ...</td>\n",
       "      <td>Control</td>\n",
       "    </tr>\n",
       "    <tr>\n",
       "      <th>1</th>\n",
       "      <td>4.90</td>\n",
       "      <td>5.31</td>\n",
       "      <td>10.9</td>\n",
       "      <td>10.49</td>\n",
       "      <td>NCT01469000</td>\n",
       "      <td>gefitinib</td>\n",
       "      <td>Control</td>\n",
       "    </tr>\n",
       "    <tr>\n",
       "      <th>2</th>\n",
       "      <td>0.10</td>\n",
       "      <td>-0.44</td>\n",
       "      <td>5.5</td>\n",
       "      <td>6.04</td>\n",
       "      <td>NCT03515837</td>\n",
       "      <td>placebo + pemtrexed + platinum-based chemo</td>\n",
       "      <td>Control</td>\n",
       "    </tr>\n",
       "    <tr>\n",
       "      <th>3</th>\n",
       "      <td>0.00</td>\n",
       "      <td>3.60</td>\n",
       "      <td>9.6</td>\n",
       "      <td>6.00</td>\n",
       "      <td>NCT04129502</td>\n",
       "      <td>platinum-based chemothrapy</td>\n",
       "      <td>Control</td>\n",
       "    </tr>\n",
       "    <tr>\n",
       "      <th>4</th>\n",
       "      <td>2.40</td>\n",
       "      <td>3.85</td>\n",
       "      <td>7.1</td>\n",
       "      <td>5.65</td>\n",
       "      <td>NCT04194203</td>\n",
       "      <td>placebo + bevacizumab + platinum-based chemo</td>\n",
       "      <td>Control</td>\n",
       "    </tr>\n",
       "    <tr>\n",
       "      <th>5</th>\n",
       "      <td>4.70</td>\n",
       "      <td>3.66</td>\n",
       "      <td>6.7</td>\n",
       "      <td>7.74</td>\n",
       "      <td>NCT04538664</td>\n",
       "      <td>placebo + platinum-based chemo</td>\n",
       "      <td>Control</td>\n",
       "    </tr>\n",
       "    <tr>\n",
       "      <th>6</th>\n",
       "      <td>3.10</td>\n",
       "      <td>0.37</td>\n",
       "      <td>4.2</td>\n",
       "      <td>6.93</td>\n",
       "      <td>NCT04988295</td>\n",
       "      <td>platinum-based chemothrapy (carboplatin + peme...</td>\n",
       "      <td>Control</td>\n",
       "    </tr>\n",
       "    <tr>\n",
       "      <th>7</th>\n",
       "      <td>2.20</td>\n",
       "      <td>2.51</td>\n",
       "      <td>5.5</td>\n",
       "      <td>5.19</td>\n",
       "      <td>NCT02142738</td>\n",
       "      <td>platinum + pemetrexed or gemcitabine or paclit...</td>\n",
       "      <td>Control</td>\n",
       "    </tr>\n",
       "    <tr>\n",
       "      <th>8</th>\n",
       "      <td>-1.70</td>\n",
       "      <td>-0.34</td>\n",
       "      <td>5.9</td>\n",
       "      <td>4.54</td>\n",
       "      <td>NCT02041533</td>\n",
       "      <td>platinum-based doublet chemotherapy</td>\n",
       "      <td>Control</td>\n",
       "    </tr>\n",
       "    <tr>\n",
       "      <th>9</th>\n",
       "      <td>2.40</td>\n",
       "      <td>2.15</td>\n",
       "      <td>5.2</td>\n",
       "      <td>5.45</td>\n",
       "      <td>NCT02657434</td>\n",
       "      <td>cisplatin or carboplatin + pemetrexed (PP)</td>\n",
       "      <td>Control</td>\n",
       "    </tr>\n",
       "    <tr>\n",
       "      <th>10</th>\n",
       "      <td>1.50</td>\n",
       "      <td>0.02</td>\n",
       "      <td>5.5</td>\n",
       "      <td>6.98</td>\n",
       "      <td>NCT02367781</td>\n",
       "      <td>carboplatin +nab-paclitaxel</td>\n",
       "      <td>Control</td>\n",
       "    </tr>\n",
       "    <tr>\n",
       "      <th>11</th>\n",
       "      <td>4.50</td>\n",
       "      <td>3.93</td>\n",
       "      <td>6.5</td>\n",
       "      <td>7.07</td>\n",
       "      <td>NCT03134872</td>\n",
       "      <td>carboplatin and pemetrexed</td>\n",
       "      <td>Control</td>\n",
       "    </tr>\n",
       "    <tr>\n",
       "      <th>12</th>\n",
       "      <td>0.60</td>\n",
       "      <td>1.73</td>\n",
       "      <td>4.9</td>\n",
       "      <td>3.77</td>\n",
       "      <td>NCT03629925</td>\n",
       "      <td>platinum + gemcitabine</td>\n",
       "      <td>Control</td>\n",
       "    </tr>\n",
       "    <tr>\n",
       "      <th>13</th>\n",
       "      <td>4.00</td>\n",
       "      <td>5.18</td>\n",
       "      <td>8.1</td>\n",
       "      <td>6.92</td>\n",
       "      <td>NCT03117049</td>\n",
       "      <td>carboplatin+ paclitaxel + bevacizumab</td>\n",
       "      <td>Control</td>\n",
       "    </tr>\n",
       "    <tr>\n",
       "      <th>14</th>\n",
       "      <td>2.10</td>\n",
       "      <td>3.16</td>\n",
       "      <td>7.6</td>\n",
       "      <td>6.54</td>\n",
       "      <td>NCT03663205</td>\n",
       "      <td>platinum + pemetrexed</td>\n",
       "      <td>Control</td>\n",
       "    </tr>\n",
       "    <tr>\n",
       "      <th>15</th>\n",
       "      <td>2.40</td>\n",
       "      <td>3.85</td>\n",
       "      <td>7.1</td>\n",
       "      <td>5.65</td>\n",
       "      <td>NCT04194203</td>\n",
       "      <td>placebo + bevacizumab + platinum-based chemo</td>\n",
       "      <td>Control</td>\n",
       "    </tr>\n",
       "    <tr>\n",
       "      <th>16</th>\n",
       "      <td>2.40</td>\n",
       "      <td>1.06</td>\n",
       "      <td>4.2</td>\n",
       "      <td>5.54</td>\n",
       "      <td>NCT03829332</td>\n",
       "      <td>Pembrolizumab</td>\n",
       "      <td>Control</td>\n",
       "    </tr>\n",
       "    <tr>\n",
       "      <th>17</th>\n",
       "      <td>2.60</td>\n",
       "      <td>5.08</td>\n",
       "      <td>9.5</td>\n",
       "      <td>7.02</td>\n",
       "      <td>NCT03829319</td>\n",
       "      <td>Pembrolizumab + carboplatin + pemetrexed</td>\n",
       "      <td>Control</td>\n",
       "    </tr>\n",
       "    <tr>\n",
       "      <th>18</th>\n",
       "      <td>2.10</td>\n",
       "      <td>0.96</td>\n",
       "      <td>5.5</td>\n",
       "      <td>6.64</td>\n",
       "      <td>NCT03594747</td>\n",
       "      <td>paclitaxel + carboplatin</td>\n",
       "      <td>Control</td>\n",
       "    </tr>\n",
       "    <tr>\n",
       "      <th>19</th>\n",
       "      <td>-0.95</td>\n",
       "      <td>-0.56</td>\n",
       "      <td>5.6</td>\n",
       "      <td>5.21</td>\n",
       "      <td>NCT02477826</td>\n",
       "      <td>platinum doublet therapy</td>\n",
       "      <td>Control</td>\n",
       "    </tr>\n",
       "    <tr>\n",
       "      <th>20</th>\n",
       "      <td>3.40</td>\n",
       "      <td>1.65</td>\n",
       "      <td>4.2</td>\n",
       "      <td>5.95</td>\n",
       "      <td>NCT03866993</td>\n",
       "      <td>Carboplatin + paclitaxel</td>\n",
       "      <td>Control</td>\n",
       "    </tr>\n",
       "    <tr>\n",
       "      <th>21</th>\n",
       "      <td>2.00</td>\n",
       "      <td>2.12</td>\n",
       "      <td>4.8</td>\n",
       "      <td>4.68</td>\n",
       "      <td>NCT02775435</td>\n",
       "      <td>Carboplatin + (nab-)paclitaxel</td>\n",
       "      <td>Control</td>\n",
       "    </tr>\n",
       "    <tr>\n",
       "      <th>22</th>\n",
       "      <td>1.60</td>\n",
       "      <td>1.60</td>\n",
       "      <td>5.2</td>\n",
       "      <td>5.20</td>\n",
       "      <td>NCT02775435</td>\n",
       "      <td>Carboplatin + (nab-)paclitaxel</td>\n",
       "      <td>Control</td>\n",
       "    </tr>\n",
       "    <tr>\n",
       "      <th>23</th>\n",
       "      <td>3.20</td>\n",
       "      <td>2.78</td>\n",
       "      <td>5.8</td>\n",
       "      <td>6.22</td>\n",
       "      <td>NCT03728556</td>\n",
       "      <td>Placebo</td>\n",
       "      <td>Control</td>\n",
       "    </tr>\n",
       "  </tbody>\n",
       "</table>\n",
       "</div>"
      ],
      "text/plain": [
       "    real_ate  pred_ate  outcome_control  predicted_outcome     rct_name  \\\n",
       "0       2.70      1.62              6.5               7.58  NCT01364012   \n",
       "1       4.90      5.31             10.9              10.49  NCT01469000   \n",
       "2       0.10     -0.44              5.5               6.04  NCT03515837   \n",
       "3       0.00      3.60              9.6               6.00  NCT04129502   \n",
       "4       2.40      3.85              7.1               5.65  NCT04194203   \n",
       "5       4.70      3.66              6.7               7.74  NCT04538664   \n",
       "6       3.10      0.37              4.2               6.93  NCT04988295   \n",
       "7       2.20      2.51              5.5               5.19  NCT02142738   \n",
       "8      -1.70     -0.34              5.9               4.54  NCT02041533   \n",
       "9       2.40      2.15              5.2               5.45  NCT02657434   \n",
       "10      1.50      0.02              5.5               6.98  NCT02367781   \n",
       "11      4.50      3.93              6.5               7.07  NCT03134872   \n",
       "12      0.60      1.73              4.9               3.77  NCT03629925   \n",
       "13      4.00      5.18              8.1               6.92  NCT03117049   \n",
       "14      2.10      3.16              7.6               6.54  NCT03663205   \n",
       "15      2.40      3.85              7.1               5.65  NCT04194203   \n",
       "16      2.40      1.06              4.2               5.54  NCT03829332   \n",
       "17      2.60      5.08              9.5               7.02  NCT03829319   \n",
       "18      2.10      0.96              5.5               6.64  NCT03594747   \n",
       "19     -0.95     -0.56              5.6               5.21  NCT02477826   \n",
       "20      3.40      1.65              4.2               5.95  NCT03866993   \n",
       "21      2.00      2.12              4.8               4.68  NCT02775435   \n",
       "22      1.60      1.60              5.2               5.20  NCT02775435   \n",
       "23      3.20      2.78              5.8               6.22  NCT03728556   \n",
       "\n",
       "                                         intervention      Arm  \n",
       "0   placebo + platinum doublet chemo (carboplatin ...  Control  \n",
       "1                                           gefitinib  Control  \n",
       "2          placebo + pemtrexed + platinum-based chemo  Control  \n",
       "3                          platinum-based chemothrapy  Control  \n",
       "4        placebo + bevacizumab + platinum-based chemo  Control  \n",
       "5                      placebo + platinum-based chemo  Control  \n",
       "6   platinum-based chemothrapy (carboplatin + peme...  Control  \n",
       "7   platinum + pemetrexed or gemcitabine or paclit...  Control  \n",
       "8                 platinum-based doublet chemotherapy  Control  \n",
       "9          cisplatin or carboplatin + pemetrexed (PP)  Control  \n",
       "10                        carboplatin +nab-paclitaxel  Control  \n",
       "11                         carboplatin and pemetrexed  Control  \n",
       "12                             platinum + gemcitabine  Control  \n",
       "13              carboplatin+ paclitaxel + bevacizumab  Control  \n",
       "14                              platinum + pemetrexed  Control  \n",
       "15       placebo + bevacizumab + platinum-based chemo  Control  \n",
       "16                                     Pembrolizumab   Control  \n",
       "17           Pembrolizumab + carboplatin + pemetrexed  Control  \n",
       "18                           paclitaxel + carboplatin  Control  \n",
       "19                           platinum doublet therapy  Control  \n",
       "20                           Carboplatin + paclitaxel  Control  \n",
       "21                    Carboplatin + (nab-)paclitaxel   Control  \n",
       "22                    Carboplatin + (nab-)paclitaxel   Control  \n",
       "23                                            Placebo  Control  "
      ]
     },
     "execution_count": 35,
     "metadata": {},
     "output_type": "execute_result"
    }
   ],
   "source": [
    "results_ml_df"
   ]
  },
  {
   "cell_type": "code",
   "execution_count": 36,
   "id": "56f74934",
   "metadata": {},
   "outputs": [
    {
     "data": {
      "text/html": [
       "<div>\n",
       "<style scoped>\n",
       "    .dataframe tbody tr th:only-of-type {\n",
       "        vertical-align: middle;\n",
       "    }\n",
       "\n",
       "    .dataframe tbody tr th {\n",
       "        vertical-align: top;\n",
       "    }\n",
       "\n",
       "    .dataframe thead th {\n",
       "        text-align: right;\n",
       "    }\n",
       "</style>\n",
       "<table border=\"1\" class=\"dataframe\">\n",
       "  <thead>\n",
       "    <tr style=\"text-align: right;\">\n",
       "      <th></th>\n",
       "      <th>Approach</th>\n",
       "      <th>ATE direction true</th>\n",
       "      <th>r2_ate</th>\n",
       "      <th>spearman_ate</th>\n",
       "      <th>rmse_ate</th>\n",
       "      <th>r2_outcome</th>\n",
       "      <th>rmse_outcome</th>\n",
       "    </tr>\n",
       "  </thead>\n",
       "  <tbody>\n",
       "    <tr>\n",
       "      <th>0</th>\n",
       "      <td>ML Approach Lasso</td>\n",
       "      <td>0.92</td>\n",
       "      <td>0.24</td>\n",
       "      <td>0.63</td>\n",
       "      <td>1.42</td>\n",
       "      <td>0.33</td>\n",
       "      <td>1.42</td>\n",
       "    </tr>\n",
       "    <tr>\n",
       "      <th>1</th>\n",
       "      <td>ML Approach RF</td>\n",
       "      <td>0.96</td>\n",
       "      <td>0.52</td>\n",
       "      <td>0.76</td>\n",
       "      <td>1.13</td>\n",
       "      <td>0.58</td>\n",
       "      <td>1.13</td>\n",
       "    </tr>\n",
       "    <tr>\n",
       "      <th>2</th>\n",
       "      <td>ML Approach ElasticNet</td>\n",
       "      <td>0.88</td>\n",
       "      <td>0.17</td>\n",
       "      <td>0.57</td>\n",
       "      <td>1.48</td>\n",
       "      <td>0.27</td>\n",
       "      <td>1.48</td>\n",
       "    </tr>\n",
       "    <tr>\n",
       "      <th>3</th>\n",
       "      <td>ML Approach LightGBM</td>\n",
       "      <td>0.92</td>\n",
       "      <td>0.49</td>\n",
       "      <td>0.82</td>\n",
       "      <td>1.16</td>\n",
       "      <td>0.55</td>\n",
       "      <td>1.16</td>\n",
       "    </tr>\n",
       "    <tr>\n",
       "      <th>4</th>\n",
       "      <td>ML Approach CatBoost</td>\n",
       "      <td>0.96</td>\n",
       "      <td>0.28</td>\n",
       "      <td>0.74</td>\n",
       "      <td>1.41</td>\n",
       "      <td>0.35</td>\n",
       "      <td>1.41</td>\n",
       "    </tr>\n",
       "    <tr>\n",
       "      <th>5</th>\n",
       "      <td>Average approach</td>\n",
       "      <td>0.88</td>\n",
       "      <td>-0.24</td>\n",
       "      <td>0.69</td>\n",
       "      <td>1.81</td>\n",
       "      <td>-0.09</td>\n",
       "      <td>1.81</td>\n",
       "    </tr>\n",
       "    <tr>\n",
       "      <th>6</th>\n",
       "      <td>Similarity approach</td>\n",
       "      <td>0.83</td>\n",
       "      <td>0.01</td>\n",
       "      <td>0.64</td>\n",
       "      <td>1.62</td>\n",
       "      <td>-0.39</td>\n",
       "      <td>2.04</td>\n",
       "    </tr>\n",
       "    <tr>\n",
       "      <th>7</th>\n",
       "      <td>Web approach</td>\n",
       "      <td>0.21</td>\n",
       "      <td>-11.04</td>\n",
       "      <td>0.71</td>\n",
       "      <td>5.66</td>\n",
       "      <td>-9.65</td>\n",
       "      <td>5.66</td>\n",
       "    </tr>\n",
       "    <tr>\n",
       "      <th>8</th>\n",
       "      <td>80% Ratio Method</td>\n",
       "      <td>0.88</td>\n",
       "      <td>0.30</td>\n",
       "      <td>0.71</td>\n",
       "      <td>1.36</td>\n",
       "      <td>0.39</td>\n",
       "      <td>1.36</td>\n",
       "    </tr>\n",
       "    <tr>\n",
       "      <th>9</th>\n",
       "      <td>70% Ratio Method</td>\n",
       "      <td>0.88</td>\n",
       "      <td>0.46</td>\n",
       "      <td>0.71</td>\n",
       "      <td>1.20</td>\n",
       "      <td>0.52</td>\n",
       "      <td>1.20</td>\n",
       "    </tr>\n",
       "    <tr>\n",
       "      <th>10</th>\n",
       "      <td>Dynamic Ratio Method Regression</td>\n",
       "      <td>0.88</td>\n",
       "      <td>0.47</td>\n",
       "      <td>0.71</td>\n",
       "      <td>1.18</td>\n",
       "      <td>0.54</td>\n",
       "      <td>1.18</td>\n",
       "    </tr>\n",
       "    <tr>\n",
       "      <th>11</th>\n",
       "      <td>Dynamic Ratio Method OLS Intercept</td>\n",
       "      <td>0.88</td>\n",
       "      <td>0.47</td>\n",
       "      <td>0.71</td>\n",
       "      <td>1.18</td>\n",
       "      <td>0.54</td>\n",
       "      <td>1.18</td>\n",
       "    </tr>\n",
       "  </tbody>\n",
       "</table>\n",
       "</div>"
      ],
      "text/plain": [
       "                              Approach  ATE direction true  r2_ate  \\\n",
       "0                    ML Approach Lasso                0.92    0.24   \n",
       "1                       ML Approach RF                0.96    0.52   \n",
       "2               ML Approach ElasticNet                0.88    0.17   \n",
       "3                 ML Approach LightGBM                0.92    0.49   \n",
       "4                 ML Approach CatBoost                0.96    0.28   \n",
       "5                     Average approach                0.88   -0.24   \n",
       "6                  Similarity approach                0.83    0.01   \n",
       "7                         Web approach                0.21  -11.04   \n",
       "8                     80% Ratio Method                0.88    0.30   \n",
       "9                     70% Ratio Method                0.88    0.46   \n",
       "10     Dynamic Ratio Method Regression                0.88    0.47   \n",
       "11  Dynamic Ratio Method OLS Intercept                0.88    0.47   \n",
       "\n",
       "    spearman_ate  rmse_ate  r2_outcome  rmse_outcome  \n",
       "0           0.63      1.42        0.33          1.42  \n",
       "1           0.76      1.13        0.58          1.13  \n",
       "2           0.57      1.48        0.27          1.48  \n",
       "3           0.82      1.16        0.55          1.16  \n",
       "4           0.74      1.41        0.35          1.41  \n",
       "5           0.69      1.81       -0.09          1.81  \n",
       "6           0.64      1.62       -0.39          2.04  \n",
       "7           0.71      5.66       -9.65          5.66  \n",
       "8           0.71      1.36        0.39          1.36  \n",
       "9           0.71      1.20        0.52          1.20  \n",
       "10          0.71      1.18        0.54          1.18  \n",
       "11          0.71      1.18        0.54          1.18  "
      ]
     },
     "execution_count": 36,
     "metadata": {},
     "output_type": "execute_result"
    }
   ],
   "source": [
    "fin_df = pd.DataFrame([\n",
    "    calculate_perf(results_ml_df.dropna(), \"ML Approach Lasso\"),\n",
    "    calculate_perf(results_rf_df.dropna(), \"ML Approach RF\"),\n",
    "    calculate_perf(results_elastic_net_df.dropna(), \"ML Approach ElasticNet\"),\n",
    "    calculate_perf(results_lgbm_df.dropna(), \"ML Approach LightGBM\"),\n",
    "    calculate_perf(results_catboost_df.dropna(), \"ML Approach CatBoost\"),\n",
    "    calculate_perf(results_average_df.dropna(), \"Average approach\"),\n",
    "    calculate_perf(results_similar_df.dropna(), \"Similarity approach\"),\n",
    "    calculate_perf(results_web_df.dropna(), \"Web approach\"),\n",
    "    calculate_perf(results_ratio_df.dropna(), \"80% Ratio Method\"),\n",
    "    calculate_perf(results_ratio_7_df.dropna(), \"70% Ratio Method\"),\n",
    "    calculate_perf(results_ratio_estimate_df.dropna(), \"Dynamic Ratio Method Regression\"),\n",
    "    calculate_perf(results_ratio_estimate_ols_df.dropna(), \"Dynamic Ratio Method OLS Intercept\"),\n",
    "\n",
    "])\n",
    "fin_df"
   ]
  },
  {
   "cell_type": "markdown",
   "id": "8b6b72cf",
   "metadata": {},
   "source": [
    "# Calculate additional metrics for Models with CI, distribution of predictions\n",
    "\n",
    "CI width, CI coverage with actual CI(IoU), CI width"
   ]
  },
  {
   "cell_type": "code",
   "execution_count": 37,
   "id": "2b8f950a",
   "metadata": {},
   "outputs": [],
   "source": [
    "from utilities.utils import calculate_perf_enhanced_with_iou"
   ]
  },
  {
   "cell_type": "code",
   "execution_count": 38,
   "id": "82bba21a",
   "metadata": {},
   "outputs": [
    {
     "name": "stdout",
     "output_type": "stream",
     "text": [
      "Calculating IoU using actual CI column: actual_outcome_ci and predicted CI column: pred_ci_95\n",
      "IoU Statistics - Mean: 0.203, Median: 0.153\n",
      "IoU Range: [0.0, 0.675], Std: 0.218\n",
      "High IoU (>0.5): 17.4%, Very High IoU (>0.7): 0.0%\n"
     ]
    },
    {
     "data": {
      "text/html": [
       "<div>\n",
       "<style scoped>\n",
       "    .dataframe tbody tr th:only-of-type {\n",
       "        vertical-align: middle;\n",
       "    }\n",
       "\n",
       "    .dataframe tbody tr th {\n",
       "        vertical-align: top;\n",
       "    }\n",
       "\n",
       "    .dataframe thead th {\n",
       "        text-align: right;\n",
       "    }\n",
       "</style>\n",
       "<table border=\"1\" class=\"dataframe\">\n",
       "  <thead>\n",
       "    <tr style=\"text-align: right;\">\n",
       "      <th></th>\n",
       "      <th>Approach</th>\n",
       "      <th>r2_ate</th>\n",
       "      <th>r2_outcome</th>\n",
       "      <th>rmse_ate</th>\n",
       "      <th>rmse_outcome</th>\n",
       "      <th>spearman_ate</th>\n",
       "      <th>ATE direction true</th>\n",
       "      <th>abs_bias_ate</th>\n",
       "      <th>coverage_95_ate</th>\n",
       "      <th>avg_ci_width_ate</th>\n",
       "      <th>coverage_95_ate_from_samples</th>\n",
       "      <th>iou_outcome_scores</th>\n",
       "      <th>avg_iou_outcome</th>\n",
       "      <th>median_iou_outcome</th>\n",
       "    </tr>\n",
       "  </thead>\n",
       "  <tbody>\n",
       "    <tr>\n",
       "      <th>0</th>\n",
       "      <td>CatBoost Quantile</td>\n",
       "      <td>0.28</td>\n",
       "      <td>0.35</td>\n",
       "      <td>1.41</td>\n",
       "      <td>1.41</td>\n",
       "      <td>0.74</td>\n",
       "      <td>0.96</td>\n",
       "      <td>0.976</td>\n",
       "      <td>0.565</td>\n",
       "      <td>1.507</td>\n",
       "      <td>0.565</td>\n",
       "      <td>[0.522, 0.0, 0.156, 0.082, 0.098, 0.675, 0.0, ...</td>\n",
       "      <td>0.203</td>\n",
       "      <td>0.153</td>\n",
       "    </tr>\n",
       "  </tbody>\n",
       "</table>\n",
       "</div>"
      ],
      "text/plain": [
       "            Approach  r2_ate  r2_outcome  rmse_ate  rmse_outcome  \\\n",
       "0  CatBoost Quantile    0.28        0.35      1.41          1.41   \n",
       "\n",
       "   spearman_ate  ATE direction true  abs_bias_ate  coverage_95_ate  \\\n",
       "0          0.74                0.96         0.976            0.565   \n",
       "\n",
       "   avg_ci_width_ate  coverage_95_ate_from_samples  \\\n",
       "0             1.507                         0.565   \n",
       "\n",
       "                                  iou_outcome_scores  avg_iou_outcome  \\\n",
       "0  [0.522, 0.0, 0.156, 0.082, 0.098, 0.675, 0.0, ...            0.203   \n",
       "\n",
       "   median_iou_outcome  \n",
       "0               0.153  "
      ]
     },
     "execution_count": 38,
     "metadata": {},
     "output_type": "execute_result"
    }
   ],
   "source": [
    "pd.DataFrame([\n",
    "calculate_perf_enhanced_with_iou(results_catboost_df.dropna(), \"CatBoost Quantile\",\n",
    "                                  actual_ci_col='actual_outcome_ci',\n",
    "                                  pred_ci_col='pred_ci_95'),\n",
    "])\n",
    "\n"
   ]
  },
  {
   "cell_type": "code",
   "execution_count": 39,
   "id": "b1ced9e4",
   "metadata": {},
   "outputs": [
    {
     "name": "stdout",
     "output_type": "stream",
     "text": [
      "Calculating IoU using actual CI column: actual_outcome_ci and predicted CI column: pred_ci_95\n",
      "IoU Statistics - Mean: 0.203, Median: 0.153\n",
      "IoU Range: [0.0, 0.675], Std: 0.218\n",
      "High IoU (>0.5): 17.4%, Very High IoU (>0.7): 0.0%\n"
     ]
    },
    {
     "data": {
      "text/plain": [
       "[0.522,\n",
       " 0.0,\n",
       " 0.156,\n",
       " 0.082,\n",
       " 0.098,\n",
       " 0.675,\n",
       " 0.0,\n",
       " 0.4,\n",
       " 0.287,\n",
       " 0.396,\n",
       " 0.153,\n",
       " 0.656,\n",
       " 0.0,\n",
       " 0.167,\n",
       " 0.0,\n",
       " 0.098,\n",
       " 0.0,\n",
       " 0.0,\n",
       " 0.161,\n",
       " 0.317,\n",
       " 0.0,\n",
       " 0.0,\n",
       " 0.508]"
      ]
     },
     "execution_count": 39,
     "metadata": {},
     "output_type": "execute_result"
    }
   ],
   "source": [
    "iou_outcomes_scores = pd.DataFrame([calculate_perf_enhanced_with_iou(results_catboost_df.dropna(), \"CatBoost Quantile\",\n",
    "                                  actual_ci_col='actual_outcome_ci',\n",
    "                                  pred_ci_col='pred_ci_95')])\n",
    "iou_outcomes_scores['iou_outcome_scores'].tolist()[0]"
   ]
  },
  {
   "cell_type": "code",
   "execution_count": 40,
   "id": "415acd18",
   "metadata": {},
   "outputs": [
    {
     "data": {
      "text/html": [
       "<div>\n",
       "<style scoped>\n",
       "    .dataframe tbody tr th:only-of-type {\n",
       "        vertical-align: middle;\n",
       "    }\n",
       "\n",
       "    .dataframe tbody tr th {\n",
       "        vertical-align: top;\n",
       "    }\n",
       "\n",
       "    .dataframe thead th {\n",
       "        text-align: right;\n",
       "    }\n",
       "</style>\n",
       "<table border=\"1\" class=\"dataframe\">\n",
       "  <thead>\n",
       "    <tr style=\"text-align: right;\">\n",
       "      <th></th>\n",
       "      <th>real_ate</th>\n",
       "      <th>pred_ate</th>\n",
       "      <th>outcome_control</th>\n",
       "      <th>predicted_outcome</th>\n",
       "      <th>rct_name</th>\n",
       "      <th>intervention</th>\n",
       "      <th>Arm</th>\n",
       "      <th>actual_outcome_ci</th>\n",
       "      <th>pred_ci_95</th>\n",
       "      <th>iou_outcome_scores</th>\n",
       "    </tr>\n",
       "  </thead>\n",
       "  <tbody>\n",
       "    <tr>\n",
       "      <th>0</th>\n",
       "      <td>2.70</td>\n",
       "      <td>2.69</td>\n",
       "      <td>6.5</td>\n",
       "      <td>6.51</td>\n",
       "      <td>NCT01364012</td>\n",
       "      <td>placebo + platinum doublet chemo (carboplatin ...</td>\n",
       "      <td>Control</td>\n",
       "      <td>[5.8, 7.1]</td>\n",
       "      <td>[5.9, 8.1]</td>\n",
       "      <td>0.522</td>\n",
       "    </tr>\n",
       "    <tr>\n",
       "      <th>1</th>\n",
       "      <td>4.90</td>\n",
       "      <td>8.24</td>\n",
       "      <td>10.9</td>\n",
       "      <td>7.56</td>\n",
       "      <td>NCT01469000</td>\n",
       "      <td>gefitinib</td>\n",
       "      <td>Control</td>\n",
       "      <td>[9.7, 13.8]</td>\n",
       "      <td>[7.87, 7.24]</td>\n",
       "      <td>0.000</td>\n",
       "    </tr>\n",
       "    <tr>\n",
       "      <th>2</th>\n",
       "      <td>0.10</td>\n",
       "      <td>1.18</td>\n",
       "      <td>5.5</td>\n",
       "      <td>4.42</td>\n",
       "      <td>NCT03515837</td>\n",
       "      <td>placebo + pemtrexed + platinum-based chemo</td>\n",
       "      <td>Control</td>\n",
       "      <td>[5.4, 5.6]</td>\n",
       "      <td>[4.4, 5.68]</td>\n",
       "      <td>0.156</td>\n",
       "    </tr>\n",
       "    <tr>\n",
       "      <th>3</th>\n",
       "      <td>0.00</td>\n",
       "      <td>2.58</td>\n",
       "      <td>9.6</td>\n",
       "      <td>7.02</td>\n",
       "      <td>NCT04129502</td>\n",
       "      <td>platinum-based chemothrapy</td>\n",
       "      <td>Control</td>\n",
       "      <td>[7.2, 11.4]</td>\n",
       "      <td>[5.7, 7.67]</td>\n",
       "      <td>0.082</td>\n",
       "    </tr>\n",
       "    <tr>\n",
       "      <th>4</th>\n",
       "      <td>2.40</td>\n",
       "      <td>3.04</td>\n",
       "      <td>7.1</td>\n",
       "      <td>6.46</td>\n",
       "      <td>NCT04194203</td>\n",
       "      <td>placebo + bevacizumab + platinum-based chemo</td>\n",
       "      <td>Control</td>\n",
       "      <td>[6.9, 9.5]</td>\n",
       "      <td>[6.12, 7.23]</td>\n",
       "      <td>0.098</td>\n",
       "    </tr>\n",
       "    <tr>\n",
       "      <th>5</th>\n",
       "      <td>4.70</td>\n",
       "      <td>3.60</td>\n",
       "      <td>6.7</td>\n",
       "      <td>7.80</td>\n",
       "      <td>NCT04538664</td>\n",
       "      <td>placebo + platinum-based chemo</td>\n",
       "      <td>Control</td>\n",
       "      <td>[5.6, 7.3]</td>\n",
       "      <td>[5.4, 7.92]</td>\n",
       "      <td>0.675</td>\n",
       "    </tr>\n",
       "    <tr>\n",
       "      <th>6</th>\n",
       "      <td>3.10</td>\n",
       "      <td>1.69</td>\n",
       "      <td>4.2</td>\n",
       "      <td>5.61</td>\n",
       "      <td>NCT04988295</td>\n",
       "      <td>platinum-based chemothrapy (carboplatin + peme...</td>\n",
       "      <td>Control</td>\n",
       "      <td>[4.0, 4.4]</td>\n",
       "      <td>[5.7, 6.52]</td>\n",
       "      <td>0.000</td>\n",
       "    </tr>\n",
       "    <tr>\n",
       "      <th>7</th>\n",
       "      <td>2.20</td>\n",
       "      <td>2.16</td>\n",
       "      <td>5.5</td>\n",
       "      <td>5.54</td>\n",
       "      <td>NCT02142738</td>\n",
       "      <td>platinum + pemetrexed or gemcitabine or paclit...</td>\n",
       "      <td>Control</td>\n",
       "      <td>[4.2, 6.2]</td>\n",
       "      <td>[5.33, 6.13]</td>\n",
       "      <td>0.400</td>\n",
       "    </tr>\n",
       "    <tr>\n",
       "      <th>8</th>\n",
       "      <td>-1.70</td>\n",
       "      <td>-1.32</td>\n",
       "      <td>5.9</td>\n",
       "      <td>5.52</td>\n",
       "      <td>NCT02041533</td>\n",
       "      <td>platinum-based doublet chemotherapy</td>\n",
       "      <td>Control</td>\n",
       "      <td>[5.4, 6.9]</td>\n",
       "      <td>[5.02, 5.94]</td>\n",
       "      <td>0.287</td>\n",
       "    </tr>\n",
       "    <tr>\n",
       "      <th>9</th>\n",
       "      <td>2.40</td>\n",
       "      <td>2.29</td>\n",
       "      <td>5.2</td>\n",
       "      <td>5.31</td>\n",
       "      <td>NCT02657434</td>\n",
       "      <td>cisplatin or carboplatin + pemetrexed (PP)</td>\n",
       "      <td>Control</td>\n",
       "      <td>[4.3, 5.6]</td>\n",
       "      <td>[4.86, 6.17]</td>\n",
       "      <td>0.396</td>\n",
       "    </tr>\n",
       "    <tr>\n",
       "      <th>10</th>\n",
       "      <td>1.50</td>\n",
       "      <td>1.59</td>\n",
       "      <td>5.5</td>\n",
       "      <td>5.41</td>\n",
       "      <td>NCT02367781</td>\n",
       "      <td>carboplatin +nab-paclitaxel</td>\n",
       "      <td>Control</td>\n",
       "      <td>[4.5, 5.9]</td>\n",
       "      <td>[5.63, 6.26]</td>\n",
       "      <td>0.153</td>\n",
       "    </tr>\n",
       "    <tr>\n",
       "      <th>11</th>\n",
       "      <td>4.50</td>\n",
       "      <td>4.36</td>\n",
       "      <td>6.5</td>\n",
       "      <td>6.64</td>\n",
       "      <td>NCT03134872</td>\n",
       "      <td>carboplatin and pemetrexed</td>\n",
       "      <td>Control</td>\n",
       "      <td>[5.5, 7.2]</td>\n",
       "      <td>[5.19, 7.78]</td>\n",
       "      <td>0.656</td>\n",
       "    </tr>\n",
       "    <tr>\n",
       "      <th>12</th>\n",
       "      <td>0.60</td>\n",
       "      <td>0.23</td>\n",
       "      <td>4.9</td>\n",
       "      <td>5.27</td>\n",
       "      <td>NCT03629925</td>\n",
       "      <td>platinum + gemcitabine</td>\n",
       "      <td>Control</td>\n",
       "      <td>[4.8, 5.0]</td>\n",
       "      <td>[5.31, 5.79]</td>\n",
       "      <td>0.000</td>\n",
       "    </tr>\n",
       "    <tr>\n",
       "      <th>13</th>\n",
       "      <td>4.00</td>\n",
       "      <td>5.36</td>\n",
       "      <td>8.1</td>\n",
       "      <td>6.74</td>\n",
       "      <td>NCT03117049</td>\n",
       "      <td>carboplatin+ paclitaxel + bevacizumab</td>\n",
       "      <td>Control</td>\n",
       "      <td>[7.0, 8.5]</td>\n",
       "      <td>[6.4, 7.35]</td>\n",
       "      <td>0.167</td>\n",
       "    </tr>\n",
       "    <tr>\n",
       "      <th>14</th>\n",
       "      <td>2.10</td>\n",
       "      <td>3.13</td>\n",
       "      <td>7.6</td>\n",
       "      <td>6.57</td>\n",
       "      <td>NCT03663205</td>\n",
       "      <td>platinum + pemetrexed</td>\n",
       "      <td>Control</td>\n",
       "      <td>[5.6, 8.0]</td>\n",
       "      <td>[6.26, 5.72]</td>\n",
       "      <td>0.000</td>\n",
       "    </tr>\n",
       "    <tr>\n",
       "      <th>15</th>\n",
       "      <td>2.40</td>\n",
       "      <td>3.04</td>\n",
       "      <td>7.1</td>\n",
       "      <td>6.46</td>\n",
       "      <td>NCT04194203</td>\n",
       "      <td>placebo + bevacizumab + platinum-based chemo</td>\n",
       "      <td>Control</td>\n",
       "      <td>[6.9, 9.5]</td>\n",
       "      <td>[6.12, 7.23]</td>\n",
       "      <td>0.098</td>\n",
       "    </tr>\n",
       "    <tr>\n",
       "      <th>16</th>\n",
       "      <td>2.40</td>\n",
       "      <td>0.47</td>\n",
       "      <td>4.2</td>\n",
       "      <td>6.13</td>\n",
       "      <td>NCT03829332</td>\n",
       "      <td>Pembrolizumab</td>\n",
       "      <td>Control</td>\n",
       "      <td>[4.1, 6.2]</td>\n",
       "      <td>[6.2, 8.62]</td>\n",
       "      <td>0.000</td>\n",
       "    </tr>\n",
       "    <tr>\n",
       "      <th>17</th>\n",
       "      <td>2.60</td>\n",
       "      <td>6.26</td>\n",
       "      <td>9.5</td>\n",
       "      <td>5.84</td>\n",
       "      <td>NCT03829319</td>\n",
       "      <td>Pembrolizumab + carboplatin + pemetrexed</td>\n",
       "      <td>Control</td>\n",
       "      <td>[8.3, 10.7]</td>\n",
       "      <td>[5.0, 6.34]</td>\n",
       "      <td>0.000</td>\n",
       "    </tr>\n",
       "    <tr>\n",
       "      <th>18</th>\n",
       "      <td>2.10</td>\n",
       "      <td>1.98</td>\n",
       "      <td>5.5</td>\n",
       "      <td>5.62</td>\n",
       "      <td>NCT03594747</td>\n",
       "      <td>paclitaxel + carboplatin</td>\n",
       "      <td>Control</td>\n",
       "      <td>[4.2, 5.7]</td>\n",
       "      <td>[5.45, 5.75]</td>\n",
       "      <td>0.161</td>\n",
       "    </tr>\n",
       "    <tr>\n",
       "      <th>19</th>\n",
       "      <td>-0.95</td>\n",
       "      <td>-0.41</td>\n",
       "      <td>5.6</td>\n",
       "      <td>5.06</td>\n",
       "      <td>NCT02477826</td>\n",
       "      <td>platinum doublet therapy</td>\n",
       "      <td>Control</td>\n",
       "      <td>[4.6, 5.8]</td>\n",
       "      <td>[4.89, 5.27]</td>\n",
       "      <td>0.317</td>\n",
       "    </tr>\n",
       "    <tr>\n",
       "      <th>20</th>\n",
       "      <td>3.40</td>\n",
       "      <td>1.95</td>\n",
       "      <td>4.2</td>\n",
       "      <td>5.65</td>\n",
       "      <td>NCT03866993</td>\n",
       "      <td>Carboplatin + paclitaxel</td>\n",
       "      <td>Control</td>\n",
       "      <td>[4.2, 4.3]</td>\n",
       "      <td>[5.66, 7.78]</td>\n",
       "      <td>0.000</td>\n",
       "    </tr>\n",
       "    <tr>\n",
       "      <th>21</th>\n",
       "      <td>2.00</td>\n",
       "      <td>1.62</td>\n",
       "      <td>4.8</td>\n",
       "      <td>5.18</td>\n",
       "      <td>NCT02775435</td>\n",
       "      <td>Carboplatin + (nab-)paclitaxel</td>\n",
       "      <td>Control</td>\n",
       "      <td>[4.3, 5.7]</td>\n",
       "      <td>[5.29, 5.17]</td>\n",
       "      <td>0.000</td>\n",
       "    </tr>\n",
       "    <tr>\n",
       "      <th>23</th>\n",
       "      <td>3.20</td>\n",
       "      <td>3.24</td>\n",
       "      <td>5.8</td>\n",
       "      <td>5.76</td>\n",
       "      <td>NCT03728556</td>\n",
       "      <td>Placebo</td>\n",
       "      <td>Control</td>\n",
       "      <td>[4.2, 6.6]</td>\n",
       "      <td>[4.96, 7.43]</td>\n",
       "      <td>0.508</td>\n",
       "    </tr>\n",
       "  </tbody>\n",
       "</table>\n",
       "</div>"
      ],
      "text/plain": [
       "    real_ate  pred_ate  outcome_control  predicted_outcome     rct_name  \\\n",
       "0       2.70      2.69              6.5               6.51  NCT01364012   \n",
       "1       4.90      8.24             10.9               7.56  NCT01469000   \n",
       "2       0.10      1.18              5.5               4.42  NCT03515837   \n",
       "3       0.00      2.58              9.6               7.02  NCT04129502   \n",
       "4       2.40      3.04              7.1               6.46  NCT04194203   \n",
       "5       4.70      3.60              6.7               7.80  NCT04538664   \n",
       "6       3.10      1.69              4.2               5.61  NCT04988295   \n",
       "7       2.20      2.16              5.5               5.54  NCT02142738   \n",
       "8      -1.70     -1.32              5.9               5.52  NCT02041533   \n",
       "9       2.40      2.29              5.2               5.31  NCT02657434   \n",
       "10      1.50      1.59              5.5               5.41  NCT02367781   \n",
       "11      4.50      4.36              6.5               6.64  NCT03134872   \n",
       "12      0.60      0.23              4.9               5.27  NCT03629925   \n",
       "13      4.00      5.36              8.1               6.74  NCT03117049   \n",
       "14      2.10      3.13              7.6               6.57  NCT03663205   \n",
       "15      2.40      3.04              7.1               6.46  NCT04194203   \n",
       "16      2.40      0.47              4.2               6.13  NCT03829332   \n",
       "17      2.60      6.26              9.5               5.84  NCT03829319   \n",
       "18      2.10      1.98              5.5               5.62  NCT03594747   \n",
       "19     -0.95     -0.41              5.6               5.06  NCT02477826   \n",
       "20      3.40      1.95              4.2               5.65  NCT03866993   \n",
       "21      2.00      1.62              4.8               5.18  NCT02775435   \n",
       "23      3.20      3.24              5.8               5.76  NCT03728556   \n",
       "\n",
       "                                         intervention      Arm  \\\n",
       "0   placebo + platinum doublet chemo (carboplatin ...  Control   \n",
       "1                                           gefitinib  Control   \n",
       "2          placebo + pemtrexed + platinum-based chemo  Control   \n",
       "3                          platinum-based chemothrapy  Control   \n",
       "4        placebo + bevacizumab + platinum-based chemo  Control   \n",
       "5                      placebo + platinum-based chemo  Control   \n",
       "6   platinum-based chemothrapy (carboplatin + peme...  Control   \n",
       "7   platinum + pemetrexed or gemcitabine or paclit...  Control   \n",
       "8                 platinum-based doublet chemotherapy  Control   \n",
       "9          cisplatin or carboplatin + pemetrexed (PP)  Control   \n",
       "10                        carboplatin +nab-paclitaxel  Control   \n",
       "11                         carboplatin and pemetrexed  Control   \n",
       "12                             platinum + gemcitabine  Control   \n",
       "13              carboplatin+ paclitaxel + bevacizumab  Control   \n",
       "14                              platinum + pemetrexed  Control   \n",
       "15       placebo + bevacizumab + platinum-based chemo  Control   \n",
       "16                                     Pembrolizumab   Control   \n",
       "17           Pembrolizumab + carboplatin + pemetrexed  Control   \n",
       "18                           paclitaxel + carboplatin  Control   \n",
       "19                           platinum doublet therapy  Control   \n",
       "20                           Carboplatin + paclitaxel  Control   \n",
       "21                    Carboplatin + (nab-)paclitaxel   Control   \n",
       "23                                            Placebo  Control   \n",
       "\n",
       "   actual_outcome_ci    pred_ci_95  iou_outcome_scores  \n",
       "0         [5.8, 7.1]    [5.9, 8.1]               0.522  \n",
       "1        [9.7, 13.8]  [7.87, 7.24]               0.000  \n",
       "2         [5.4, 5.6]   [4.4, 5.68]               0.156  \n",
       "3        [7.2, 11.4]   [5.7, 7.67]               0.082  \n",
       "4         [6.9, 9.5]  [6.12, 7.23]               0.098  \n",
       "5         [5.6, 7.3]   [5.4, 7.92]               0.675  \n",
       "6         [4.0, 4.4]   [5.7, 6.52]               0.000  \n",
       "7         [4.2, 6.2]  [5.33, 6.13]               0.400  \n",
       "8         [5.4, 6.9]  [5.02, 5.94]               0.287  \n",
       "9         [4.3, 5.6]  [4.86, 6.17]               0.396  \n",
       "10        [4.5, 5.9]  [5.63, 6.26]               0.153  \n",
       "11        [5.5, 7.2]  [5.19, 7.78]               0.656  \n",
       "12        [4.8, 5.0]  [5.31, 5.79]               0.000  \n",
       "13        [7.0, 8.5]   [6.4, 7.35]               0.167  \n",
       "14        [5.6, 8.0]  [6.26, 5.72]               0.000  \n",
       "15        [6.9, 9.5]  [6.12, 7.23]               0.098  \n",
       "16        [4.1, 6.2]   [6.2, 8.62]               0.000  \n",
       "17       [8.3, 10.7]   [5.0, 6.34]               0.000  \n",
       "18        [4.2, 5.7]  [5.45, 5.75]               0.161  \n",
       "19        [4.6, 5.8]  [4.89, 5.27]               0.317  \n",
       "20        [4.2, 4.3]  [5.66, 7.78]               0.000  \n",
       "21        [4.3, 5.7]  [5.29, 5.17]               0.000  \n",
       "23        [4.2, 6.6]  [4.96, 7.43]               0.508  "
      ]
     },
     "execution_count": 40,
     "metadata": {},
     "output_type": "execute_result"
    }
   ],
   "source": [
    "iou_results_catboost_df = results_catboost_df.dropna().copy()\n",
    "iou_results_catboost_df['iou_outcome_scores'] = iou_outcomes_scores['iou_outcome_scores'].tolist()[0]\n",
    "iou_results_catboost_df[['real_ate', 'pred_ate', 'outcome_control', 'predicted_outcome',\n",
    "                         'rct_name', 'intervention', 'Arm', 'actual_outcome_ci', 'pred_ci_95', 'iou_outcome_scores']]"
   ]
  },
  {
   "cell_type": "markdown",
   "id": "9d12ac60",
   "metadata": {},
   "source": [
    "## Visualization: Machine Learning Method\n",
    "\n",
    "**Scatter plot for the conditional machine learning approach (Lasso regression).**\n",
    "\n",
    "### Comparison with Simple Average:\n",
    "- Compare this plot with the previous simple average plot\n",
    "- Look for improved clustering around the diagonal\n",
    "- Assess whether ML reduces systematic bias\n",
    "- Identify if ML better handles extreme cases\n",
    "\n",
    "### Expected Improvements:\n",
    "- Better fit due to conditioning on intervention outcomes\n",
    "- Reduced bias through feature-based adjustments\n",
    "- More accurate predictions for trials with unique characteristics\n",
    "\n",
    "The red diagonal line represents perfect predictions. Closer clustering to this line indicates better model performance."
   ]
  },
  {
   "cell_type": "code",
   "execution_count": 41,
   "id": "2c538ce6",
   "metadata": {},
   "outputs": [
    {
     "data": {
      "text/html": [
       "<div>\n",
       "<style scoped>\n",
       "    .dataframe tbody tr th:only-of-type {\n",
       "        vertical-align: middle;\n",
       "    }\n",
       "\n",
       "    .dataframe tbody tr th {\n",
       "        vertical-align: top;\n",
       "    }\n",
       "\n",
       "    .dataframe thead th {\n",
       "        text-align: right;\n",
       "    }\n",
       "</style>\n",
       "<table border=\"1\" class=\"dataframe\">\n",
       "  <thead>\n",
       "    <tr style=\"text-align: right;\">\n",
       "      <th></th>\n",
       "      <th>real_ate</th>\n",
       "      <th>pred_ate</th>\n",
       "      <th>ate_ci_95</th>\n",
       "      <th>rct_name</th>\n",
       "      <th>intervention</th>\n",
       "      <th>Arm</th>\n",
       "      <th>training_rmse</th>\n",
       "      <th>training_mae</th>\n",
       "      <th>training_set_std</th>\n",
       "      <th>training_pred_std</th>\n",
       "    </tr>\n",
       "  </thead>\n",
       "  <tbody>\n",
       "    <tr>\n",
       "      <th>0</th>\n",
       "      <td>2.70</td>\n",
       "      <td>2.69</td>\n",
       "      <td>[1.1, 3.3]</td>\n",
       "      <td>NCT01364012</td>\n",
       "      <td>placebo + platinum doublet chemo (carboplatin ...</td>\n",
       "      <td>Control</td>\n",
       "      <td>0.036</td>\n",
       "      <td>0.009</td>\n",
       "      <td>1.770</td>\n",
       "      <td>1.759</td>\n",
       "    </tr>\n",
       "    <tr>\n",
       "      <th>1</th>\n",
       "      <td>4.90</td>\n",
       "      <td>8.24</td>\n",
       "      <td>[7.93, 8.56]</td>\n",
       "      <td>NCT01469000</td>\n",
       "      <td>gefitinib</td>\n",
       "      <td>Control</td>\n",
       "      <td>0.049</td>\n",
       "      <td>0.016</td>\n",
       "      <td>1.476</td>\n",
       "      <td>1.447</td>\n",
       "    </tr>\n",
       "    <tr>\n",
       "      <th>2</th>\n",
       "      <td>0.10</td>\n",
       "      <td>1.18</td>\n",
       "      <td>[-0.06, 1.2]</td>\n",
       "      <td>NCT03515837</td>\n",
       "      <td>placebo + pemtrexed + platinum-based chemo</td>\n",
       "      <td>Control</td>\n",
       "      <td>0.031</td>\n",
       "      <td>0.009</td>\n",
       "      <td>1.761</td>\n",
       "      <td>1.749</td>\n",
       "    </tr>\n",
       "    <tr>\n",
       "      <th>3</th>\n",
       "      <td>0.00</td>\n",
       "      <td>2.58</td>\n",
       "      <td>[1.93, 3.9]</td>\n",
       "      <td>NCT04129502</td>\n",
       "      <td>platinum-based chemothrapy</td>\n",
       "      <td>Control</td>\n",
       "      <td>0.023</td>\n",
       "      <td>0.009</td>\n",
       "      <td>1.626</td>\n",
       "      <td>1.619</td>\n",
       "    </tr>\n",
       "    <tr>\n",
       "      <th>4</th>\n",
       "      <td>2.40</td>\n",
       "      <td>3.04</td>\n",
       "      <td>[2.28, 3.8]</td>\n",
       "      <td>NCT04194203</td>\n",
       "      <td>placebo + bevacizumab + platinum-based chemo</td>\n",
       "      <td>Control</td>\n",
       "      <td>0.049</td>\n",
       "      <td>0.014</td>\n",
       "      <td>1.793</td>\n",
       "      <td>1.779</td>\n",
       "    </tr>\n",
       "    <tr>\n",
       "      <th>5</th>\n",
       "      <td>4.70</td>\n",
       "      <td>3.60</td>\n",
       "      <td>[3.47, 6.0]</td>\n",
       "      <td>NCT04538664</td>\n",
       "      <td>placebo + platinum-based chemo</td>\n",
       "      <td>Control</td>\n",
       "      <td>0.087</td>\n",
       "      <td>0.024</td>\n",
       "      <td>1.768</td>\n",
       "      <td>1.738</td>\n",
       "    </tr>\n",
       "    <tr>\n",
       "      <th>6</th>\n",
       "      <td>3.10</td>\n",
       "      <td>1.69</td>\n",
       "      <td>[0.79, 1.68]</td>\n",
       "      <td>NCT04988295</td>\n",
       "      <td>platinum-based chemothrapy (carboplatin + peme...</td>\n",
       "      <td>Control</td>\n",
       "      <td>0.065</td>\n",
       "      <td>0.015</td>\n",
       "      <td>1.712</td>\n",
       "      <td>1.693</td>\n",
       "    </tr>\n",
       "    <tr>\n",
       "      <th>7</th>\n",
       "      <td>2.20</td>\n",
       "      <td>2.16</td>\n",
       "      <td>[1.57, 2.37]</td>\n",
       "      <td>NCT02142738</td>\n",
       "      <td>platinum + pemetrexed or gemcitabine or paclit...</td>\n",
       "      <td>Control</td>\n",
       "      <td>0.040</td>\n",
       "      <td>0.013</td>\n",
       "      <td>1.761</td>\n",
       "      <td>1.742</td>\n",
       "    </tr>\n",
       "    <tr>\n",
       "      <th>8</th>\n",
       "      <td>-1.70</td>\n",
       "      <td>-1.32</td>\n",
       "      <td>[-1.71, -0.82]</td>\n",
       "      <td>NCT02041533</td>\n",
       "      <td>platinum-based doublet chemotherapy</td>\n",
       "      <td>Control</td>\n",
       "      <td>0.035</td>\n",
       "      <td>0.013</td>\n",
       "      <td>1.768</td>\n",
       "      <td>1.759</td>\n",
       "    </tr>\n",
       "    <tr>\n",
       "      <th>9</th>\n",
       "      <td>2.40</td>\n",
       "      <td>2.29</td>\n",
       "      <td>[1.5, 2.81]</td>\n",
       "      <td>NCT02657434</td>\n",
       "      <td>cisplatin or carboplatin + pemetrexed (PP)</td>\n",
       "      <td>Control</td>\n",
       "      <td>0.058</td>\n",
       "      <td>0.020</td>\n",
       "      <td>1.754</td>\n",
       "      <td>1.727</td>\n",
       "    </tr>\n",
       "    <tr>\n",
       "      <th>10</th>\n",
       "      <td>1.50</td>\n",
       "      <td>1.59</td>\n",
       "      <td>[0.72, 1.68]</td>\n",
       "      <td>NCT02367781</td>\n",
       "      <td>carboplatin +nab-paclitaxel</td>\n",
       "      <td>Control</td>\n",
       "      <td>0.047</td>\n",
       "      <td>0.017</td>\n",
       "      <td>1.761</td>\n",
       "      <td>1.742</td>\n",
       "    </tr>\n",
       "    <tr>\n",
       "      <th>11</th>\n",
       "      <td>4.50</td>\n",
       "      <td>4.36</td>\n",
       "      <td>[3.22, 5.81]</td>\n",
       "      <td>NCT03134872</td>\n",
       "      <td>carboplatin and pemetrexed</td>\n",
       "      <td>Control</td>\n",
       "      <td>0.031</td>\n",
       "      <td>0.011</td>\n",
       "      <td>1.770</td>\n",
       "      <td>1.756</td>\n",
       "    </tr>\n",
       "    <tr>\n",
       "      <th>12</th>\n",
       "      <td>0.60</td>\n",
       "      <td>0.23</td>\n",
       "      <td>[-0.68, 0.38]</td>\n",
       "      <td>NCT03629925</td>\n",
       "      <td>platinum + gemcitabine</td>\n",
       "      <td>Control</td>\n",
       "      <td>0.031</td>\n",
       "      <td>0.010</td>\n",
       "      <td>1.744</td>\n",
       "      <td>1.734</td>\n",
       "    </tr>\n",
       "    <tr>\n",
       "      <th>13</th>\n",
       "      <td>4.00</td>\n",
       "      <td>5.36</td>\n",
       "      <td>[4.75, 6.54]</td>\n",
       "      <td>NCT03117049</td>\n",
       "      <td>carboplatin+ paclitaxel + bevacizumab</td>\n",
       "      <td>Control</td>\n",
       "      <td>0.037</td>\n",
       "      <td>0.011</td>\n",
       "      <td>1.729</td>\n",
       "      <td>1.716</td>\n",
       "    </tr>\n",
       "    <tr>\n",
       "      <th>14</th>\n",
       "      <td>2.10</td>\n",
       "      <td>3.13</td>\n",
       "      <td>[2.95, 4.19]</td>\n",
       "      <td>NCT03663205</td>\n",
       "      <td>platinum + pemetrexed</td>\n",
       "      <td>Control</td>\n",
       "      <td>0.058</td>\n",
       "      <td>0.020</td>\n",
       "      <td>1.749</td>\n",
       "      <td>1.723</td>\n",
       "    </tr>\n",
       "    <tr>\n",
       "      <th>15</th>\n",
       "      <td>2.40</td>\n",
       "      <td>3.04</td>\n",
       "      <td>[2.27, 3.8]</td>\n",
       "      <td>NCT04194203</td>\n",
       "      <td>placebo + bevacizumab + platinum-based chemo</td>\n",
       "      <td>Control</td>\n",
       "      <td>0.049</td>\n",
       "      <td>0.014</td>\n",
       "      <td>1.793</td>\n",
       "      <td>1.779</td>\n",
       "    </tr>\n",
       "    <tr>\n",
       "      <th>16</th>\n",
       "      <td>2.40</td>\n",
       "      <td>0.47</td>\n",
       "      <td>[-2.02, 0.88]</td>\n",
       "      <td>NCT03829332</td>\n",
       "      <td>Pembrolizumab</td>\n",
       "      <td>Control</td>\n",
       "      <td>0.030</td>\n",
       "      <td>0.011</td>\n",
       "      <td>1.712</td>\n",
       "      <td>1.699</td>\n",
       "    </tr>\n",
       "    <tr>\n",
       "      <th>17</th>\n",
       "      <td>2.60</td>\n",
       "      <td>6.26</td>\n",
       "      <td>[5.93, 7.01]</td>\n",
       "      <td>NCT03829319</td>\n",
       "      <td>Pembrolizumab + carboplatin + pemetrexed</td>\n",
       "      <td>Control</td>\n",
       "      <td>0.005</td>\n",
       "      <td>0.002</td>\n",
       "      <td>1.635</td>\n",
       "      <td>1.633</td>\n",
       "    </tr>\n",
       "    <tr>\n",
       "      <th>18</th>\n",
       "      <td>2.10</td>\n",
       "      <td>1.98</td>\n",
       "      <td>[1.66, 2.58]</td>\n",
       "      <td>NCT03594747</td>\n",
       "      <td>paclitaxel + carboplatin</td>\n",
       "      <td>Control</td>\n",
       "      <td>0.067</td>\n",
       "      <td>0.023</td>\n",
       "      <td>1.761</td>\n",
       "      <td>1.732</td>\n",
       "    </tr>\n",
       "    <tr>\n",
       "      <th>19</th>\n",
       "      <td>-0.95</td>\n",
       "      <td>-0.41</td>\n",
       "      <td>[-1.52, -0.24]</td>\n",
       "      <td>NCT02477826</td>\n",
       "      <td>platinum doublet therapy</td>\n",
       "      <td>Control</td>\n",
       "      <td>0.036</td>\n",
       "      <td>0.010</td>\n",
       "      <td>1.763</td>\n",
       "      <td>1.751</td>\n",
       "    </tr>\n",
       "    <tr>\n",
       "      <th>20</th>\n",
       "      <td>3.40</td>\n",
       "      <td>1.95</td>\n",
       "      <td>[-0.04, 2.13]</td>\n",
       "      <td>NCT03866993</td>\n",
       "      <td>Carboplatin + paclitaxel</td>\n",
       "      <td>Control</td>\n",
       "      <td>0.029</td>\n",
       "      <td>0.008</td>\n",
       "      <td>1.712</td>\n",
       "      <td>1.698</td>\n",
       "    </tr>\n",
       "    <tr>\n",
       "      <th>21</th>\n",
       "      <td>2.00</td>\n",
       "      <td>1.62</td>\n",
       "      <td>[1.19, 1.64]</td>\n",
       "      <td>NCT02775435</td>\n",
       "      <td>Carboplatin + (nab-)paclitaxel</td>\n",
       "      <td>Control</td>\n",
       "      <td>0.021</td>\n",
       "      <td>0.009</td>\n",
       "      <td>1.761</td>\n",
       "      <td>1.756</td>\n",
       "    </tr>\n",
       "    <tr>\n",
       "      <th>22</th>\n",
       "      <td>1.60</td>\n",
       "      <td>1.86</td>\n",
       "      <td>[-0.57, 2.13]</td>\n",
       "      <td>NCT02775435</td>\n",
       "      <td>Carboplatin + (nab-)paclitaxel</td>\n",
       "      <td>Control</td>\n",
       "      <td>0.021</td>\n",
       "      <td>0.009</td>\n",
       "      <td>1.761</td>\n",
       "      <td>1.756</td>\n",
       "    </tr>\n",
       "    <tr>\n",
       "      <th>23</th>\n",
       "      <td>3.20</td>\n",
       "      <td>3.24</td>\n",
       "      <td>[1.35, 4.04]</td>\n",
       "      <td>NCT03728556</td>\n",
       "      <td>Placebo</td>\n",
       "      <td>Control</td>\n",
       "      <td>0.028</td>\n",
       "      <td>0.010</td>\n",
       "      <td>1.767</td>\n",
       "      <td>1.756</td>\n",
       "    </tr>\n",
       "  </tbody>\n",
       "</table>\n",
       "</div>"
      ],
      "text/plain": [
       "    real_ate  pred_ate       ate_ci_95     rct_name  \\\n",
       "0       2.70      2.69      [1.1, 3.3]  NCT01364012   \n",
       "1       4.90      8.24    [7.93, 8.56]  NCT01469000   \n",
       "2       0.10      1.18    [-0.06, 1.2]  NCT03515837   \n",
       "3       0.00      2.58     [1.93, 3.9]  NCT04129502   \n",
       "4       2.40      3.04     [2.28, 3.8]  NCT04194203   \n",
       "5       4.70      3.60     [3.47, 6.0]  NCT04538664   \n",
       "6       3.10      1.69    [0.79, 1.68]  NCT04988295   \n",
       "7       2.20      2.16    [1.57, 2.37]  NCT02142738   \n",
       "8      -1.70     -1.32  [-1.71, -0.82]  NCT02041533   \n",
       "9       2.40      2.29     [1.5, 2.81]  NCT02657434   \n",
       "10      1.50      1.59    [0.72, 1.68]  NCT02367781   \n",
       "11      4.50      4.36    [3.22, 5.81]  NCT03134872   \n",
       "12      0.60      0.23   [-0.68, 0.38]  NCT03629925   \n",
       "13      4.00      5.36    [4.75, 6.54]  NCT03117049   \n",
       "14      2.10      3.13    [2.95, 4.19]  NCT03663205   \n",
       "15      2.40      3.04     [2.27, 3.8]  NCT04194203   \n",
       "16      2.40      0.47   [-2.02, 0.88]  NCT03829332   \n",
       "17      2.60      6.26    [5.93, 7.01]  NCT03829319   \n",
       "18      2.10      1.98    [1.66, 2.58]  NCT03594747   \n",
       "19     -0.95     -0.41  [-1.52, -0.24]  NCT02477826   \n",
       "20      3.40      1.95   [-0.04, 2.13]  NCT03866993   \n",
       "21      2.00      1.62    [1.19, 1.64]  NCT02775435   \n",
       "22      1.60      1.86   [-0.57, 2.13]  NCT02775435   \n",
       "23      3.20      3.24    [1.35, 4.04]  NCT03728556   \n",
       "\n",
       "                                         intervention      Arm  training_rmse  \\\n",
       "0   placebo + platinum doublet chemo (carboplatin ...  Control          0.036   \n",
       "1                                           gefitinib  Control          0.049   \n",
       "2          placebo + pemtrexed + platinum-based chemo  Control          0.031   \n",
       "3                          platinum-based chemothrapy  Control          0.023   \n",
       "4        placebo + bevacizumab + platinum-based chemo  Control          0.049   \n",
       "5                      placebo + platinum-based chemo  Control          0.087   \n",
       "6   platinum-based chemothrapy (carboplatin + peme...  Control          0.065   \n",
       "7   platinum + pemetrexed or gemcitabine or paclit...  Control          0.040   \n",
       "8                 platinum-based doublet chemotherapy  Control          0.035   \n",
       "9          cisplatin or carboplatin + pemetrexed (PP)  Control          0.058   \n",
       "10                        carboplatin +nab-paclitaxel  Control          0.047   \n",
       "11                         carboplatin and pemetrexed  Control          0.031   \n",
       "12                             platinum + gemcitabine  Control          0.031   \n",
       "13              carboplatin+ paclitaxel + bevacizumab  Control          0.037   \n",
       "14                              platinum + pemetrexed  Control          0.058   \n",
       "15       placebo + bevacizumab + platinum-based chemo  Control          0.049   \n",
       "16                                     Pembrolizumab   Control          0.030   \n",
       "17           Pembrolizumab + carboplatin + pemetrexed  Control          0.005   \n",
       "18                           paclitaxel + carboplatin  Control          0.067   \n",
       "19                           platinum doublet therapy  Control          0.036   \n",
       "20                           Carboplatin + paclitaxel  Control          0.029   \n",
       "21                    Carboplatin + (nab-)paclitaxel   Control          0.021   \n",
       "22                    Carboplatin + (nab-)paclitaxel   Control          0.021   \n",
       "23                                            Placebo  Control          0.028   \n",
       "\n",
       "    training_mae  training_set_std  training_pred_std  \n",
       "0          0.009             1.770              1.759  \n",
       "1          0.016             1.476              1.447  \n",
       "2          0.009             1.761              1.749  \n",
       "3          0.009             1.626              1.619  \n",
       "4          0.014             1.793              1.779  \n",
       "5          0.024             1.768              1.738  \n",
       "6          0.015             1.712              1.693  \n",
       "7          0.013             1.761              1.742  \n",
       "8          0.013             1.768              1.759  \n",
       "9          0.020             1.754              1.727  \n",
       "10         0.017             1.761              1.742  \n",
       "11         0.011             1.770              1.756  \n",
       "12         0.010             1.744              1.734  \n",
       "13         0.011             1.729              1.716  \n",
       "14         0.020             1.749              1.723  \n",
       "15         0.014             1.793              1.779  \n",
       "16         0.011             1.712              1.699  \n",
       "17         0.002             1.635              1.633  \n",
       "18         0.023             1.761              1.732  \n",
       "19         0.010             1.763              1.751  \n",
       "20         0.008             1.712              1.698  \n",
       "21         0.009             1.761              1.756  \n",
       "22         0.009             1.761              1.756  \n",
       "23         0.010             1.767              1.756  "
      ]
     },
     "execution_count": 41,
     "metadata": {},
     "output_type": "execute_result"
    }
   ],
   "source": [
    "results_catboost_df[['real_ate', 'pred_ate', 'ate_ci_95', 'rct_name', 'intervention', 'Arm', 'training_rmse', 'training_mae', 'training_set_std', 'training_pred_std']]"
   ]
  },
  {
   "cell_type": "code",
   "execution_count": 42,
   "id": "2e4244e7",
   "metadata": {},
   "outputs": [
    {
     "data": {
      "application/vnd.plotly.v1+json": {
       "config": {
        "plotlyServerURL": "https://plot.ly"
       },
       "data": [
        {
         "hovertemplate": "<b>%{hovertext}</b><br><br>Arm=Control<br>Predicted ATE=%{x}<br>Real ATE=%{y}<extra></extra>",
         "hovertext": [
          "NCT01364012",
          "NCT01469000",
          "NCT03515837",
          "NCT04129502",
          "NCT04194203",
          "NCT04538664",
          "NCT04988295",
          "NCT02142738",
          "NCT02041533",
          "NCT02657434",
          "NCT02367781",
          "NCT03134872",
          "NCT03629925",
          "NCT03117049",
          "NCT03663205",
          "NCT04194203",
          "NCT03829332",
          "NCT03829319",
          "NCT03594747",
          "NCT02477826",
          "NCT03866993",
          "NCT02775435",
          "NCT02775435",
          "The KEYNOTE-407 China extension study (NCT03875092) was identical to the global KEYNOTE-407 study with the exception that it included only patients enrolled in mainland China after enrollment in the global study was completed.",
          "NCT03728556"
         ],
         "legendgroup": "Control",
         "marker": {
          "color": "#636efa",
          "symbol": "circle"
         },
         "mode": "markers",
         "name": "Control",
         "orientation": "v",
         "showlegend": true,
         "type": "scatter",
         "x": {
          "bdata": "16NwPQrXB0CF61G4HoUjQB+F61G4HuW/FK5H4XoUDEC4HoXrUbgKQMP1KFyPwhRAXI/C9Shc7z8K16NwPQr3P2ZmZmZmZgDAH4XrUbge9T+uR+F6FK7nPx+F61G4HhNASOF6FK5H6b/NzMzMzMwXQClcj8L1KAxAuB6F61G4CkDsUbgehevRPwAAAAAAABhAcT0K16Nw9T/D9Shcj8L5v3sUrkfhevQ/cT0K16Nw3T9xPQrXo3DdPwAAAAAAAPh/AAAAAAAABkA=",
          "dtype": "f8"
         },
         "xaxis": "x",
         "y": {
          "bdata": "mpmZmZmZBUCamZmZmZkTQJqZmZmZmbk/AAAAAAAAAAAzMzMzMzMDQM3MzMzMzBJAzczMzMzMCECamZmZmZkBQDMzMzMzM/u/MzMzMzMzA0AAAAAAAAD4PwAAAAAAABJAMzMzMzMz4z8AAAAAAAAQQM3MzMzMzABAMzMzMzMzA0AzMzMzMzMDQM3MzMzMzARAzczMzMzMAEBmZmZmZmbuvzMzMzMzMwtAAAAAAAAAAECamZmZmZn5PwAAAAAAAPh/mpmZmZmZCUA=",
          "dtype": "f8"
         },
         "yaxis": "y"
        },
        {
         "line": {
          "color": "red",
          "dash": "dash"
         },
         "mode": "lines",
         "name": "Ideal (y = x)",
         "type": "scatter",
         "x": [
          -2.05,
          9.76
         ],
         "y": [
          -2.05,
          9.76
         ]
        }
       ],
       "layout": {
        "legend": {
         "title": {
          "text": "Arm"
         },
         "tracegroupgap": 0
        },
        "template": {
         "data": {
          "bar": [
           {
            "error_x": {
             "color": "#2a3f5f"
            },
            "error_y": {
             "color": "#2a3f5f"
            },
            "marker": {
             "line": {
              "color": "#E5ECF6",
              "width": 0.5
             },
             "pattern": {
              "fillmode": "overlay",
              "size": 10,
              "solidity": 0.2
             }
            },
            "type": "bar"
           }
          ],
          "barpolar": [
           {
            "marker": {
             "line": {
              "color": "#E5ECF6",
              "width": 0.5
             },
             "pattern": {
              "fillmode": "overlay",
              "size": 10,
              "solidity": 0.2
             }
            },
            "type": "barpolar"
           }
          ],
          "carpet": [
           {
            "aaxis": {
             "endlinecolor": "#2a3f5f",
             "gridcolor": "white",
             "linecolor": "white",
             "minorgridcolor": "white",
             "startlinecolor": "#2a3f5f"
            },
            "baxis": {
             "endlinecolor": "#2a3f5f",
             "gridcolor": "white",
             "linecolor": "white",
             "minorgridcolor": "white",
             "startlinecolor": "#2a3f5f"
            },
            "type": "carpet"
           }
          ],
          "choropleth": [
           {
            "colorbar": {
             "outlinewidth": 0,
             "ticks": ""
            },
            "type": "choropleth"
           }
          ],
          "contour": [
           {
            "colorbar": {
             "outlinewidth": 0,
             "ticks": ""
            },
            "colorscale": [
             [
              0,
              "#0d0887"
             ],
             [
              0.1111111111111111,
              "#46039f"
             ],
             [
              0.2222222222222222,
              "#7201a8"
             ],
             [
              0.3333333333333333,
              "#9c179e"
             ],
             [
              0.4444444444444444,
              "#bd3786"
             ],
             [
              0.5555555555555556,
              "#d8576b"
             ],
             [
              0.6666666666666666,
              "#ed7953"
             ],
             [
              0.7777777777777778,
              "#fb9f3a"
             ],
             [
              0.8888888888888888,
              "#fdca26"
             ],
             [
              1,
              "#f0f921"
             ]
            ],
            "type": "contour"
           }
          ],
          "contourcarpet": [
           {
            "colorbar": {
             "outlinewidth": 0,
             "ticks": ""
            },
            "type": "contourcarpet"
           }
          ],
          "heatmap": [
           {
            "colorbar": {
             "outlinewidth": 0,
             "ticks": ""
            },
            "colorscale": [
             [
              0,
              "#0d0887"
             ],
             [
              0.1111111111111111,
              "#46039f"
             ],
             [
              0.2222222222222222,
              "#7201a8"
             ],
             [
              0.3333333333333333,
              "#9c179e"
             ],
             [
              0.4444444444444444,
              "#bd3786"
             ],
             [
              0.5555555555555556,
              "#d8576b"
             ],
             [
              0.6666666666666666,
              "#ed7953"
             ],
             [
              0.7777777777777778,
              "#fb9f3a"
             ],
             [
              0.8888888888888888,
              "#fdca26"
             ],
             [
              1,
              "#f0f921"
             ]
            ],
            "type": "heatmap"
           }
          ],
          "histogram": [
           {
            "marker": {
             "pattern": {
              "fillmode": "overlay",
              "size": 10,
              "solidity": 0.2
             }
            },
            "type": "histogram"
           }
          ],
          "histogram2d": [
           {
            "colorbar": {
             "outlinewidth": 0,
             "ticks": ""
            },
            "colorscale": [
             [
              0,
              "#0d0887"
             ],
             [
              0.1111111111111111,
              "#46039f"
             ],
             [
              0.2222222222222222,
              "#7201a8"
             ],
             [
              0.3333333333333333,
              "#9c179e"
             ],
             [
              0.4444444444444444,
              "#bd3786"
             ],
             [
              0.5555555555555556,
              "#d8576b"
             ],
             [
              0.6666666666666666,
              "#ed7953"
             ],
             [
              0.7777777777777778,
              "#fb9f3a"
             ],
             [
              0.8888888888888888,
              "#fdca26"
             ],
             [
              1,
              "#f0f921"
             ]
            ],
            "type": "histogram2d"
           }
          ],
          "histogram2dcontour": [
           {
            "colorbar": {
             "outlinewidth": 0,
             "ticks": ""
            },
            "colorscale": [
             [
              0,
              "#0d0887"
             ],
             [
              0.1111111111111111,
              "#46039f"
             ],
             [
              0.2222222222222222,
              "#7201a8"
             ],
             [
              0.3333333333333333,
              "#9c179e"
             ],
             [
              0.4444444444444444,
              "#bd3786"
             ],
             [
              0.5555555555555556,
              "#d8576b"
             ],
             [
              0.6666666666666666,
              "#ed7953"
             ],
             [
              0.7777777777777778,
              "#fb9f3a"
             ],
             [
              0.8888888888888888,
              "#fdca26"
             ],
             [
              1,
              "#f0f921"
             ]
            ],
            "type": "histogram2dcontour"
           }
          ],
          "mesh3d": [
           {
            "colorbar": {
             "outlinewidth": 0,
             "ticks": ""
            },
            "type": "mesh3d"
           }
          ],
          "parcoords": [
           {
            "line": {
             "colorbar": {
              "outlinewidth": 0,
              "ticks": ""
             }
            },
            "type": "parcoords"
           }
          ],
          "pie": [
           {
            "automargin": true,
            "type": "pie"
           }
          ],
          "scatter": [
           {
            "fillpattern": {
             "fillmode": "overlay",
             "size": 10,
             "solidity": 0.2
            },
            "type": "scatter"
           }
          ],
          "scatter3d": [
           {
            "line": {
             "colorbar": {
              "outlinewidth": 0,
              "ticks": ""
             }
            },
            "marker": {
             "colorbar": {
              "outlinewidth": 0,
              "ticks": ""
             }
            },
            "type": "scatter3d"
           }
          ],
          "scattercarpet": [
           {
            "marker": {
             "colorbar": {
              "outlinewidth": 0,
              "ticks": ""
             }
            },
            "type": "scattercarpet"
           }
          ],
          "scattergeo": [
           {
            "marker": {
             "colorbar": {
              "outlinewidth": 0,
              "ticks": ""
             }
            },
            "type": "scattergeo"
           }
          ],
          "scattergl": [
           {
            "marker": {
             "colorbar": {
              "outlinewidth": 0,
              "ticks": ""
             }
            },
            "type": "scattergl"
           }
          ],
          "scattermap": [
           {
            "marker": {
             "colorbar": {
              "outlinewidth": 0,
              "ticks": ""
             }
            },
            "type": "scattermap"
           }
          ],
          "scattermapbox": [
           {
            "marker": {
             "colorbar": {
              "outlinewidth": 0,
              "ticks": ""
             }
            },
            "type": "scattermapbox"
           }
          ],
          "scatterpolar": [
           {
            "marker": {
             "colorbar": {
              "outlinewidth": 0,
              "ticks": ""
             }
            },
            "type": "scatterpolar"
           }
          ],
          "scatterpolargl": [
           {
            "marker": {
             "colorbar": {
              "outlinewidth": 0,
              "ticks": ""
             }
            },
            "type": "scatterpolargl"
           }
          ],
          "scatterternary": [
           {
            "marker": {
             "colorbar": {
              "outlinewidth": 0,
              "ticks": ""
             }
            },
            "type": "scatterternary"
           }
          ],
          "surface": [
           {
            "colorbar": {
             "outlinewidth": 0,
             "ticks": ""
            },
            "colorscale": [
             [
              0,
              "#0d0887"
             ],
             [
              0.1111111111111111,
              "#46039f"
             ],
             [
              0.2222222222222222,
              "#7201a8"
             ],
             [
              0.3333333333333333,
              "#9c179e"
             ],
             [
              0.4444444444444444,
              "#bd3786"
             ],
             [
              0.5555555555555556,
              "#d8576b"
             ],
             [
              0.6666666666666666,
              "#ed7953"
             ],
             [
              0.7777777777777778,
              "#fb9f3a"
             ],
             [
              0.8888888888888888,
              "#fdca26"
             ],
             [
              1,
              "#f0f921"
             ]
            ],
            "type": "surface"
           }
          ],
          "table": [
           {
            "cells": {
             "fill": {
              "color": "#EBF0F8"
             },
             "line": {
              "color": "white"
             }
            },
            "header": {
             "fill": {
              "color": "#C8D4E3"
             },
             "line": {
              "color": "white"
             }
            },
            "type": "table"
           }
          ]
         },
         "layout": {
          "annotationdefaults": {
           "arrowcolor": "#2a3f5f",
           "arrowhead": 0,
           "arrowwidth": 1
          },
          "autotypenumbers": "strict",
          "coloraxis": {
           "colorbar": {
            "outlinewidth": 0,
            "ticks": ""
           }
          },
          "colorscale": {
           "diverging": [
            [
             0,
             "#8e0152"
            ],
            [
             0.1,
             "#c51b7d"
            ],
            [
             0.2,
             "#de77ae"
            ],
            [
             0.3,
             "#f1b6da"
            ],
            [
             0.4,
             "#fde0ef"
            ],
            [
             0.5,
             "#f7f7f7"
            ],
            [
             0.6,
             "#e6f5d0"
            ],
            [
             0.7,
             "#b8e186"
            ],
            [
             0.8,
             "#7fbc41"
            ],
            [
             0.9,
             "#4d9221"
            ],
            [
             1,
             "#276419"
            ]
           ],
           "sequential": [
            [
             0,
             "#0d0887"
            ],
            [
             0.1111111111111111,
             "#46039f"
            ],
            [
             0.2222222222222222,
             "#7201a8"
            ],
            [
             0.3333333333333333,
             "#9c179e"
            ],
            [
             0.4444444444444444,
             "#bd3786"
            ],
            [
             0.5555555555555556,
             "#d8576b"
            ],
            [
             0.6666666666666666,
             "#ed7953"
            ],
            [
             0.7777777777777778,
             "#fb9f3a"
            ],
            [
             0.8888888888888888,
             "#fdca26"
            ],
            [
             1,
             "#f0f921"
            ]
           ],
           "sequentialminus": [
            [
             0,
             "#0d0887"
            ],
            [
             0.1111111111111111,
             "#46039f"
            ],
            [
             0.2222222222222222,
             "#7201a8"
            ],
            [
             0.3333333333333333,
             "#9c179e"
            ],
            [
             0.4444444444444444,
             "#bd3786"
            ],
            [
             0.5555555555555556,
             "#d8576b"
            ],
            [
             0.6666666666666666,
             "#ed7953"
            ],
            [
             0.7777777777777778,
             "#fb9f3a"
            ],
            [
             0.8888888888888888,
             "#fdca26"
            ],
            [
             1,
             "#f0f921"
            ]
           ]
          },
          "colorway": [
           "#636efa",
           "#EF553B",
           "#00cc96",
           "#ab63fa",
           "#FFA15A",
           "#19d3f3",
           "#FF6692",
           "#B6E880",
           "#FF97FF",
           "#FECB52"
          ],
          "font": {
           "color": "#2a3f5f"
          },
          "geo": {
           "bgcolor": "white",
           "lakecolor": "white",
           "landcolor": "#E5ECF6",
           "showlakes": true,
           "showland": true,
           "subunitcolor": "white"
          },
          "hoverlabel": {
           "align": "left"
          },
          "hovermode": "closest",
          "mapbox": {
           "style": "light"
          },
          "paper_bgcolor": "white",
          "plot_bgcolor": "#E5ECF6",
          "polar": {
           "angularaxis": {
            "gridcolor": "white",
            "linecolor": "white",
            "ticks": ""
           },
           "bgcolor": "#E5ECF6",
           "radialaxis": {
            "gridcolor": "white",
            "linecolor": "white",
            "ticks": ""
           }
          },
          "scene": {
           "xaxis": {
            "backgroundcolor": "#E5ECF6",
            "gridcolor": "white",
            "gridwidth": 2,
            "linecolor": "white",
            "showbackground": true,
            "ticks": "",
            "zerolinecolor": "white"
           },
           "yaxis": {
            "backgroundcolor": "#E5ECF6",
            "gridcolor": "white",
            "gridwidth": 2,
            "linecolor": "white",
            "showbackground": true,
            "ticks": "",
            "zerolinecolor": "white"
           },
           "zaxis": {
            "backgroundcolor": "#E5ECF6",
            "gridcolor": "white",
            "gridwidth": 2,
            "linecolor": "white",
            "showbackground": true,
            "ticks": "",
            "zerolinecolor": "white"
           }
          },
          "shapedefaults": {
           "line": {
            "color": "#2a3f5f"
           }
          },
          "ternary": {
           "aaxis": {
            "gridcolor": "white",
            "linecolor": "white",
            "ticks": ""
           },
           "baxis": {
            "gridcolor": "white",
            "linecolor": "white",
            "ticks": ""
           },
           "bgcolor": "#E5ECF6",
           "caxis": {
            "gridcolor": "white",
            "linecolor": "white",
            "ticks": ""
           }
          },
          "title": {
           "x": 0.05
          },
          "xaxis": {
           "automargin": true,
           "gridcolor": "white",
           "linecolor": "white",
           "ticks": "",
           "title": {
            "standoff": 15
           },
           "zerolinecolor": "white",
           "zerolinewidth": 2
          },
          "yaxis": {
           "automargin": true,
           "gridcolor": "white",
           "linecolor": "white",
           "ticks": "",
           "title": {
            "standoff": 15
           },
           "zerolinecolor": "white",
           "zerolinewidth": 2
          }
         }
        },
        "title": {
         "text": "Real ATE vs Predicted ATE"
        },
        "xaxis": {
         "anchor": "y",
         "domain": [
          0,
          1
         ],
         "title": {
          "text": "Predicted ATE"
         }
        },
        "yaxis": {
         "anchor": "x",
         "domain": [
          0,
          1
         ],
         "title": {
          "text": "Real ATE"
         }
        }
       }
      }
     },
     "metadata": {},
     "output_type": "display_data"
    }
   ],
   "source": [
    "import plotly.graph_objects as go\n",
    "\n",
    "fig = px.scatter(\n",
    "    results_average_df,\n",
    "    x='pred_ate',\n",
    "    y='real_ate',\n",
    "    color='Arm',  # Optional: color by group\n",
    "    hover_name='rct_name',\n",
    "    title='Real ATE vs Predicted ATE',\n",
    "    labels={'real_ate': 'Real ATE', 'pred_ate': 'Predicted ATE'}\n",
    ")\n",
    "\n",
    "# Add y=x line\n",
    "min_ate = min(results_average_df['real_ate'].min(), results_average_df['pred_ate'].min())\n",
    "max_ate = max(results_average_df['real_ate'].max(), results_average_df['pred_ate'].max())\n",
    "fig.add_trace(go.Scatter(\n",
    "    x=[min_ate, max_ate],\n",
    "    y=[min_ate, max_ate],\n",
    "    mode='lines',\n",
    "    line=dict(color='red', dash='dash'),\n",
    "    name='Ideal (y = x)'\n",
    "))\n",
    "\n",
    "#fig.update_layout(width=700, height=500)\n",
    "fig.show()"
   ]
  },
  {
   "cell_type": "code",
   "execution_count": 43,
   "id": "ab0ab8a3",
   "metadata": {},
   "outputs": [
    {
     "data": {
      "application/vnd.plotly.v1+json": {
       "config": {
        "plotlyServerURL": "https://plot.ly"
       },
       "data": [
        {
         "hovertemplate": "<b>%{hovertext}</b><br><br>Arm=Control<br>Predicted ATE=%{x}<br>Real ATE=%{y}<extra></extra>",
         "hovertext": [
          "NCT01364012",
          "NCT01469000",
          "NCT03515837",
          "NCT04129502",
          "NCT04194203",
          "NCT04538664",
          "NCT04988295",
          "NCT02142738",
          "NCT02041533",
          "NCT02657434",
          "NCT02367781",
          "NCT03134872",
          "NCT03629925",
          "NCT03117049",
          "NCT03663205",
          "NCT04194203",
          "NCT03829332",
          "NCT03829319",
          "NCT03594747",
          "NCT02477826",
          "NCT03866993",
          "NCT02775435",
          "NCT02775435",
          "NCT03728556"
         ],
         "legendgroup": "Control",
         "marker": {
          "color": "#636efa",
          "symbol": "circle"
         },
         "mode": "markers",
         "name": "Control",
         "orientation": "v",
         "showlegend": true,
         "type": "scatter",
         "x": {
          "bdata": "7FG4HoXr+T89CtejcD0VQClcj8L1KNy/zczMzMzMDEDNzMzMzMwOQEjhehSuRw1ArkfhehSu1z8UrkfhehQEQMP1KFyPwtW/MzMzMzMzAUB7FK5H4XqUP3E9CtejcA9ArkfhehSu+z+4HoXrUbgUQEjhehSuRwlAzczMzMzMDkD2KFyPwvXwP1K4HoXrURRAuB6F61G47j/sUbgehevhv2ZmZmZmZvo/9ihcj8L1AECamZmZmZn5Pz0K16NwPQZA",
          "dtype": "f8"
         },
         "xaxis": "x",
         "y": {
          "bdata": "mpmZmZmZBUCamZmZmZkTQJqZmZmZmbk/AAAAAAAAAAAzMzMzMzMDQM3MzMzMzBJAzczMzMzMCECamZmZmZkBQDMzMzMzM/u/MzMzMzMzA0AAAAAAAAD4PwAAAAAAABJAMzMzMzMz4z8AAAAAAAAQQM3MzMzMzABAMzMzMzMzA0AzMzMzMzMDQM3MzMzMzARAzczMzMzMAEBmZmZmZmbuvzMzMzMzMwtAAAAAAAAAAECamZmZmZn5P5qZmZmZmQlA",
          "dtype": "f8"
         },
         "yaxis": "y"
        },
        {
         "line": {
          "color": "red",
          "dash": "dash"
         },
         "mode": "lines",
         "name": "Ideal (y = x)",
         "type": "scatter",
         "x": [
          -1.7,
          5.31
         ],
         "y": [
          -1.7,
          5.31
         ]
        }
       ],
       "layout": {
        "legend": {
         "title": {
          "text": "Arm"
         },
         "tracegroupgap": 0
        },
        "template": {
         "data": {
          "bar": [
           {
            "error_x": {
             "color": "#2a3f5f"
            },
            "error_y": {
             "color": "#2a3f5f"
            },
            "marker": {
             "line": {
              "color": "#E5ECF6",
              "width": 0.5
             },
             "pattern": {
              "fillmode": "overlay",
              "size": 10,
              "solidity": 0.2
             }
            },
            "type": "bar"
           }
          ],
          "barpolar": [
           {
            "marker": {
             "line": {
              "color": "#E5ECF6",
              "width": 0.5
             },
             "pattern": {
              "fillmode": "overlay",
              "size": 10,
              "solidity": 0.2
             }
            },
            "type": "barpolar"
           }
          ],
          "carpet": [
           {
            "aaxis": {
             "endlinecolor": "#2a3f5f",
             "gridcolor": "white",
             "linecolor": "white",
             "minorgridcolor": "white",
             "startlinecolor": "#2a3f5f"
            },
            "baxis": {
             "endlinecolor": "#2a3f5f",
             "gridcolor": "white",
             "linecolor": "white",
             "minorgridcolor": "white",
             "startlinecolor": "#2a3f5f"
            },
            "type": "carpet"
           }
          ],
          "choropleth": [
           {
            "colorbar": {
             "outlinewidth": 0,
             "ticks": ""
            },
            "type": "choropleth"
           }
          ],
          "contour": [
           {
            "colorbar": {
             "outlinewidth": 0,
             "ticks": ""
            },
            "colorscale": [
             [
              0,
              "#0d0887"
             ],
             [
              0.1111111111111111,
              "#46039f"
             ],
             [
              0.2222222222222222,
              "#7201a8"
             ],
             [
              0.3333333333333333,
              "#9c179e"
             ],
             [
              0.4444444444444444,
              "#bd3786"
             ],
             [
              0.5555555555555556,
              "#d8576b"
             ],
             [
              0.6666666666666666,
              "#ed7953"
             ],
             [
              0.7777777777777778,
              "#fb9f3a"
             ],
             [
              0.8888888888888888,
              "#fdca26"
             ],
             [
              1,
              "#f0f921"
             ]
            ],
            "type": "contour"
           }
          ],
          "contourcarpet": [
           {
            "colorbar": {
             "outlinewidth": 0,
             "ticks": ""
            },
            "type": "contourcarpet"
           }
          ],
          "heatmap": [
           {
            "colorbar": {
             "outlinewidth": 0,
             "ticks": ""
            },
            "colorscale": [
             [
              0,
              "#0d0887"
             ],
             [
              0.1111111111111111,
              "#46039f"
             ],
             [
              0.2222222222222222,
              "#7201a8"
             ],
             [
              0.3333333333333333,
              "#9c179e"
             ],
             [
              0.4444444444444444,
              "#bd3786"
             ],
             [
              0.5555555555555556,
              "#d8576b"
             ],
             [
              0.6666666666666666,
              "#ed7953"
             ],
             [
              0.7777777777777778,
              "#fb9f3a"
             ],
             [
              0.8888888888888888,
              "#fdca26"
             ],
             [
              1,
              "#f0f921"
             ]
            ],
            "type": "heatmap"
           }
          ],
          "histogram": [
           {
            "marker": {
             "pattern": {
              "fillmode": "overlay",
              "size": 10,
              "solidity": 0.2
             }
            },
            "type": "histogram"
           }
          ],
          "histogram2d": [
           {
            "colorbar": {
             "outlinewidth": 0,
             "ticks": ""
            },
            "colorscale": [
             [
              0,
              "#0d0887"
             ],
             [
              0.1111111111111111,
              "#46039f"
             ],
             [
              0.2222222222222222,
              "#7201a8"
             ],
             [
              0.3333333333333333,
              "#9c179e"
             ],
             [
              0.4444444444444444,
              "#bd3786"
             ],
             [
              0.5555555555555556,
              "#d8576b"
             ],
             [
              0.6666666666666666,
              "#ed7953"
             ],
             [
              0.7777777777777778,
              "#fb9f3a"
             ],
             [
              0.8888888888888888,
              "#fdca26"
             ],
             [
              1,
              "#f0f921"
             ]
            ],
            "type": "histogram2d"
           }
          ],
          "histogram2dcontour": [
           {
            "colorbar": {
             "outlinewidth": 0,
             "ticks": ""
            },
            "colorscale": [
             [
              0,
              "#0d0887"
             ],
             [
              0.1111111111111111,
              "#46039f"
             ],
             [
              0.2222222222222222,
              "#7201a8"
             ],
             [
              0.3333333333333333,
              "#9c179e"
             ],
             [
              0.4444444444444444,
              "#bd3786"
             ],
             [
              0.5555555555555556,
              "#d8576b"
             ],
             [
              0.6666666666666666,
              "#ed7953"
             ],
             [
              0.7777777777777778,
              "#fb9f3a"
             ],
             [
              0.8888888888888888,
              "#fdca26"
             ],
             [
              1,
              "#f0f921"
             ]
            ],
            "type": "histogram2dcontour"
           }
          ],
          "mesh3d": [
           {
            "colorbar": {
             "outlinewidth": 0,
             "ticks": ""
            },
            "type": "mesh3d"
           }
          ],
          "parcoords": [
           {
            "line": {
             "colorbar": {
              "outlinewidth": 0,
              "ticks": ""
             }
            },
            "type": "parcoords"
           }
          ],
          "pie": [
           {
            "automargin": true,
            "type": "pie"
           }
          ],
          "scatter": [
           {
            "fillpattern": {
             "fillmode": "overlay",
             "size": 10,
             "solidity": 0.2
            },
            "type": "scatter"
           }
          ],
          "scatter3d": [
           {
            "line": {
             "colorbar": {
              "outlinewidth": 0,
              "ticks": ""
             }
            },
            "marker": {
             "colorbar": {
              "outlinewidth": 0,
              "ticks": ""
             }
            },
            "type": "scatter3d"
           }
          ],
          "scattercarpet": [
           {
            "marker": {
             "colorbar": {
              "outlinewidth": 0,
              "ticks": ""
             }
            },
            "type": "scattercarpet"
           }
          ],
          "scattergeo": [
           {
            "marker": {
             "colorbar": {
              "outlinewidth": 0,
              "ticks": ""
             }
            },
            "type": "scattergeo"
           }
          ],
          "scattergl": [
           {
            "marker": {
             "colorbar": {
              "outlinewidth": 0,
              "ticks": ""
             }
            },
            "type": "scattergl"
           }
          ],
          "scattermap": [
           {
            "marker": {
             "colorbar": {
              "outlinewidth": 0,
              "ticks": ""
             }
            },
            "type": "scattermap"
           }
          ],
          "scattermapbox": [
           {
            "marker": {
             "colorbar": {
              "outlinewidth": 0,
              "ticks": ""
             }
            },
            "type": "scattermapbox"
           }
          ],
          "scatterpolar": [
           {
            "marker": {
             "colorbar": {
              "outlinewidth": 0,
              "ticks": ""
             }
            },
            "type": "scatterpolar"
           }
          ],
          "scatterpolargl": [
           {
            "marker": {
             "colorbar": {
              "outlinewidth": 0,
              "ticks": ""
             }
            },
            "type": "scatterpolargl"
           }
          ],
          "scatterternary": [
           {
            "marker": {
             "colorbar": {
              "outlinewidth": 0,
              "ticks": ""
             }
            },
            "type": "scatterternary"
           }
          ],
          "surface": [
           {
            "colorbar": {
             "outlinewidth": 0,
             "ticks": ""
            },
            "colorscale": [
             [
              0,
              "#0d0887"
             ],
             [
              0.1111111111111111,
              "#46039f"
             ],
             [
              0.2222222222222222,
              "#7201a8"
             ],
             [
              0.3333333333333333,
              "#9c179e"
             ],
             [
              0.4444444444444444,
              "#bd3786"
             ],
             [
              0.5555555555555556,
              "#d8576b"
             ],
             [
              0.6666666666666666,
              "#ed7953"
             ],
             [
              0.7777777777777778,
              "#fb9f3a"
             ],
             [
              0.8888888888888888,
              "#fdca26"
             ],
             [
              1,
              "#f0f921"
             ]
            ],
            "type": "surface"
           }
          ],
          "table": [
           {
            "cells": {
             "fill": {
              "color": "#EBF0F8"
             },
             "line": {
              "color": "white"
             }
            },
            "header": {
             "fill": {
              "color": "#C8D4E3"
             },
             "line": {
              "color": "white"
             }
            },
            "type": "table"
           }
          ]
         },
         "layout": {
          "annotationdefaults": {
           "arrowcolor": "#2a3f5f",
           "arrowhead": 0,
           "arrowwidth": 1
          },
          "autotypenumbers": "strict",
          "coloraxis": {
           "colorbar": {
            "outlinewidth": 0,
            "ticks": ""
           }
          },
          "colorscale": {
           "diverging": [
            [
             0,
             "#8e0152"
            ],
            [
             0.1,
             "#c51b7d"
            ],
            [
             0.2,
             "#de77ae"
            ],
            [
             0.3,
             "#f1b6da"
            ],
            [
             0.4,
             "#fde0ef"
            ],
            [
             0.5,
             "#f7f7f7"
            ],
            [
             0.6,
             "#e6f5d0"
            ],
            [
             0.7,
             "#b8e186"
            ],
            [
             0.8,
             "#7fbc41"
            ],
            [
             0.9,
             "#4d9221"
            ],
            [
             1,
             "#276419"
            ]
           ],
           "sequential": [
            [
             0,
             "#0d0887"
            ],
            [
             0.1111111111111111,
             "#46039f"
            ],
            [
             0.2222222222222222,
             "#7201a8"
            ],
            [
             0.3333333333333333,
             "#9c179e"
            ],
            [
             0.4444444444444444,
             "#bd3786"
            ],
            [
             0.5555555555555556,
             "#d8576b"
            ],
            [
             0.6666666666666666,
             "#ed7953"
            ],
            [
             0.7777777777777778,
             "#fb9f3a"
            ],
            [
             0.8888888888888888,
             "#fdca26"
            ],
            [
             1,
             "#f0f921"
            ]
           ],
           "sequentialminus": [
            [
             0,
             "#0d0887"
            ],
            [
             0.1111111111111111,
             "#46039f"
            ],
            [
             0.2222222222222222,
             "#7201a8"
            ],
            [
             0.3333333333333333,
             "#9c179e"
            ],
            [
             0.4444444444444444,
             "#bd3786"
            ],
            [
             0.5555555555555556,
             "#d8576b"
            ],
            [
             0.6666666666666666,
             "#ed7953"
            ],
            [
             0.7777777777777778,
             "#fb9f3a"
            ],
            [
             0.8888888888888888,
             "#fdca26"
            ],
            [
             1,
             "#f0f921"
            ]
           ]
          },
          "colorway": [
           "#636efa",
           "#EF553B",
           "#00cc96",
           "#ab63fa",
           "#FFA15A",
           "#19d3f3",
           "#FF6692",
           "#B6E880",
           "#FF97FF",
           "#FECB52"
          ],
          "font": {
           "color": "#2a3f5f"
          },
          "geo": {
           "bgcolor": "white",
           "lakecolor": "white",
           "landcolor": "#E5ECF6",
           "showlakes": true,
           "showland": true,
           "subunitcolor": "white"
          },
          "hoverlabel": {
           "align": "left"
          },
          "hovermode": "closest",
          "mapbox": {
           "style": "light"
          },
          "paper_bgcolor": "white",
          "plot_bgcolor": "#E5ECF6",
          "polar": {
           "angularaxis": {
            "gridcolor": "white",
            "linecolor": "white",
            "ticks": ""
           },
           "bgcolor": "#E5ECF6",
           "radialaxis": {
            "gridcolor": "white",
            "linecolor": "white",
            "ticks": ""
           }
          },
          "scene": {
           "xaxis": {
            "backgroundcolor": "#E5ECF6",
            "gridcolor": "white",
            "gridwidth": 2,
            "linecolor": "white",
            "showbackground": true,
            "ticks": "",
            "zerolinecolor": "white"
           },
           "yaxis": {
            "backgroundcolor": "#E5ECF6",
            "gridcolor": "white",
            "gridwidth": 2,
            "linecolor": "white",
            "showbackground": true,
            "ticks": "",
            "zerolinecolor": "white"
           },
           "zaxis": {
            "backgroundcolor": "#E5ECF6",
            "gridcolor": "white",
            "gridwidth": 2,
            "linecolor": "white",
            "showbackground": true,
            "ticks": "",
            "zerolinecolor": "white"
           }
          },
          "shapedefaults": {
           "line": {
            "color": "#2a3f5f"
           }
          },
          "ternary": {
           "aaxis": {
            "gridcolor": "white",
            "linecolor": "white",
            "ticks": ""
           },
           "baxis": {
            "gridcolor": "white",
            "linecolor": "white",
            "ticks": ""
           },
           "bgcolor": "#E5ECF6",
           "caxis": {
            "gridcolor": "white",
            "linecolor": "white",
            "ticks": ""
           }
          },
          "title": {
           "x": 0.05
          },
          "xaxis": {
           "automargin": true,
           "gridcolor": "white",
           "linecolor": "white",
           "ticks": "",
           "title": {
            "standoff": 15
           },
           "zerolinecolor": "white",
           "zerolinewidth": 2
          },
          "yaxis": {
           "automargin": true,
           "gridcolor": "white",
           "linecolor": "white",
           "ticks": "",
           "title": {
            "standoff": 15
           },
           "zerolinecolor": "white",
           "zerolinewidth": 2
          }
         }
        },
        "title": {
         "text": "Real ATE vs Predicted ATE"
        },
        "xaxis": {
         "anchor": "y",
         "domain": [
          0,
          1
         ],
         "title": {
          "text": "Predicted ATE"
         }
        },
        "yaxis": {
         "anchor": "x",
         "domain": [
          0,
          1
         ],
         "title": {
          "text": "Real ATE"
         }
        }
       }
      }
     },
     "metadata": {},
     "output_type": "display_data"
    }
   ],
   "source": [
    "\n",
    "fig = px.scatter(\n",
    "    results_ml_df,\n",
    "    x='pred_ate',\n",
    "    y='real_ate',\n",
    "    color='Arm',  # Optional: color by group\n",
    "    hover_name='rct_name',\n",
    "    title='Real ATE vs Predicted ATE',\n",
    "    labels={'real_ate': 'Real ATE', 'pred_ate': 'Predicted ATE'}\n",
    ")\n",
    "\n",
    "# Add y=x line\n",
    "min_ate = min(results_ml_df['real_ate'].min(), results_ml_df['pred_ate'].min())\n",
    "max_ate = max(results_ml_df['real_ate'].max(), results_ml_df['pred_ate'].max())\n",
    "fig.add_trace(go.Scatter(\n",
    "    x=[min_ate, max_ate],\n",
    "    y=[min_ate, max_ate],\n",
    "    mode='lines',\n",
    "    line=dict(color='red', dash='dash'),\n",
    "    name='Ideal (y = x)'\n",
    "))\n",
    "\n",
    "#fig.update_layout(width=700, height=500)\n",
    "fig.show()"
   ]
  },
  {
   "cell_type": "code",
   "execution_count": 44,
   "id": "b53abaa7",
   "metadata": {},
   "outputs": [
    {
     "data": {
      "application/vnd.plotly.v1+json": {
       "config": {
        "plotlyServerURL": "https://plot.ly"
       },
       "data": [
        {
         "hovertemplate": "<b>%{hovertext}</b><br><br>Arm=Control<br>Predicted ATE=%{x}<br>Real ATE=%{y}<extra></extra>",
         "hovertext": [
          "NCT01364012",
          "NCT01469000",
          "NCT03515837",
          "NCT04129502",
          "NCT04194203",
          "NCT04538664",
          "NCT04988295",
          "NCT02142738",
          "NCT02041533",
          "NCT02657434",
          "NCT02367781",
          "NCT03134872",
          "NCT03629925",
          "NCT03117049",
          "NCT03663205",
          "NCT04194203",
          "NCT03829332",
          "NCT03829319",
          "NCT03594747",
          "NCT02477826",
          "NCT03866993",
          "NCT02775435",
          "NCT02775435",
          "NCT03728556"
         ],
         "legendgroup": "Control",
         "marker": {
          "color": "#636efa",
          "symbol": "circle"
         },
         "mode": "markers",
         "name": "Control",
         "orientation": "v",
         "showlegend": true,
         "type": "scatter",
         "x": {
          "bdata": "hetRuB6FBUB7FK5H4XogQOF6FK5H4fI/pHA9CtejBEBSuB6F61EIQM3MzMzMzAxACtejcD0K+z9I4XoUrkcBQB+F61G4HvW/UrgehetRAkBxPQrXo3D5P3E9CtejcBFAcT0K16NwzT9xPQrXo3AVQArXo3A9CglAUrgehetRCEAUrkfhehTePwrXo3A9ChlArkfhehSu/z89CtejcD3avzMzMzMzM/8/7FG4HoXr+T/D9Shcj8L9P+xRuB6F6wlA",
          "dtype": "f8"
         },
         "xaxis": "x",
         "y": {
          "bdata": "mpmZmZmZBUCamZmZmZkTQJqZmZmZmbk/AAAAAAAAAAAzMzMzMzMDQM3MzMzMzBJAzczMzMzMCECamZmZmZkBQDMzMzMzM/u/MzMzMzMzA0AAAAAAAAD4PwAAAAAAABJAMzMzMzMz4z8AAAAAAAAQQM3MzMzMzABAMzMzMzMzA0AzMzMzMzMDQM3MzMzMzARAzczMzMzMAEBmZmZmZmbuvzMzMzMzMwtAAAAAAAAAAECamZmZmZn5P5qZmZmZmQlA",
          "dtype": "f8"
         },
         "yaxis": "y"
        },
        {
         "line": {
          "color": "red",
          "dash": "dash"
         },
         "mode": "lines",
         "name": "Ideal (y = x)",
         "type": "scatter",
         "x": [
          -1.7,
          8.24
         ],
         "y": [
          -1.7,
          8.24
         ]
        }
       ],
       "layout": {
        "legend": {
         "title": {
          "text": "Arm"
         },
         "tracegroupgap": 0
        },
        "template": {
         "data": {
          "bar": [
           {
            "error_x": {
             "color": "#2a3f5f"
            },
            "error_y": {
             "color": "#2a3f5f"
            },
            "marker": {
             "line": {
              "color": "#E5ECF6",
              "width": 0.5
             },
             "pattern": {
              "fillmode": "overlay",
              "size": 10,
              "solidity": 0.2
             }
            },
            "type": "bar"
           }
          ],
          "barpolar": [
           {
            "marker": {
             "line": {
              "color": "#E5ECF6",
              "width": 0.5
             },
             "pattern": {
              "fillmode": "overlay",
              "size": 10,
              "solidity": 0.2
             }
            },
            "type": "barpolar"
           }
          ],
          "carpet": [
           {
            "aaxis": {
             "endlinecolor": "#2a3f5f",
             "gridcolor": "white",
             "linecolor": "white",
             "minorgridcolor": "white",
             "startlinecolor": "#2a3f5f"
            },
            "baxis": {
             "endlinecolor": "#2a3f5f",
             "gridcolor": "white",
             "linecolor": "white",
             "minorgridcolor": "white",
             "startlinecolor": "#2a3f5f"
            },
            "type": "carpet"
           }
          ],
          "choropleth": [
           {
            "colorbar": {
             "outlinewidth": 0,
             "ticks": ""
            },
            "type": "choropleth"
           }
          ],
          "contour": [
           {
            "colorbar": {
             "outlinewidth": 0,
             "ticks": ""
            },
            "colorscale": [
             [
              0,
              "#0d0887"
             ],
             [
              0.1111111111111111,
              "#46039f"
             ],
             [
              0.2222222222222222,
              "#7201a8"
             ],
             [
              0.3333333333333333,
              "#9c179e"
             ],
             [
              0.4444444444444444,
              "#bd3786"
             ],
             [
              0.5555555555555556,
              "#d8576b"
             ],
             [
              0.6666666666666666,
              "#ed7953"
             ],
             [
              0.7777777777777778,
              "#fb9f3a"
             ],
             [
              0.8888888888888888,
              "#fdca26"
             ],
             [
              1,
              "#f0f921"
             ]
            ],
            "type": "contour"
           }
          ],
          "contourcarpet": [
           {
            "colorbar": {
             "outlinewidth": 0,
             "ticks": ""
            },
            "type": "contourcarpet"
           }
          ],
          "heatmap": [
           {
            "colorbar": {
             "outlinewidth": 0,
             "ticks": ""
            },
            "colorscale": [
             [
              0,
              "#0d0887"
             ],
             [
              0.1111111111111111,
              "#46039f"
             ],
             [
              0.2222222222222222,
              "#7201a8"
             ],
             [
              0.3333333333333333,
              "#9c179e"
             ],
             [
              0.4444444444444444,
              "#bd3786"
             ],
             [
              0.5555555555555556,
              "#d8576b"
             ],
             [
              0.6666666666666666,
              "#ed7953"
             ],
             [
              0.7777777777777778,
              "#fb9f3a"
             ],
             [
              0.8888888888888888,
              "#fdca26"
             ],
             [
              1,
              "#f0f921"
             ]
            ],
            "type": "heatmap"
           }
          ],
          "histogram": [
           {
            "marker": {
             "pattern": {
              "fillmode": "overlay",
              "size": 10,
              "solidity": 0.2
             }
            },
            "type": "histogram"
           }
          ],
          "histogram2d": [
           {
            "colorbar": {
             "outlinewidth": 0,
             "ticks": ""
            },
            "colorscale": [
             [
              0,
              "#0d0887"
             ],
             [
              0.1111111111111111,
              "#46039f"
             ],
             [
              0.2222222222222222,
              "#7201a8"
             ],
             [
              0.3333333333333333,
              "#9c179e"
             ],
             [
              0.4444444444444444,
              "#bd3786"
             ],
             [
              0.5555555555555556,
              "#d8576b"
             ],
             [
              0.6666666666666666,
              "#ed7953"
             ],
             [
              0.7777777777777778,
              "#fb9f3a"
             ],
             [
              0.8888888888888888,
              "#fdca26"
             ],
             [
              1,
              "#f0f921"
             ]
            ],
            "type": "histogram2d"
           }
          ],
          "histogram2dcontour": [
           {
            "colorbar": {
             "outlinewidth": 0,
             "ticks": ""
            },
            "colorscale": [
             [
              0,
              "#0d0887"
             ],
             [
              0.1111111111111111,
              "#46039f"
             ],
             [
              0.2222222222222222,
              "#7201a8"
             ],
             [
              0.3333333333333333,
              "#9c179e"
             ],
             [
              0.4444444444444444,
              "#bd3786"
             ],
             [
              0.5555555555555556,
              "#d8576b"
             ],
             [
              0.6666666666666666,
              "#ed7953"
             ],
             [
              0.7777777777777778,
              "#fb9f3a"
             ],
             [
              0.8888888888888888,
              "#fdca26"
             ],
             [
              1,
              "#f0f921"
             ]
            ],
            "type": "histogram2dcontour"
           }
          ],
          "mesh3d": [
           {
            "colorbar": {
             "outlinewidth": 0,
             "ticks": ""
            },
            "type": "mesh3d"
           }
          ],
          "parcoords": [
           {
            "line": {
             "colorbar": {
              "outlinewidth": 0,
              "ticks": ""
             }
            },
            "type": "parcoords"
           }
          ],
          "pie": [
           {
            "automargin": true,
            "type": "pie"
           }
          ],
          "scatter": [
           {
            "fillpattern": {
             "fillmode": "overlay",
             "size": 10,
             "solidity": 0.2
            },
            "type": "scatter"
           }
          ],
          "scatter3d": [
           {
            "line": {
             "colorbar": {
              "outlinewidth": 0,
              "ticks": ""
             }
            },
            "marker": {
             "colorbar": {
              "outlinewidth": 0,
              "ticks": ""
             }
            },
            "type": "scatter3d"
           }
          ],
          "scattercarpet": [
           {
            "marker": {
             "colorbar": {
              "outlinewidth": 0,
              "ticks": ""
             }
            },
            "type": "scattercarpet"
           }
          ],
          "scattergeo": [
           {
            "marker": {
             "colorbar": {
              "outlinewidth": 0,
              "ticks": ""
             }
            },
            "type": "scattergeo"
           }
          ],
          "scattergl": [
           {
            "marker": {
             "colorbar": {
              "outlinewidth": 0,
              "ticks": ""
             }
            },
            "type": "scattergl"
           }
          ],
          "scattermap": [
           {
            "marker": {
             "colorbar": {
              "outlinewidth": 0,
              "ticks": ""
             }
            },
            "type": "scattermap"
           }
          ],
          "scattermapbox": [
           {
            "marker": {
             "colorbar": {
              "outlinewidth": 0,
              "ticks": ""
             }
            },
            "type": "scattermapbox"
           }
          ],
          "scatterpolar": [
           {
            "marker": {
             "colorbar": {
              "outlinewidth": 0,
              "ticks": ""
             }
            },
            "type": "scatterpolar"
           }
          ],
          "scatterpolargl": [
           {
            "marker": {
             "colorbar": {
              "outlinewidth": 0,
              "ticks": ""
             }
            },
            "type": "scatterpolargl"
           }
          ],
          "scatterternary": [
           {
            "marker": {
             "colorbar": {
              "outlinewidth": 0,
              "ticks": ""
             }
            },
            "type": "scatterternary"
           }
          ],
          "surface": [
           {
            "colorbar": {
             "outlinewidth": 0,
             "ticks": ""
            },
            "colorscale": [
             [
              0,
              "#0d0887"
             ],
             [
              0.1111111111111111,
              "#46039f"
             ],
             [
              0.2222222222222222,
              "#7201a8"
             ],
             [
              0.3333333333333333,
              "#9c179e"
             ],
             [
              0.4444444444444444,
              "#bd3786"
             ],
             [
              0.5555555555555556,
              "#d8576b"
             ],
             [
              0.6666666666666666,
              "#ed7953"
             ],
             [
              0.7777777777777778,
              "#fb9f3a"
             ],
             [
              0.8888888888888888,
              "#fdca26"
             ],
             [
              1,
              "#f0f921"
             ]
            ],
            "type": "surface"
           }
          ],
          "table": [
           {
            "cells": {
             "fill": {
              "color": "#EBF0F8"
             },
             "line": {
              "color": "white"
             }
            },
            "header": {
             "fill": {
              "color": "#C8D4E3"
             },
             "line": {
              "color": "white"
             }
            },
            "type": "table"
           }
          ]
         },
         "layout": {
          "annotationdefaults": {
           "arrowcolor": "#2a3f5f",
           "arrowhead": 0,
           "arrowwidth": 1
          },
          "autotypenumbers": "strict",
          "coloraxis": {
           "colorbar": {
            "outlinewidth": 0,
            "ticks": ""
           }
          },
          "colorscale": {
           "diverging": [
            [
             0,
             "#8e0152"
            ],
            [
             0.1,
             "#c51b7d"
            ],
            [
             0.2,
             "#de77ae"
            ],
            [
             0.3,
             "#f1b6da"
            ],
            [
             0.4,
             "#fde0ef"
            ],
            [
             0.5,
             "#f7f7f7"
            ],
            [
             0.6,
             "#e6f5d0"
            ],
            [
             0.7,
             "#b8e186"
            ],
            [
             0.8,
             "#7fbc41"
            ],
            [
             0.9,
             "#4d9221"
            ],
            [
             1,
             "#276419"
            ]
           ],
           "sequential": [
            [
             0,
             "#0d0887"
            ],
            [
             0.1111111111111111,
             "#46039f"
            ],
            [
             0.2222222222222222,
             "#7201a8"
            ],
            [
             0.3333333333333333,
             "#9c179e"
            ],
            [
             0.4444444444444444,
             "#bd3786"
            ],
            [
             0.5555555555555556,
             "#d8576b"
            ],
            [
             0.6666666666666666,
             "#ed7953"
            ],
            [
             0.7777777777777778,
             "#fb9f3a"
            ],
            [
             0.8888888888888888,
             "#fdca26"
            ],
            [
             1,
             "#f0f921"
            ]
           ],
           "sequentialminus": [
            [
             0,
             "#0d0887"
            ],
            [
             0.1111111111111111,
             "#46039f"
            ],
            [
             0.2222222222222222,
             "#7201a8"
            ],
            [
             0.3333333333333333,
             "#9c179e"
            ],
            [
             0.4444444444444444,
             "#bd3786"
            ],
            [
             0.5555555555555556,
             "#d8576b"
            ],
            [
             0.6666666666666666,
             "#ed7953"
            ],
            [
             0.7777777777777778,
             "#fb9f3a"
            ],
            [
             0.8888888888888888,
             "#fdca26"
            ],
            [
             1,
             "#f0f921"
            ]
           ]
          },
          "colorway": [
           "#636efa",
           "#EF553B",
           "#00cc96",
           "#ab63fa",
           "#FFA15A",
           "#19d3f3",
           "#FF6692",
           "#B6E880",
           "#FF97FF",
           "#FECB52"
          ],
          "font": {
           "color": "#2a3f5f"
          },
          "geo": {
           "bgcolor": "white",
           "lakecolor": "white",
           "landcolor": "#E5ECF6",
           "showlakes": true,
           "showland": true,
           "subunitcolor": "white"
          },
          "hoverlabel": {
           "align": "left"
          },
          "hovermode": "closest",
          "mapbox": {
           "style": "light"
          },
          "paper_bgcolor": "white",
          "plot_bgcolor": "#E5ECF6",
          "polar": {
           "angularaxis": {
            "gridcolor": "white",
            "linecolor": "white",
            "ticks": ""
           },
           "bgcolor": "#E5ECF6",
           "radialaxis": {
            "gridcolor": "white",
            "linecolor": "white",
            "ticks": ""
           }
          },
          "scene": {
           "xaxis": {
            "backgroundcolor": "#E5ECF6",
            "gridcolor": "white",
            "gridwidth": 2,
            "linecolor": "white",
            "showbackground": true,
            "ticks": "",
            "zerolinecolor": "white"
           },
           "yaxis": {
            "backgroundcolor": "#E5ECF6",
            "gridcolor": "white",
            "gridwidth": 2,
            "linecolor": "white",
            "showbackground": true,
            "ticks": "",
            "zerolinecolor": "white"
           },
           "zaxis": {
            "backgroundcolor": "#E5ECF6",
            "gridcolor": "white",
            "gridwidth": 2,
            "linecolor": "white",
            "showbackground": true,
            "ticks": "",
            "zerolinecolor": "white"
           }
          },
          "shapedefaults": {
           "line": {
            "color": "#2a3f5f"
           }
          },
          "ternary": {
           "aaxis": {
            "gridcolor": "white",
            "linecolor": "white",
            "ticks": ""
           },
           "baxis": {
            "gridcolor": "white",
            "linecolor": "white",
            "ticks": ""
           },
           "bgcolor": "#E5ECF6",
           "caxis": {
            "gridcolor": "white",
            "linecolor": "white",
            "ticks": ""
           }
          },
          "title": {
           "x": 0.05
          },
          "xaxis": {
           "automargin": true,
           "gridcolor": "white",
           "linecolor": "white",
           "ticks": "",
           "title": {
            "standoff": 15
           },
           "zerolinecolor": "white",
           "zerolinewidth": 2
          },
          "yaxis": {
           "automargin": true,
           "gridcolor": "white",
           "linecolor": "white",
           "ticks": "",
           "title": {
            "standoff": 15
           },
           "zerolinecolor": "white",
           "zerolinewidth": 2
          }
         }
        },
        "title": {
         "text": "Real ATE vs Predicted ATE"
        },
        "xaxis": {
         "anchor": "y",
         "domain": [
          0,
          1
         ],
         "title": {
          "text": "Predicted ATE"
         }
        },
        "yaxis": {
         "anchor": "x",
         "domain": [
          0,
          1
         ],
         "title": {
          "text": "Real ATE"
         }
        }
       }
      }
     },
     "metadata": {},
     "output_type": "display_data"
    }
   ],
   "source": [
    "\n",
    "fig = px.scatter(\n",
    "    results_catboost_df,\n",
    "    x='pred_ate',\n",
    "    y='real_ate',\n",
    "    color='Arm',  # Optional: color by group\n",
    "    hover_name='rct_name',\n",
    "    title='Real ATE vs Predicted ATE',\n",
    "    labels={'real_ate': 'Real ATE', 'pred_ate': 'Predicted ATE'}\n",
    ")\n",
    "\n",
    "# Add y=x line\n",
    "min_ate = min(results_catboost_df['real_ate'].min(), results_catboost_df['pred_ate'].min())\n",
    "max_ate = max(results_catboost_df['real_ate'].max(), results_catboost_df['pred_ate'].max())\n",
    "fig.add_trace(go.Scatter(\n",
    "    x=[min_ate, max_ate],\n",
    "    y=[min_ate, max_ate],\n",
    "    mode='lines',\n",
    "    line=dict(color='red', dash='dash'),\n",
    "    name='Ideal (y = x)'\n",
    "))\n",
    "\n",
    "#fig.update_layout(width=700, height=500)\n",
    "fig.show()"
   ]
  },
  {
   "cell_type": "code",
   "execution_count": null,
   "id": "ce642fb8",
   "metadata": {},
   "outputs": [],
   "source": []
  }
 ],
 "metadata": {
  "kernelspec": {
   "display_name": ".venv",
   "language": "python",
   "name": "python3"
  },
  "language_info": {
   "codemirror_mode": {
    "name": "ipython",
    "version": 3
   },
   "file_extension": ".py",
   "mimetype": "text/x-python",
   "name": "python",
   "nbconvert_exporter": "python",
   "pygments_lexer": "ipython3",
   "version": "3.12.10"
  }
 },
 "nbformat": 4,
 "nbformat_minor": 5
}
