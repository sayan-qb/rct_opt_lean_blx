{
 "cells": [
  {
   "cell_type": "markdown",
   "id": "f676f22d",
   "metadata": {},
   "source": [
    "# RCT Data Preparation Pipeline\n",
    "\n",
    "This notebook prepares the clinical trial data for the LightGBM prediction pipeline.\n",
    "\n",
    "## Input Requirements:\n",
    "- Excel file with clinical trial data\n",
    "- Sheet: \"250529_NSCLC\" (skip first 2 rows)\n",
    "\n",
    "## Output:\n",
    "- Processed CSV file with required columns for the pipeline\n",
    "\n",
    "## Required Columns for Pipeline:\n",
    "- `rct_id`: RCT identifier (renamed from NCT_ID)\n",
    "- `Arm`: \"Control\" or \"Intervention\" \n",
    "- `is_target_trial`: Boolean flag (1 for target RCT, 0 for others)\n",
    "- `PFS_median_months`: Target variable\n",
    "- Feature columns as specified in config"
   ]
  },
  {
   "cell_type": "code",
   "execution_count": 1,
   "id": "f6e5899b",
   "metadata": {},
   "outputs": [
    {
     "name": "stdout",
     "output_type": "stream",
     "text": [
      "Data preparation pipeline initialized\n"
     ]
    }
   ],
   "source": [
    "import pandas as pd\n",
    "import numpy as np\n",
    "import os\n",
    "\n",
    "print(\"Data preparation pipeline initialized\")"
   ]
  },
  {
   "cell_type": "markdown",
   "id": "afeed8ab",
   "metadata": {},
   "source": [
    "## Step 1: Load Raw Data"
   ]
  },
  {
   "cell_type": "code",
   "execution_count": 2,
   "id": "92d05a76",
   "metadata": {},
   "outputs": [
    {
     "name": "stdout",
     "output_type": "stream",
     "text": [
      "Loading data from: 20250521_Trials for dev.xlsx\n",
      "Sheet: 250529_NSCLC\n",
      "Skipping first 2 rows\n",
      "\n",
      "Loaded data shape: (96, 52)\n",
      "Columns: 52\n"
     ]
    },
    {
     "data": {
      "text/html": [
       "<div>\n",
       "<style scoped>\n",
       "    .dataframe tbody tr th:only-of-type {\n",
       "        vertical-align: middle;\n",
       "    }\n",
       "\n",
       "    .dataframe tbody tr th {\n",
       "        vertical-align: top;\n",
       "    }\n",
       "\n",
       "    .dataframe thead th {\n",
       "        text-align: right;\n",
       "    }\n",
       "</style>\n",
       "<table border=\"1\" class=\"dataframe\">\n",
       "  <thead>\n",
       "    <tr style=\"text-align: right;\">\n",
       "      <th></th>\n",
       "      <th>NCT_ID</th>\n",
       "      <th>Arm</th>\n",
       "      <th>to keep</th>\n",
       "      <th>Iteration</th>\n",
       "      <th>Pubmed Link</th>\n",
       "      <th>Downloaded Paper Link</th>\n",
       "      <th>Total Population</th>\n",
       "      <th>arm_n</th>\n",
       "      <th>intervention</th>\n",
       "      <th>existing?</th>\n",
       "      <th>...</th>\n",
       "      <th>need_to_be_dropped</th>\n",
       "      <th>NOTES</th>\n",
       "      <th>Unnamed: 44</th>\n",
       "      <th>Unnamed: 45</th>\n",
       "      <th>Unnamed: 46</th>\n",
       "      <th>Unnamed: 47</th>\n",
       "      <th>Unnamed: 48</th>\n",
       "      <th>Unnamed: 49</th>\n",
       "      <th>Unnamed: 50</th>\n",
       "      <th>100</th>\n",
       "    </tr>\n",
       "  </thead>\n",
       "  <tbody>\n",
       "    <tr>\n",
       "      <th>0</th>\n",
       "      <td>NCT02142738</td>\n",
       "      <td>Intervention</td>\n",
       "      <td>1.0</td>\n",
       "      <td>2025-05-29</td>\n",
       "      <td>https://pmc.ncbi.nlm.nih.gov/articles/PMC82800...</td>\n",
       "      <td>NaN</td>\n",
       "      <td>305.0</td>\n",
       "      <td>154</td>\n",
       "      <td>Pembrolizumab</td>\n",
       "      <td>0.0</td>\n",
       "      <td>...</td>\n",
       "      <td>0.0</td>\n",
       "      <td>(PD-L1) tumor proportion score of at least 50%...</td>\n",
       "      <td>NaN</td>\n",
       "      <td>NaN</td>\n",
       "      <td>NaN</td>\n",
       "      <td>NaN</td>\n",
       "      <td>NaN</td>\n",
       "      <td>NaN</td>\n",
       "      <td>NaN</td>\n",
       "      <td>NaN</td>\n",
       "    </tr>\n",
       "    <tr>\n",
       "      <th>1</th>\n",
       "      <td>NaN</td>\n",
       "      <td>Control</td>\n",
       "      <td>1.0</td>\n",
       "      <td>2025-05-29</td>\n",
       "      <td>NaN</td>\n",
       "      <td>NaN</td>\n",
       "      <td>NaN</td>\n",
       "      <td>151</td>\n",
       "      <td>platinum + pemetrexed or gemcitabine or paclit...</td>\n",
       "      <td>0.0</td>\n",
       "      <td>...</td>\n",
       "      <td>0.0</td>\n",
       "      <td>NaN</td>\n",
       "      <td>NaN</td>\n",
       "      <td>NaN</td>\n",
       "      <td>NaN</td>\n",
       "      <td>NaN</td>\n",
       "      <td>NaN</td>\n",
       "      <td>NaN</td>\n",
       "      <td>NaN</td>\n",
       "      <td>NaN</td>\n",
       "    </tr>\n",
       "  </tbody>\n",
       "</table>\n",
       "<p>2 rows × 52 columns</p>\n",
       "</div>"
      ],
      "text/plain": [
       "        NCT_ID           Arm  to keep  Iteration  \\\n",
       "0  NCT02142738  Intervention      1.0 2025-05-29   \n",
       "1          NaN       Control      1.0 2025-05-29   \n",
       "\n",
       "                                         Pubmed Link Downloaded Paper Link  \\\n",
       "0  https://pmc.ncbi.nlm.nih.gov/articles/PMC82800...                   NaN   \n",
       "1                                                NaN                   NaN   \n",
       "\n",
       "   Total Population arm_n                                       intervention  \\\n",
       "0             305.0   154                                     Pembrolizumab    \n",
       "1               NaN   151  platinum + pemetrexed or gemcitabine or paclit...   \n",
       "\n",
       "   existing?  ...  need_to_be_dropped  \\\n",
       "0        0.0  ...                 0.0   \n",
       "1        0.0  ...                 0.0   \n",
       "\n",
       "                                               NOTES  Unnamed: 44  \\\n",
       "0  (PD-L1) tumor proportion score of at least 50%...          NaN   \n",
       "1                                                NaN          NaN   \n",
       "\n",
       "   Unnamed: 45  Unnamed: 46  Unnamed: 47  Unnamed: 48  Unnamed: 49  \\\n",
       "0          NaN          NaN          NaN          NaN          NaN   \n",
       "1          NaN          NaN          NaN          NaN          NaN   \n",
       "\n",
       "   Unnamed: 50  100  \n",
       "0          NaN  NaN  \n",
       "1          NaN  NaN  \n",
       "\n",
       "[2 rows x 52 columns]"
      ]
     },
     "execution_count": 2,
     "metadata": {},
     "output_type": "execute_result"
    }
   ],
   "source": [
    "# Load the Excel file\n",
    "excel_file = \"20250521_Trials for dev.xlsx\"\n",
    "sheet_name = \"250529_NSCLC\"\n",
    "skip_rows = 2\n",
    "\n",
    "print(f\"Loading data from: {excel_file}\")\n",
    "print(f\"Sheet: {sheet_name}\")\n",
    "print(f\"Skipping first {skip_rows} rows\")\n",
    "\n",
    "df = pd.read_excel(excel_file, sheet_name=sheet_name, skiprows=skip_rows)\n",
    "\n",
    "print(f\"\\nLoaded data shape: {df.shape}\")\n",
    "print(f\"Columns: {len(df.columns)}\")\n",
    "df.head(2)"
   ]
  },
  {
   "cell_type": "markdown",
   "id": "04cd124d",
   "metadata": {},
   "source": [
    "## Step 2: Basic Data Inspection"
   ]
  },
  {
   "cell_type": "code",
   "execution_count": 3,
   "id": "2f3e51e8",
   "metadata": {},
   "outputs": [
    {
     "name": "stdout",
     "output_type": "stream",
     "text": [
      "Key columns inspection:\n",
      "NCT_ID column exists: True\n",
      "Arm column exists: True\n",
      "PFS_median_months column exists: True\n",
      "\n",
      "Arm column values:\n",
      "Arm\n",
      "Intervention    46\n",
      "Control         41\n",
      "Name: count, dtype: int64\n",
      "\n",
      "Unique RCT IDs: 41\n",
      "Sample RCT IDs: ['NCT02142738' 'NCT02041533' 'NCT02657434' 'NCT03950674' 'NCT02367781']\n"
     ]
    }
   ],
   "source": [
    "# Check key columns\n",
    "print(\"Key columns inspection:\")\n",
    "print(f\"NCT_ID column exists: {'NCT_ID' in df.columns}\")\n",
    "print(f\"Arm column exists: {'Arm' in df.columns}\")\n",
    "print(f\"PFS_median_months column exists: {'PFS_median_months' in df.columns}\")\n",
    "\n",
    "if 'Arm' in df.columns:\n",
    "    print(f\"\\nArm column values:\")\n",
    "    print(df['Arm'].value_counts())\n",
    "\n",
    "if 'NCT_ID' in df.columns:\n",
    "    print(f\"\\nUnique RCT IDs: {df['NCT_ID'].nunique()}\")\n",
    "    print(f\"Sample RCT IDs: {df['NCT_ID'].dropna().unique()[:5]}\")"
   ]
  },
  {
   "cell_type": "markdown",
   "id": "79d48210",
   "metadata": {},
   "source": [
    "## Step 3: Data Preprocessing"
   ]
  },
  {
   "cell_type": "code",
   "execution_count": 4,
   "id": "fab6e1b0",
   "metadata": {},
   "outputs": [
    {
     "name": "stdout",
     "output_type": "stream",
     "text": [
      "Renamed NCT_ID column to rct_id\n",
      "\n",
      "Created is_target_trial flag for target RCT: NCT02578680\n",
      "Target trial count: 1\n",
      "Similar trials count: 95\n"
     ]
    }
   ],
   "source": [
    "# Step 3.1: Rename NCT_ID to rct_id (required by pipeline)\n",
    "if 'NCT_ID' in df.columns:\n",
    "    df.rename(columns={'NCT_ID': 'rct_id'}, inplace=True)\n",
    "    print(\"Renamed NCT_ID column to rct_id\")\n",
    "else:\n",
    "    print(\"NCT_ID column not found\")\n",
    "\n",
    "# Step 3.2: Create target trial flag\n",
    "target_rct_id = 'NCT02578680'  # Default target RCT\n",
    "df['is_target_trial'] = df['rct_id'].apply(lambda x: 1 if x == target_rct_id else 0)\n",
    "\n",
    "print(f\"\\nCreated is_target_trial flag for target RCT: {target_rct_id}\")\n",
    "print(f\"Target trial count: {df['is_target_trial'].sum()}\")\n",
    "print(f\"Similar trials count: {(df['is_target_trial'] == 0).sum()}\")"
   ]
  },
  {
   "cell_type": "markdown",
   "id": "a9ef2b30",
   "metadata": {},
   "source": [
    "## Step 4: Data Quality Checks"
   ]
  },
  {
   "cell_type": "code",
   "execution_count": 5,
   "id": "500b7cf7",
   "metadata": {},
   "outputs": [
    {
     "name": "stdout",
     "output_type": "stream",
     "text": [
      "Required columns check:\n",
      "  rct_id: OK\n",
      "    - Null values: 52 (54.2%)\n",
      "  Arm: OK\n",
      "    - Null values: 9 (9.4%)\n",
      "  is_target_trial: OK\n",
      "  PFS_median_months: OK\n",
      "    - Null values: 31 (32.3%)\n",
      "\n",
      "PFS_median_months statistics:\n",
      "  Count: 65\n",
      "  Mean: 6.74\n",
      "  Std: 1.89\n",
      "  Range: 4.20 - 12.10\n"
     ]
    }
   ],
   "source": [
    "# Check required columns for pipeline\n",
    "required_columns = [\n",
    "    'rct_id', 'Arm', 'is_target_trial', 'PFS_median_months'\n",
    "]\n",
    "\n",
    "print(\"Required columns check:\")\n",
    "for col in required_columns:\n",
    "    exists = col in df.columns\n",
    "    print(f\"  {col}: {'OK' if exists else 'Not OK'}\")\n",
    "    \n",
    "    if exists and col != 'is_target_trial':\n",
    "        null_count = df[col].isnull().sum()\n",
    "        print(f\"    - Null values: {null_count} ({null_count/len(df)*100:.1f}%)\")\n",
    "\n",
    "# Check target variable\n",
    "if 'PFS_median_months' in df.columns:\n",
    "    pfs_stats = df['PFS_median_months'].describe()\n",
    "    print(f\"\\nPFS_median_months statistics:\")\n",
    "    print(f\"  Count: {pfs_stats['count']:.0f}\")\n",
    "    print(f\"  Mean: {pfs_stats['mean']:.2f}\")\n",
    "    print(f\"  Std: {pfs_stats['std']:.2f}\")\n",
    "    print(f\"  Range: {pfs_stats['min']:.2f} - {pfs_stats['max']:.2f}\")"
   ]
  },
  {
   "cell_type": "markdown",
   "id": "134be85e",
   "metadata": {},
   "source": [
    "## Step 5: Feature Columns Check"
   ]
  },
  {
   "cell_type": "code",
   "execution_count": 6,
   "id": "9c4baae7",
   "metadata": {},
   "outputs": [
    {
     "name": "stdout",
     "output_type": "stream",
     "text": [
      "Pipeline features availability:\n",
      "age_median (null: 62.5%)\n",
      "gender_male_percent (null: 60.4%)\n",
      "no_smoker_percent (null: 60.4%)\n",
      "ecog_1 (null: 60.4%)\n",
      "brain_metastase_yes (null: 66.7%)\n",
      "disease_stage_IV (null: 78.1%)\n",
      "EGFR_positive_mutation (null: 87.5%)\n",
      "Chemotherapy (null: 38.5%)\n",
      "Targeted_Therapy (null: 38.5%)\n",
      "Immunotherapy (null: 38.5%)\n",
      "Anti-angiogenic_Other (null: 40.6%)\n",
      "\n",
      "Summary:\n",
      "  Available features: 11/11\n",
      "  Missing features: []\n"
     ]
    }
   ],
   "source": [
    "# Features as specified in the config\n",
    "pipeline_features = [\n",
    "    \"age_median\",\n",
    "    \"gender_male_percent\", \n",
    "    \"no_smoker_percent\",\n",
    "    \"ecog_1\",\n",
    "    \"brain_metastase_yes\",\n",
    "    \"disease_stage_IV\",\n",
    "    \"EGFR_positive_mutation\",\n",
    "    \"Chemotherapy\",\n",
    "    \"Targeted_Therapy\", \n",
    "    \"Immunotherapy\",\n",
    "    \"Anti-angiogenic_Other\"\n",
    "]\n",
    "\n",
    "print(\"Pipeline features availability:\")\n",
    "available_features = []\n",
    "missing_features = []\n",
    "\n",
    "for feature in pipeline_features:\n",
    "    if feature in df.columns:\n",
    "        available_features.append(feature)\n",
    "        null_pct = df[feature].isnull().sum() / len(df) * 100\n",
    "        print(f\"{feature} (null: {null_pct:.1f}%)\")\n",
    "    else:\n",
    "        missing_features.append(feature)\n",
    "        print(f\"{feature}\")\n",
    "\n",
    "print(f\"\\nSummary:\")\n",
    "print(f\"  Available features: {len(available_features)}/{len(pipeline_features)}\")\n",
    "print(f\"  Missing features: {missing_features}\")"
   ]
  },
  {
   "cell_type": "markdown",
   "id": "68869cf5",
   "metadata": {},
   "source": [
    "## Step 6: Arm Distribution Analysis"
   ]
  },
  {
   "cell_type": "code",
   "execution_count": 7,
   "id": "3dd6d9fe",
   "metadata": {},
   "outputs": [
    {
     "name": "stdout",
     "output_type": "stream",
     "text": [
      "Arm distribution:\n",
      "Arm\n",
      "Intervention    46\n",
      "Control         41\n",
      "Name: count, dtype: int64\n",
      "\n",
      "Target RCT arm distribution:\n",
      "Arm\n",
      "Intervention    1\n",
      "Name: count, dtype: int64\n",
      "\n",
      "Similar RCTs arm distribution:\n",
      "Arm\n",
      "Intervention    45\n",
      "Control         41\n",
      "Name: count, dtype: int64\n",
      "\n",
      "RCTs with both Control and Intervention arms:\n",
      "  Count: 1\n",
      "  RCTs: ['Results NA']...\n"
     ]
    }
   ],
   "source": [
    "# Analyze arm distribution\n",
    "if 'Arm' in df.columns:\n",
    "    print(\"Arm distribution:\")\n",
    "    arm_counts = df['Arm'].value_counts()\n",
    "    print(arm_counts)\n",
    "    \n",
    "    print(f\"\\nTarget RCT arm distribution:\")\n",
    "    target_arms = df[df['is_target_trial'] == 1]['Arm'].value_counts()\n",
    "    print(target_arms)\n",
    "    \n",
    "    print(f\"\\nSimilar RCTs arm distribution:\")\n",
    "    similar_arms = df[df['is_target_trial'] == 0]['Arm'].value_counts()\n",
    "    print(similar_arms)\n",
    "    \n",
    "    # Check which RCTs have both arms\n",
    "    print(f\"\\nRCTs with both Control and Intervention arms:\")\n",
    "    rct_arm_counts = df.groupby('rct_id')['Arm'].nunique()\n",
    "    both_arms_rcts = rct_arm_counts[rct_arm_counts == 2].index.tolist()\n",
    "    print(f\"  Count: {len(both_arms_rcts)}\")\n",
    "    if len(both_arms_rcts) > 0:\n",
    "        print(f\"  RCTs: {both_arms_rcts[:5]}...\")  # Show first 5\n",
    "else:\n",
    "    print(\"❌ Arm column not found\")"
   ]
  },
  {
   "cell_type": "markdown",
   "id": "16920f75",
   "metadata": {},
   "source": [
    "## Step 7: Save Processed Data"
   ]
  },
  {
   "cell_type": "code",
   "execution_count": 9,
   "id": "3a199a81",
   "metadata": {},
   "outputs": [
    {
     "name": "stdout",
     "output_type": "stream",
     "text": [
      "Data saved to: data/trial_data.csv\n",
      "   Final shape: (96, 53)\n",
      "   Columns: 53\n",
      "\n",
      "Verification: Loaded saved file shape: (96, 53)\n",
      "\n",
      "Sample of processed data:\n"
     ]
    },
    {
     "data": {
      "text/html": [
       "<div>\n",
       "<style scoped>\n",
       "    .dataframe tbody tr th:only-of-type {\n",
       "        vertical-align: middle;\n",
       "    }\n",
       "\n",
       "    .dataframe tbody tr th {\n",
       "        vertical-align: top;\n",
       "    }\n",
       "\n",
       "    .dataframe thead th {\n",
       "        text-align: right;\n",
       "    }\n",
       "</style>\n",
       "<table border=\"1\" class=\"dataframe\">\n",
       "  <thead>\n",
       "    <tr style=\"text-align: right;\">\n",
       "      <th></th>\n",
       "      <th>rct_id</th>\n",
       "      <th>Arm</th>\n",
       "      <th>is_target_trial</th>\n",
       "      <th>PFS_median_months</th>\n",
       "      <th>age_median</th>\n",
       "      <th>gender_male_percent</th>\n",
       "      <th>no_smoker_percent</th>\n",
       "    </tr>\n",
       "  </thead>\n",
       "  <tbody>\n",
       "    <tr>\n",
       "      <th>0</th>\n",
       "      <td>NCT02142738</td>\n",
       "      <td>Intervention</td>\n",
       "      <td>0</td>\n",
       "      <td>7.7</td>\n",
       "      <td>64.5</td>\n",
       "      <td>59.7</td>\n",
       "      <td>3.2</td>\n",
       "    </tr>\n",
       "    <tr>\n",
       "      <th>1</th>\n",
       "      <td>NaN</td>\n",
       "      <td>Control</td>\n",
       "      <td>0</td>\n",
       "      <td>5.5</td>\n",
       "      <td>66.0</td>\n",
       "      <td>62.9</td>\n",
       "      <td>12.6</td>\n",
       "    </tr>\n",
       "    <tr>\n",
       "      <th>2</th>\n",
       "      <td>NCT02041533</td>\n",
       "      <td>Intervention</td>\n",
       "      <td>0</td>\n",
       "      <td>4.2</td>\n",
       "      <td>63.0</td>\n",
       "      <td>68.0</td>\n",
       "      <td>11.0</td>\n",
       "    </tr>\n",
       "    <tr>\n",
       "      <th>3</th>\n",
       "      <td>NaN</td>\n",
       "      <td>Control</td>\n",
       "      <td>0</td>\n",
       "      <td>5.9</td>\n",
       "      <td>65.0</td>\n",
       "      <td>55.0</td>\n",
       "      <td>11.0</td>\n",
       "    </tr>\n",
       "    <tr>\n",
       "      <th>4</th>\n",
       "      <td>NaN</td>\n",
       "      <td>Intervention</td>\n",
       "      <td>0</td>\n",
       "      <td>9.7</td>\n",
       "      <td>NaN</td>\n",
       "      <td>NaN</td>\n",
       "      <td>NaN</td>\n",
       "    </tr>\n",
       "  </tbody>\n",
       "</table>\n",
       "</div>"
      ],
      "text/plain": [
       "        rct_id           Arm  is_target_trial  PFS_median_months  age_median  \\\n",
       "0  NCT02142738  Intervention                0                7.7        64.5   \n",
       "1          NaN       Control                0                5.5        66.0   \n",
       "2  NCT02041533  Intervention                0                4.2        63.0   \n",
       "3          NaN       Control                0                5.9        65.0   \n",
       "4          NaN  Intervention                0                9.7         NaN   \n",
       "\n",
       "   gender_male_percent  no_smoker_percent  \n",
       "0                 59.7                3.2  \n",
       "1                 62.9               12.6  \n",
       "2                 68.0               11.0  \n",
       "3                 55.0               11.0  \n",
       "4                  NaN                NaN  "
      ]
     },
     "metadata": {},
     "output_type": "display_data"
    }
   ],
   "source": [
    "# Create data directory if it doesn't exist\n",
    "data_dir = \"data\"\n",
    "os.makedirs(data_dir, exist_ok=True)\n",
    "\n",
    "# Save processed data\n",
    "output_file = os.path.join(data_dir, \"trial_data.csv\")\n",
    "df.to_csv(output_file, index=False)\n",
    "\n",
    "print(f\"Data saved to: {output_file}\")\n",
    "print(f\"   Final shape: {df.shape}\")\n",
    "print(f\"   Columns: {len(df.columns)}\")\n",
    "\n",
    "# Verify the saved file\n",
    "test_df = pd.read_csv(output_file)\n",
    "print(f\"\\nVerification: Loaded saved file shape: {test_df.shape}\")\n",
    "\n",
    "# Show sample of final data\n",
    "print(f\"\\nSample of processed data:\")\n",
    "sample_cols = ['rct_id', 'Arm', 'is_target_trial', 'PFS_median_months'] + available_features[:3]\n",
    "display(df[sample_cols].head())"
   ]
  },
  {
   "cell_type": "markdown",
   "id": "65445fa8",
   "metadata": {},
   "source": [
    "## Step 8: Generate Pipeline Configuration"
   ]
  },
  {
   "cell_type": "code",
   "execution_count": 10,
   "id": "d816eac5",
   "metadata": {},
   "outputs": [
    {
     "name": "stdout",
     "output_type": "stream",
     "text": [
      "✅ Configuration saved to: config_generated.json\n",
      "\n",
      "Generated config:\n",
      "{\n",
      "  \"ftr_list\": [\n",
      "    \"age_median\",\n",
      "    \"gender_male_percent\",\n",
      "    \"no_smoker_percent\",\n",
      "    \"ecog_1\",\n",
      "    \"brain_metastase_yes\",\n",
      "    \"disease_stage_IV\",\n",
      "    \"EGFR_positive_mutation\",\n",
      "    \"Chemotherapy\",\n",
      "    \"Targeted_Therapy\",\n",
      "    \"Immunotherapy\",\n",
      "    \"Anti-angiogenic_Other\"\n",
      "  ],\n",
      "  \"target_variable\": \"PFS_median_months\",\n",
      "  \"rct_id_col_name\": \"rct_id\",\n",
      "  \"arm_type_col_name\": \"Arm\",\n",
      "  \"is_target_rct\": \"is_target_trial\",\n",
      "  \"data_path\": \"data/trial_data.csv\"\n",
      "}\n"
     ]
    }
   ],
   "source": [
    "# Generate config for the pipeline\n",
    "config = {\n",
    "    \"ftr_list\": available_features,\n",
    "    \"target_variable\": \"PFS_median_months\",\n",
    "    \"rct_id_col_name\": \"rct_id\",\n",
    "    \"arm_type_col_name\": \"Arm\",\n",
    "    \"is_target_rct\": \"is_target_trial\",\n",
    "    \"data_path\": output_file\n",
    "}\n",
    "\n",
    "# Save config\n",
    "import json\n",
    "config_file = \"config_generated.json\"\n",
    "with open(config_file, 'w') as f:\n",
    "    json.dump(config, f, indent=2)\n",
    "\n",
    "print(f\"✅ Configuration saved to: {config_file}\")\n",
    "print(f\"\\nGenerated config:\")\n",
    "print(json.dumps(config, indent=2))"
   ]
  },
  {
   "cell_type": "code",
   "execution_count": null,
   "id": "af23a3c0",
   "metadata": {},
   "outputs": [],
   "source": []
  }
 ],
 "metadata": {
  "kernelspec": {
   "display_name": "rct-lean-blx",
   "language": "python",
   "name": "python3"
  },
  "language_info": {
   "codemirror_mode": {
    "name": "ipython",
    "version": 3
   },
   "file_extension": ".py",
   "mimetype": "text/x-python",
   "name": "python",
   "nbconvert_exporter": "python",
   "pygments_lexer": "ipython3",
   "version": "3.12.10"
  }
 },
 "nbformat": 4,
 "nbformat_minor": 5
}
